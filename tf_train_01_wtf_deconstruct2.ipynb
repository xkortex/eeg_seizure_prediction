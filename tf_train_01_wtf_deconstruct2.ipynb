{
 "cells": [
  {
   "cell_type": "code",
   "execution_count": 1,
   "metadata": {
    "collapsed": false
   },
   "outputs": [],
   "source": [
    "%matplotlib inline"
   ]
  },
  {
   "cell_type": "code",
   "execution_count": 187,
   "metadata": {
    "collapsed": false
   },
   "outputs": [],
   "source": [
    "from __future__ import print_function, division\n",
    "import os, sys\n",
    "import numpy as np, scipy as sp, pandas as pd\n",
    "import scipy.io\n",
    "import scipy.signal as signal, scipy.fftpack as ftpk, scipy.integrate as integrate, scipy.interpolate as interpolate\n",
    "import matplotlib.pyplot as plt\n",
    "import matplotlib\n",
    "# import tensorflow as tf\n",
    "# import tflearn\n",
    "from sklearn import linear_model as lm, neural_network as nn\n",
    "from sklearn import preprocessing as preproc\n",
    "\n",
    "original_dir = os.getcwd()"
   ]
  },
  {
   "cell_type": "code",
   "execution_count": 3,
   "metadata": {
    "collapsed": true
   },
   "outputs": [],
   "source": [
    "PLOT=True"
   ]
  },
  {
   "cell_type": "code",
   "execution_count": 4,
   "metadata": {
    "collapsed": false
   },
   "outputs": [],
   "source": [
    "e = np.exp(1)\n",
    "pi = np.pi\n",
    "pii = np.pi*1j\n",
    "twopi = np.pi * 2\n",
    "SR=400"
   ]
  },
  {
   "cell_type": "code",
   "execution_count": 5,
   "metadata": {
    "collapsed": false
   },
   "outputs": [],
   "source": [
    "import pywt\n",
    "# import pyhht"
   ]
  },
  {
   "cell_type": "code",
   "execution_count": 6,
   "metadata": {
    "collapsed": false
   },
   "outputs": [],
   "source": [
    "from imp import reload\n",
    "import glob"
   ]
  },
  {
   "cell_type": "code",
   "execution_count": 8,
   "metadata": {
    "collapsed": false
   },
   "outputs": [
    {
     "name": "stdout",
     "output_type": "stream",
     "text": [
      "/home/mm/py/kaggle\n"
     ]
    },
    {
     "data": {
      "text/plain": [
       "<matplotlib.figure.Figure at 0x7fb64a473c50>"
      ]
     },
     "metadata": {},
     "output_type": "display_data"
    }
   ],
   "source": [
    "# os.chdir(original_dir + '/..')\n",
    "os.chdir('/home/mm/py/kaggle/')\n",
    "print(os.getcwd())\n",
    "from eegkaggle.vectorizers import naive, spectral\n",
    "from eegkaggle.dio import dataio\n",
    "from eegkaggle.plotting import plotstuff\n",
    "from eegkaggle.msignal import wavelets, metrics, auxfilter, msig"
   ]
  },
  {
   "cell_type": "code",
   "execution_count": 214,
   "metadata": {
    "collapsed": false
   },
   "outputs": [
    {
     "data": {
      "text/plain": [
       "<module 'eegkaggle.dio.dataio' from 'eegkaggle/dio/dataio.py'>"
      ]
     },
     "execution_count": 214,
     "metadata": {},
     "output_type": "execute_result"
    },
    {
     "data": {
      "text/plain": [
       "<matplotlib.figure.Figure at 0x7fb6324beb10>"
      ]
     },
     "metadata": {},
     "output_type": "display_data"
    }
   ],
   "source": [
    "reload(plotstuff)\n",
    "reload(dataio)"
   ]
  },
  {
   "cell_type": "code",
   "execution_count": 215,
   "metadata": {
    "collapsed": true
   },
   "outputs": [],
   "source": [
    "matplotlib.style.use('ggplot')"
   ]
  },
  {
   "cell_type": "code",
   "execution_count": 216,
   "metadata": {
    "collapsed": false
   },
   "outputs": [],
   "source": [
    "ssmall,smed, slarge, slong = (4,3), (8,6), (16,12), (16,4)\n",
    "matplotlib.rcParams['figure.figsize'] = smed"
   ]
  },
  {
   "cell_type": "markdown",
   "metadata": {},
   "source": [
    "Functions"
   ]
  },
  {
   "cell_type": "code",
   "execution_count": 222,
   "metadata": {
    "collapsed": false
   },
   "outputs": [],
   "source": [
    "def janky_subdiv(data, start=0, subdiv=64, chanVecSize=1024, nChan=16):\n",
    "    if data.ndim == 3:\n",
    "        return data[:,start::subdiv,:].reshape(-1,chanVecSize*nChan//subdiv)\n",
    "    elif data.ndim == 2:\n",
    "        raise NotImplementedError('dont use this')\n",
    "        return data[:,start::subdiv]\n",
    "    else:\n",
    "        raise NotImplementedError(\"d'oh!\")\n",
    "        \n",
    "class QuasiRobustScaler(object):\n",
    "    def __init__(self, X=None, Y=None, normGlobal=True):\n",
    "        pass\n",
    "    def fit_transform(X, Y=None, normGlobal=True):\n",
    "        pass\n",
    "        "
   ]
  },
  {
   "cell_type": "markdown",
   "metadata": {},
   "source": [
    "Data loading section"
   ]
  },
  {
   "cell_type": "code",
   "execution_count": 223,
   "metadata": {
    "collapsed": false
   },
   "outputs": [
    {
     "name": "stdout",
     "output_type": "stream",
     "text": [
      "(6041, 1024, 16) (1908, 1024, 16)\n"
     ]
    }
   ],
   "source": [
    "basedir = '/home/mm/data/vectors/'\n",
    "data_train = np.load(basedir + 'vec_1478816228.31.npy')\n",
    "names_train = pd.read_csv(basedir + 'vec_1478816228.31_name.csv')\n",
    "data_test = np.load(basedir + 'vec_1478825795.45.npy')\n",
    "names_test = pd.read_csv(basedir + 'vec_1478825795.45_name.csv')\n",
    "print(data_train.shape, data_test.shape)"
   ]
  },
  {
   "cell_type": "code",
   "execution_count": 224,
   "metadata": {
    "collapsed": false
   },
   "outputs": [],
   "source": [
    "data_train = np.nan_to_num(data_train)\n",
    "data_test = np.nan_to_num(data_test)"
   ]
  },
  {
   "cell_type": "code",
   "execution_count": 225,
   "metadata": {
    "collapsed": false
   },
   "outputs": [
    {
     "name": "stdout",
     "output_type": "stream",
     "text": [
      "(6041, 3) 0.0743254428075\n"
     ]
    },
    {
     "data": {
      "text/html": [
       "<div>\n",
       "<table border=\"1\" class=\"dataframe\">\n",
       "  <thead>\n",
       "    <tr style=\"text-align: right;\">\n",
       "      <th></th>\n",
       "      <th>Unnamed: 0</th>\n",
       "      <th>path</th>\n",
       "      <th>label</th>\n",
       "    </tr>\n",
       "  </thead>\n",
       "  <tbody>\n",
       "    <tr>\n",
       "      <th>0</th>\n",
       "      <td>0</td>\n",
       "      <td>/media/mike/Elements/data/kaggle/melbourne/tra...</td>\n",
       "      <td>0</td>\n",
       "    </tr>\n",
       "    <tr>\n",
       "      <th>1</th>\n",
       "      <td>1</td>\n",
       "      <td>/media/mike/Elements/data/kaggle/melbourne/tra...</td>\n",
       "      <td>0</td>\n",
       "    </tr>\n",
       "    <tr>\n",
       "      <th>2</th>\n",
       "      <td>2</td>\n",
       "      <td>/media/mike/Elements/data/kaggle/melbourne/tra...</td>\n",
       "      <td>0</td>\n",
       "    </tr>\n",
       "    <tr>\n",
       "      <th>3</th>\n",
       "      <td>3</td>\n",
       "      <td>/media/mike/Elements/data/kaggle/melbourne/tra...</td>\n",
       "      <td>0</td>\n",
       "    </tr>\n",
       "    <tr>\n",
       "      <th>4</th>\n",
       "      <td>4</td>\n",
       "      <td>/media/mike/Elements/data/kaggle/melbourne/tra...</td>\n",
       "      <td>0</td>\n",
       "    </tr>\n",
       "  </tbody>\n",
       "</table>\n",
       "</div>"
      ],
      "text/plain": [
       "   Unnamed: 0                                               path  label\n",
       "0           0  /media/mike/Elements/data/kaggle/melbourne/tra...      0\n",
       "1           1  /media/mike/Elements/data/kaggle/melbourne/tra...      0\n",
       "2           2  /media/mike/Elements/data/kaggle/melbourne/tra...      0\n",
       "3           3  /media/mike/Elements/data/kaggle/melbourne/tra...      0\n",
       "4           4  /media/mike/Elements/data/kaggle/melbourne/tra...      0"
      ]
     },
     "execution_count": 225,
     "metadata": {},
     "output_type": "execute_result"
    }
   ],
   "source": [
    "names_train['label'] = [ int(name[-5]) for name in names_train['path']]\n",
    "print(names_train.shape, names_train['label'].mean())\n",
    "names_train.head()"
   ]
  },
  {
   "cell_type": "code",
   "execution_count": 226,
   "metadata": {
    "collapsed": false
   },
   "outputs": [
    {
     "name": "stdout",
     "output_type": "stream",
     "text": [
      "(6041,) 0.925674557193\n"
     ]
    },
    {
     "data": {
      "text/plain": [
       "0    True\n",
       "1    True\n",
       "2    True\n",
       "3    True\n",
       "4    True\n",
       "Name: label, dtype: bool"
      ]
     },
     "execution_count": 226,
     "metadata": {},
     "output_type": "execute_result"
    }
   ],
   "source": [
    "name_mask = names_train['label'] == 0\n",
    "name_mask1 = ~name_mask # not necessary, I just goof'd\n",
    "print(name_mask.shape, name_mask.mean())\n",
    "name_mask.head()"
   ]
  },
  {
   "cell_type": "code",
   "execution_count": 227,
   "metadata": {
    "collapsed": false
   },
   "outputs": [],
   "source": [
    "# this section is suspect\n",
    "# d0 = data_train * name_mask.reshape([6041,1,1])\n",
    "# d1 = data_train* ~name_mask.reshape([6041,1,1])\n",
    "# n0, n1 = np.count_nonzero(d0[:,512,0]), np.count_nonzero(d1[:,512,0])\n",
    "# print(n0, n1)"
   ]
  },
  {
   "cell_type": "code",
   "execution_count": 228,
   "metadata": {
    "collapsed": false
   },
   "outputs": [],
   "source": [
    "# if PLOT: plt.plot(np.mean(np.mean(data_train, axis=2)==0, axis=1))"
   ]
  },
  {
   "cell_type": "code",
   "execution_count": 229,
   "metadata": {
    "collapsed": false
   },
   "outputs": [
    {
     "data": {
      "text/plain": [
       "'Average (LOGT) power by channel'"
      ]
     },
     "execution_count": 229,
     "metadata": {},
     "output_type": "execute_result"
    },
    {
     "data": {
      "image/png": "[encoded data removed]",
      "text/plain": [
       "<matplotlib.figure.Figure at 0x7fb632567110>"
      ]
     },
     "metadata": {},
     "output_type": "display_data"
    }
   ],
   "source": [
    "if PLOT: plt.plot(np.mean(data_train, axis=0))\n",
    "'Average (LOGT) power by channel'"
   ]
  },
  {
   "cell_type": "code",
   "execution_count": 230,
   "metadata": {
    "collapsed": false
   },
   "outputs": [
    {
     "name": "stdout",
     "output_type": "stream",
     "text": [
      "name not loaded\n"
     ]
    },
    {
     "data": {
      "text/plain": [
       "'data set 0 vs 1'"
      ]
     },
     "execution_count": 230,
     "metadata": {},
     "output_type": "execute_result"
    }
   ],
   "source": [
    "try:\n",
    "    if PLOT: plt.plot(np.sum(d0, axis=0) / n0, c='k')\n",
    "    if PLOT: plt.plot(np.sum(d1, axis=0) / n1, c='r')\n",
    "except NameError:\n",
    "    print('name not loaded')\n",
    "'data set 0 vs 1'\n"
   ]
  },
  {
   "cell_type": "code",
   "execution_count": 231,
   "metadata": {
    "collapsed": false
   },
   "outputs": [
    {
     "name": "stdout",
     "output_type": "stream",
     "text": [
      "name not loaded\n"
     ]
    }
   ],
   "source": [
    "try:\n",
    "    if PLOT: plt.plot(np.mean(np.sum(d0, axis=0) / n0, axis=1), c='k')\n",
    "    if PLOT: plt.plot(np.mean(np.sum(d1, axis=0) / n1, axis=1), c='r')\n",
    "except NameError:\n",
    "    print('name not loaded')"
   ]
  },
  {
   "cell_type": "markdown",
   "metadata": {
    "collapsed": true
   },
   "source": [
    "# NICE!"
   ]
  },
  {
   "cell_type": "code",
   "execution_count": 334,
   "metadata": {
    "collapsed": false
   },
   "outputs": [
    {
     "name": "stdout",
     "output_type": "stream",
     "text": [
      "(6041, 256) (1908, 256)\n",
      "0.192916789559\n"
     ]
    }
   ],
   "source": [
    " # avg along electrodes\n",
    "# simple_dtrain = np.mean(data_train, axis=2)\n",
    "# simple_dtest = np.mean(data_test, axis=2)\n",
    "subdiv = 64\n",
    "simple_dtrain = data_train[:,::subdiv,:].reshape(-1,1024*16//subdiv)\n",
    "simple_dtest = data_test[:,::subdiv,:].reshape(-1,1024*16//subdiv)\n",
    "simple_dtrain = janky_subdiv(data_train, start=1)\n",
    "simple_dtest = janky_subdiv(data_test, start=2)\n",
    "simple_dtrain2 = janky_subdiv(data_train)\n",
    "simple_dtest2 = janky_subdiv(data_test)\n",
    "#insane sanity checking \n",
    "\n",
    "## THIS IS VERY SUSPECT\n",
    "# Normalize ghetto style\n",
    "\n",
    "# mean = np.array(np.median(simple_dtrain)) # deliberately not normalizing feature-wise\n",
    "# std = np.array(np.std(simple_dtrain))\n",
    "# simple_dtrain = simple_dtrain - mean\n",
    "# simple_dtest = simple_dtest - std\n",
    "# simple_dtrain = simple_dtrain / std \n",
    "# simple_dtest = simple_dtest / std\n",
    "\n",
    "simple_dtrain2 = simple_dtrain2 - mean\n",
    "simple_dtest2 = simple_dtest2 - std\n",
    "simple_dtrain2 = simple_dtrain2 / std \n",
    "simple_dtest2 = simple_dtest2 / std\n",
    "\n",
    "# homemade scaler\n",
    "normo = dataio.NormOMatic(centerMode='med', normGlobal=True)\n",
    "normo.fit(simple_dtrain)\n",
    "simple_dtrain = normo.transform(simple_dtrain)\n",
    "simple_dtest = normo.transform(simple_dtest)\n",
    "\n",
    "# normo = preproc.RobustScaler()\n",
    "\n",
    "print(simple_dtrain.shape, simple_dtest.shape)\n",
    "print(np.mean(simple_dtrain))"
   ]
  },
  {
   "cell_type": "code",
   "execution_count": 335,
   "metadata": {
    "collapsed": false
   },
   "outputs": [],
   "source": [
    "# plt.plot(np.mean(simple_dtrain, axis=0))\n",
    "# plt.plot(np.mean(simple_dtrain2, axis=0))"
   ]
  },
  {
   "cell_type": "code",
   "execution_count": 336,
   "metadata": {
    "collapsed": false
   },
   "outputs": [],
   "source": [
    "# plt.plot(np.mean(simple_dtrain, axis=0)/np.mean(simple_dtrain2, axis=0))"
   ]
  },
  {
   "cell_type": "code",
   "execution_count": 337,
   "metadata": {
    "collapsed": false
   },
   "outputs": [
    {
     "name": "stdout",
     "output_type": "stream",
     "text": [
      "(6041, 2)\n"
     ]
    }
   ],
   "source": [
    "y = np.vstack([name_mask, ~name_mask]).T # label vector will be (N, S), N hot for 'no seiz', S hot for 'seize'\n",
    "print(y.shape)"
   ]
  },
  {
   "cell_type": "code",
   "execution_count": 338,
   "metadata": {
    "collapsed": false
   },
   "outputs": [
    {
     "data": {
      "text/plain": [
       "(6041, 258)"
      ]
     },
     "execution_count": 338,
     "metadata": {},
     "output_type": "execute_result"
    }
   ],
   "source": [
    "dtrain_set = np.concatenate([simple_dtrain, y], axis=1)\n",
    "dtrain_set.shape"
   ]
  },
  {
   "cell_type": "code",
   "execution_count": 339,
   "metadata": {
    "collapsed": false
   },
   "outputs": [],
   "source": [
    "dframe = pd.DataFrame(dtrain_set)"
   ]
  },
  {
   "cell_type": "code",
   "execution_count": 340,
   "metadata": {
    "collapsed": false
   },
   "outputs": [
    {
     "name": "stdout",
     "output_type": "stream",
     "text": [
      "(5592, 258) (449, 258)\n"
     ]
    }
   ],
   "source": [
    "d0 = dframe[dframe.iloc[:,-1] == 0]\n",
    "d1 = dframe[dframe.iloc[:,-1] == 1]\n",
    "print(d0.shape, d1.shape)\n",
    "nfalse, nhit = d0.shape[0], d1.shape[0]"
   ]
  },
  {
   "cell_type": "code",
   "execution_count": 341,
   "metadata": {
    "collapsed": false
   },
   "outputs": [
    {
     "name": "stdout",
     "output_type": "stream",
     "text": [
      "(449, 258)\n"
     ]
    }
   ],
   "source": [
    "# randomly picks the zero datas... i think. the continuity may be essential\n",
    "offset = np.random.randint(0, nfalse-nhit-1)\n",
    "d0b = d0[offset:offset+nhit]\n",
    "print(d0b.shape)"
   ]
  },
  {
   "cell_type": "code",
   "execution_count": 342,
   "metadata": {
    "collapsed": false
   },
   "outputs": [
    {
     "data": {
      "text/plain": [
       "array([[-0.72249266, -0.09354492, -0.15162856, ..., -0.93568862,\n",
       "         0.        ,  1.        ],\n",
       "       [-0.99188947, -0.05481912, -0.00417745, ..., -0.93635495,\n",
       "         0.        ,  1.        ],\n",
       "       [-0.70011188, -0.04322027,  0.97377749, ..., -0.93589594,\n",
       "         0.        ,  1.        ],\n",
       "       ..., \n",
       "       [-3.03524188, -0.96249792, -0.20170393, ..., -0.91910509,\n",
       "         0.        ,  1.        ],\n",
       "       [-1.71893668, -0.62503909,  0.036644  , ..., -0.91812655,\n",
       "         0.        ,  1.        ],\n",
       "       [-0.81207969, -0.48667838, -0.9226673 , ..., -0.92109658,\n",
       "         0.        ,  1.        ]])"
      ]
     },
     "execution_count": 342,
     "metadata": {},
     "output_type": "execute_result"
    }
   ],
   "source": [
    "d0b_ = d0b.as_matrix()\n",
    "d1_ = d1.as_matrix()\n",
    "\n",
    "d1_"
   ]
  },
  {
   "cell_type": "code",
   "execution_count": 343,
   "metadata": {
    "collapsed": false
   },
   "outputs": [
    {
     "data": {
      "text/plain": [
       "0.1109982521229702"
      ]
     },
     "execution_count": 343,
     "metadata": {},
     "output_type": "execute_result"
    }
   ],
   "source": [
    "np.mean(simple_dtest, axis=None)"
   ]
  },
  {
   "cell_type": "markdown",
   "metadata": {},
   "source": [
    "### Shuffle and shit"
   ]
  },
  {
   "cell_type": "code",
   "execution_count": 344,
   "metadata": {
    "collapsed": false
   },
   "outputs": [
    {
     "name": "stdout",
     "output_type": "stream",
     "text": [
      "new_set: (898, 258)\n",
      "0.503340757238\n",
      "(898, 256)\n",
      "0.503340757238\n"
     ]
    }
   ],
   "source": [
    "subdiv_vec =1\n",
    "new_set = np.concatenate([d0b_, d1_], axis=0)\n",
    "print('new_set:',new_set.shape)\n",
    "np.random.shuffle(new_set)\n",
    "print(np.mean(new_set[:nhit,-1]))\n",
    "simple_dtrain= new_set[:,:-2]\n",
    "simple_dtrain_lab = new_set[:,-1]\n",
    "simple_dtrain = simple_dtrain[:,::subdiv_vec]\n",
    "print(simple_dtrain.shape)\n",
    "print(np.mean(simple_dtrain_lab[:nhit]))\n"
   ]
  },
  {
   "cell_type": "code",
   "execution_count": 345,
   "metadata": {
    "collapsed": false
   },
   "outputs": [],
   "source": [
    "n = 1\n",
    "# plt.plot(simple_dtrain[n])\n",
    "# plt.plot(simple_dtest[n])"
   ]
  },
  {
   "cell_type": "code",
   "execution_count": 346,
   "metadata": {
    "collapsed": false
   },
   "outputs": [
    {
     "name": "stdout",
     "output_type": "stream",
     "text": [
      "673\n",
      "simple_dtrain: (898, 256)\n"
     ]
    }
   ],
   "source": [
    "# Parition the data into training and evaluation sets\n",
    "partition = 3*simple_dtrain.shape[0] // 4\n",
    "print(partition)\n",
    "print('simple_dtrain:', simple_dtrain.shape)\n",
    "X=simple_dtrain[:partition]\n",
    "Y=simple_dtrain_lab[:partition]\n",
    "Xv=simple_dtrain[partition:]\n",
    "Yv=simple_dtrain_lab[partition:]\n",
    "G=simple_dtest\n"
   ]
  },
  {
   "cell_type": "code",
   "execution_count": 347,
   "metadata": {
    "collapsed": false
   },
   "outputs": [
    {
     "name": "stdout",
     "output_type": "stream",
     "text": [
      "(673,) 0.512630014859 0.462222222222\n",
      "(673, 256) (673,) (225, 256) (225,)\n"
     ]
    }
   ],
   "source": [
    "print(Y.shape, np.mean(Y), np.mean(Yv))\n",
    "print(X.shape, Y.shape, Xv.shape, Yv.shape)"
   ]
  },
  {
   "cell_type": "code",
   "execution_count": 348,
   "metadata": {
    "collapsed": false
   },
   "outputs": [],
   "source": [
    "# assert 0 # break point"
   ]
  },
  {
   "cell_type": "code",
   "execution_count": 349,
   "metadata": {
    "collapsed": false
   },
   "outputs": [],
   "source": [
    "# plt.plot(np.mean(X, axis=0))\n",
    "# plt.plot(np.mean(Xv, axis=0))"
   ]
  },
  {
   "cell_type": "code",
   "execution_count": 350,
   "metadata": {
    "collapsed": false
   },
   "outputs": [],
   "source": [
    "# a = np.mean(X[:,:128], axis=1)\n",
    "# b = np.mean(X[:,128:], axis=1)\n",
    "# c = np.mean(Xv[:,:128], axis=1)\n",
    "# d = np.mean(Xv[:,128:], axis=1)\n",
    "# e = np.mean(G[:,:128], axis=1)\n",
    "# f = np.mean(G[:,128:], axis=1)\n",
    "# print(a.shape, b.shape)\n",
    "# plt.scatter(a ,b,)\n",
    "# plt.scatter(c, d, c='r', s=5, edgecolor='none')\n",
    "# plt.scatter(e, f, c='g', s=5, edgecolor='none')"
   ]
  },
  {
   "cell_type": "code",
   "execution_count": 351,
   "metadata": {
    "collapsed": true
   },
   "outputs": [],
   "source": [
    "perc = lm.Perceptron()"
   ]
  },
  {
   "cell_type": "code",
   "execution_count": 352,
   "metadata": {
    "collapsed": false
   },
   "outputs": [],
   "source": [
    "cut = 250\n",
    "sl = 2\n",
    "kf = 4\n",
    "X1, Y1 = X[::kf,:cut:sl], Y[::kf]\n",
    "X2, Y2 = X[1::kf,:cut:sl], Y[1::kf]\n",
    "G0 = G[:, :cut:sl]"
   ]
  },
  {
   "cell_type": "code",
   "execution_count": 353,
   "metadata": {
    "collapsed": false
   },
   "outputs": [
    {
     "name": "stdout",
     "output_type": "stream",
     "text": [
      "(169, 125) (169,) (1908, 125) 0.512630014859\n",
      "0.0692132127625 0.0814098359097 0.881446930299 0.881446930299\n",
      "0.109919265619 0.067689121602 0.849397558274 0.833159533201\n"
     ]
    },
    {
     "data": {
      "text/plain": [
       "Perceptron(alpha=0.0001, class_weight=None, eta0=1.0, fit_intercept=True,\n",
       "      n_iter=5, n_jobs=1, penalty=None, random_state=0, shuffle=True,\n",
       "      verbose=0, warm_start=False)"
      ]
     },
     "execution_count": 353,
     "metadata": {},
     "output_type": "execute_result"
    }
   ],
   "source": [
    "print(X1.shape, Y1.shape, G0.shape, np.mean(Y, axis=0))\n",
    "print(np.mean(X,), np.mean(Xv), np.std(Xv, ), np.std(Xv, ), )\n",
    "print(np.mean(X1,), np.mean(X2), np.std(X1, ), np.std(X2, ), )\n",
    "\n",
    "perc.fit(X1, Y1)"
   ]
  },
  {
   "cell_type": "code",
   "execution_count": 354,
   "metadata": {
    "collapsed": false
   },
   "outputs": [
    {
     "name": "stdout",
     "output_type": "stream",
     "text": [
      "0.857777777778 0.462222222222\n"
     ]
    }
   ],
   "source": [
    "print( perc.score(Xv[:,:cut:sl], Yv), np.mean(Yv, axis=0))"
   ]
  },
  {
   "cell_type": "code",
   "execution_count": 355,
   "metadata": {
    "collapsed": false
   },
   "outputs": [
    {
     "name": "stdout",
     "output_type": "stream",
     "text": [
      "0.887573964497 0.462222222222\n",
      "0.809523809524 0.462222222222\n"
     ]
    }
   ],
   "source": [
    "print( perc.score(X1, Y1), np.mean(Yv, axis=0))\n",
    "print( perc.score(X2, Y2), np.mean(Yv, axis=0))"
   ]
  },
  {
   "cell_type": "code",
   "execution_count": 356,
   "metadata": {
    "collapsed": false
   },
   "outputs": [
    {
     "name": "stdout",
     "output_type": "stream",
     "text": [
      "Expected: 0.5: 0.422619047619\n"
     ]
    }
   ],
   "source": [
    "pr = perc.predict(X2)\n",
    "print('Expected: 0.5:',pr.mean())"
   ]
  },
  {
   "cell_type": "markdown",
   "metadata": {},
   "source": [
    "# VALIDATION"
   ]
  },
  {
   "cell_type": "code",
   "execution_count": 357,
   "metadata": {
    "collapsed": false
   },
   "outputs": [
    {
     "name": "stdout",
     "output_type": "stream",
     "text": [
      "VALIDATION:  0.809523809524\n"
     ]
    }
   ],
   "source": [
    "print('VALIDATION: ', np.mean(pr == Y2))"
   ]
  },
  {
   "cell_type": "code",
   "execution_count": null,
   "metadata": {
    "collapsed": true
   },
   "outputs": [],
   "source": []
  },
  {
   "cell_type": "code",
   "execution_count": null,
   "metadata": {
    "collapsed": true
   },
   "outputs": [],
   "source": []
  },
  {
   "cell_type": "code",
   "execution_count": null,
   "metadata": {
    "collapsed": true
   },
   "outputs": [],
   "source": []
  },
  {
   "cell_type": "code",
   "execution_count": null,
   "metadata": {
    "collapsed": true
   },
   "outputs": [],
   "source": [
    "names_test['guess'] = pd.Series(pr)"
   ]
  },
  {
   "cell_type": "code",
   "execution_count": null,
   "metadata": {
    "collapsed": false
   },
   "outputs": [],
   "source": [
    "names_test['File'] = [os.path.basename(name) for name in names_test['path']]"
   ]
  },
  {
   "cell_type": "code",
   "execution_count": null,
   "metadata": {
    "collapsed": false
   },
   "outputs": [],
   "source": [
    "names_test.to_csv('guess11_10_perc.csv')"
   ]
  },
  {
   "cell_type": "code",
   "execution_count": null,
   "metadata": {
    "collapsed": false
   },
   "outputs": [],
   "source": [
    "ls"
   ]
  },
  {
   "cell_type": "markdown",
   "metadata": {},
   "source": [
    "# SKLearn MLP"
   ]
  },
  {
   "cell_type": "code",
   "execution_count": null,
   "metadata": {
    "collapsed": true
   },
   "outputs": [],
   "source": [
    "mlp = nn.MLPClassifier(hidden_layer_sizes=(256,32,256,32), activation='relu', warm_start=1)"
   ]
  },
  {
   "cell_type": "code",
   "execution_count": null,
   "metadata": {
    "collapsed": false
   },
   "outputs": [],
   "source": [
    "mlp.fit(X, Y)\n",
    "mlp.score(Xv, Yv)"
   ]
  },
  {
   "cell_type": "code",
   "execution_count": null,
   "metadata": {
    "collapsed": false
   },
   "outputs": [],
   "source": [
    "pr = mlp.predict(simple_dtest)\n",
    "print(pr.mean())"
   ]
  },
  {
   "cell_type": "code",
   "execution_count": null,
   "metadata": {
    "collapsed": false
   },
   "outputs": [],
   "source": [
    "names_test['Class'] = pd.Series(pr)\n",
    "names_test['File'] = [os.path.basename(name) for name in names_test['path']]"
   ]
  },
  {
   "cell_type": "code",
   "execution_count": null,
   "metadata": {
    "collapsed": false
   },
   "outputs": [],
   "source": [
    "assert 0, 'woah doggies'"
   ]
  },
  {
   "cell_type": "code",
   "execution_count": null,
   "metadata": {
    "collapsed": false
   },
   "outputs": [],
   "source": [
    "guessfile = names_test[['File', 'Class']]\n",
    "guessfile.to_csv('guess11_10_mlp_256.csv', index=False)"
   ]
  },
  {
   "cell_type": "code",
   "execution_count": null,
   "metadata": {
    "collapsed": true
   },
   "outputs": [],
   "source": []
  }
 ],
 "metadata": {
  "kernelspec": {
   "display_name": "Python 2",
   "language": "python",
   "name": "python2"
  },
  "language_info": {
   "codemirror_mode": {
    "name": "ipython",
    "version": 2
   },
   "file_extension": ".py",
   "mimetype": "text/x-python",
   "name": "python",
   "nbconvert_exporter": "python",
   "pygments_lexer": "ipython2",
   "version": "2.7.12"
  }
 },
 "nbformat": 4,
 "nbformat_minor": 0
}
