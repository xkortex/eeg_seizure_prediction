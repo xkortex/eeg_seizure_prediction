{
 "cells": [
  {
   "cell_type": "code",
   "execution_count": 1,
   "metadata": {
    "collapsed": false
   },
   "outputs": [],
   "source": [
    "%matplotlib inline"
   ]
  },
  {
   "cell_type": "code",
   "execution_count": 2,
   "metadata": {
    "collapsed": false
   },
   "outputs": [
    {
     "ename": "ImportError",
     "evalue": "No module named tensorflow",
     "output_type": "error",
     "traceback": [
      "\u001b[0;31m---------------------------------------------------------------------------\u001b[0m",
      "\u001b[0;31mImportError\u001b[0m                               Traceback (most recent call last)",
      "\u001b[0;32m<ipython-input-2-fdfa40d52096>\u001b[0m in \u001b[0;36m<module>\u001b[0;34m()\u001b[0m\n\u001b[1;32m      6\u001b[0m \u001b[0;32mimport\u001b[0m \u001b[0mmatplotlib\u001b[0m\u001b[0;34m.\u001b[0m\u001b[0mpyplot\u001b[0m \u001b[0;32mas\u001b[0m \u001b[0mplt\u001b[0m\u001b[0;34m\u001b[0m\u001b[0m\n\u001b[1;32m      7\u001b[0m \u001b[0;32mimport\u001b[0m \u001b[0mmatplotlib\u001b[0m\u001b[0;34m\u001b[0m\u001b[0m\n\u001b[0;32m----> 8\u001b[0;31m \u001b[0;32mimport\u001b[0m \u001b[0mtensorflow\u001b[0m \u001b[0;32mas\u001b[0m \u001b[0mtf\u001b[0m\u001b[0;34m\u001b[0m\u001b[0m\n\u001b[0m\u001b[1;32m      9\u001b[0m \u001b[0;32mimport\u001b[0m \u001b[0mtflearn\u001b[0m\u001b[0;34m\u001b[0m\u001b[0m\n\u001b[1;32m     10\u001b[0m \u001b[0;32mfrom\u001b[0m \u001b[0msklearn\u001b[0m \u001b[0;32mimport\u001b[0m \u001b[0mlinear_model\u001b[0m \u001b[0;32mas\u001b[0m \u001b[0mlm\u001b[0m\u001b[0;34m,\u001b[0m \u001b[0mneural_network\u001b[0m \u001b[0;32mas\u001b[0m \u001b[0mnn\u001b[0m\u001b[0;34m\u001b[0m\u001b[0m\n",
      "\u001b[0;31mImportError\u001b[0m: No module named tensorflow"
     ]
    }
   ],
   "source": [
    "from __future__ import print_function, division\n",
    "import os, sys\n",
    "import numpy as np, scipy as sp, pandas as pd\n",
    "import scipy.io\n",
    "import scipy.signal as signal, scipy.fftpack as ftpk, scipy.integrate as integrate, scipy.interpolate as interpolate\n",
    "import matplotlib.pyplot as plt\n",
    "import matplotlib\n",
    "# import tensorflow as tf\n",
    "# import tflearn\n",
    "from sklearn import linear_model as lm, neural_network as nn\n",
    "\n",
    "original_dir = os.getcwd()"
   ]
  },
  {
   "cell_type": "code",
   "execution_count": null,
   "metadata": {
    "collapsed": true
   },
   "outputs": [],
   "source": [
    "PLOT=True"
   ]
  },
  {
   "cell_type": "code",
   "execution_count": null,
   "metadata": {
    "collapsed": false
   },
   "outputs": [],
   "source": [
    "e = np.exp(1)\n",
    "pi = np.pi\n",
    "pii = np.pi*1j\n",
    "twopi = np.pi * 2\n",
    "SR=400"
   ]
  },
  {
   "cell_type": "code",
   "execution_count": null,
   "metadata": {
    "collapsed": false
   },
   "outputs": [],
   "source": [
    "import pywt\n",
    "# import pyhht"
   ]
  },
  {
   "cell_type": "code",
   "execution_count": null,
   "metadata": {
    "collapsed": false
   },
   "outputs": [],
   "source": [
    "from imp import reload\n",
    "import glob"
   ]
  },
  {
   "cell_type": "code",
   "execution_count": null,
   "metadata": {
    "collapsed": false
   },
   "outputs": [],
   "source": [
    "# os.chdir(original_dir + '/..')\n",
    "os.chdir('/home/mike/ve/ml/')\n",
    "print(os.getcwd())\n",
    "from eegkaggle.vectorizers import naive, spectral\n",
    "from eegkaggle.dio import dataio\n",
    "from eegkaggle.plotting import plotstuff\n",
    "from eegkaggle.msignal import wavelets, metrics, auxfilter, msig"
   ]
  },
  {
   "cell_type": "code",
   "execution_count": null,
   "metadata": {
    "collapsed": false
   },
   "outputs": [],
   "source": [
    "reload(plotstuff)\n",
    "reload(dataio)"
   ]
  },
  {
   "cell_type": "code",
   "execution_count": null,
   "metadata": {
    "collapsed": true
   },
   "outputs": [],
   "source": [
    "matplotlib.style.use('ggplot')"
   ]
  },
  {
   "cell_type": "code",
   "execution_count": null,
   "metadata": {
    "collapsed": false
   },
   "outputs": [],
   "source": [
    "ssmall,smed, slarge, slong = (4,3), (8,6), (16,12), (16,4)\n",
    "matplotlib.rcParams['figure.figsize'] = smed"
   ]
  },
  {
   "cell_type": "markdown",
   "metadata": {},
   "source": [
    "Functions"
   ]
  },
  {
   "cell_type": "markdown",
   "metadata": {},
   "source": [
    "Data loading section"
   ]
  },
  {
   "cell_type": "code",
   "execution_count": null,
   "metadata": {
    "collapsed": false
   },
   "outputs": [],
   "source": [
    "basedir = '/home/mm/data/vectors/'\n",
    "data_train = np.load(basedir + 'vec_1478816228.31.npy')\n",
    "names_train = pd.read_csv(basedir + 'vec_1478816228.31_name.csv')\n",
    "data_test = np.load(basedir + 'vec_1478825795.45.npy')\n",
    "names_test = pd.read_csv(basedir + 'vec_1478825795.45_name.csv')\n",
    "print(data_train.shape, data_test.shape)"
   ]
  },
  {
   "cell_type": "code",
   "execution_count": null,
   "metadata": {
    "collapsed": false
   },
   "outputs": [],
   "source": [
    "data_train = np.nan_to_num(data_train)\n",
    "data_test = np.nan_to_num(data_test)"
   ]
  },
  {
   "cell_type": "code",
   "execution_count": null,
   "metadata": {
    "collapsed": false
   },
   "outputs": [],
   "source": [
    "names_train['label'] = [ int(name[-5]) for name in names_train['path']]\n",
    "print(names_train.shape, names_train['label'].mean())\n",
    "names_train.head()"
   ]
  },
  {
   "cell_type": "code",
   "execution_count": null,
   "metadata": {
    "collapsed": false
   },
   "outputs": [],
   "source": [
    "name_mask = names_train['label'] == 0\n",
    "name_mask1 = ~name_mask # not necessary, I just goof'd\n",
    "print(name_mask.shape, name_mask.mean())\n",
    "name_mask.head()"
   ]
  },
  {
   "cell_type": "code",
   "execution_count": null,
   "metadata": {
    "collapsed": false
   },
   "outputs": [],
   "source": [
    "# this section is suspect\n",
    "# d0 = data_train * name_mask.reshape([6041,1,1])\n",
    "# d1 = data_train* ~name_mask.reshape([6041,1,1])\n",
    "# n0, n1 = np.count_nonzero(d0[:,512,0]), np.count_nonzero(d1[:,512,0])\n",
    "# print(n0, n1)"
   ]
  },
  {
   "cell_type": "code",
   "execution_count": null,
   "metadata": {
    "collapsed": false
   },
   "outputs": [],
   "source": [
    "# if PLOT: plt.plot(np.mean(np.mean(data_train, axis=2)==0, axis=1))"
   ]
  },
  {
   "cell_type": "code",
   "execution_count": null,
   "metadata": {
    "collapsed": false
   },
   "outputs": [],
   "source": [
    "if PLOT: plt.plot(np.mean(data_train, axis=0))\n",
    "'Average (LOGT) power by channel'"
   ]
  },
  {
   "cell_type": "code",
   "execution_count": null,
   "metadata": {
    "collapsed": false
   },
   "outputs": [],
   "source": [
    "try:\n",
    "    if PLOT: plt.plot(np.sum(d0, axis=0) / n0, c='k')\n",
    "    if PLOT: plt.plot(np.sum(d1, axis=0) / n1, c='r')\n",
    "except NameError:\n",
    "    print('name not loaded')\n",
    "'data set 0 vs 1'\n"
   ]
  },
  {
   "cell_type": "code",
   "execution_count": null,
   "metadata": {
    "collapsed": false
   },
   "outputs": [],
   "source": [
    "try:\n",
    "    if PLOT: plt.plot(np.mean(np.sum(d0, axis=0) / n0, axis=1), c='k')\n",
    "    if PLOT: plt.plot(np.mean(np.sum(d1, axis=0) / n1, axis=1), c='r')\n",
    "except NameError:\n",
    "    print('name not loaded')"
   ]
  },
  {
   "cell_type": "markdown",
   "metadata": {
    "collapsed": true
   },
   "source": [
    "# NICE!"
   ]
  },
  {
   "cell_type": "code",
   "execution_count": null,
   "metadata": {
    "collapsed": false
   },
   "outputs": [],
   "source": [
    " # avg along electrodes\n",
    "# simple_dtrain = np.mean(data_train, axis=2)\n",
    "# simple_dtest = np.mean(data_test, axis=2)\n",
    "subdiv = 64\n",
    "simple_dtrain = data_train[:,::subdiv,:].reshape(-1,1024*16//subdiv)\n",
    "simple_dtest = data_test[:,::subdiv,:].reshape(-1,1024*16//subdiv)\n",
    "\n",
    "## THIS IS VERY SUSPECT\n",
    "# Normalize ghetto style\n",
    "\n",
    "mean = np.array(np.mean(simple_dtrain))\n",
    "std = np.array(np.std(simple_dtrain))\n",
    "simple_dtrain = simple_dtrain - mean\n",
    "simple_dtest = simple_dtest - std\n",
    "simple_dtrain = simple_dtrain / std \n",
    "simple_dtest = simple_dtest / std\n",
    "print(simple_dtrain.shape, simple_dtest.shape)"
   ]
  },
  {
   "cell_type": "code",
   "execution_count": null,
   "metadata": {
    "collapsed": false
   },
   "outputs": [],
   "source": [
    "plt.plot(simple_dtrain[3])"
   ]
  },
  {
   "cell_type": "code",
   "execution_count": null,
   "metadata": {
    "collapsed": false
   },
   "outputs": [],
   "source": [
    "y = np.vstack([name_mask, ~name_mask]).T # label vector will be (N, S), N hot for 'no seiz', S hot for 'seize'\n",
    "print(y.shape)"
   ]
  },
  {
   "cell_type": "code",
   "execution_count": null,
   "metadata": {
    "collapsed": false
   },
   "outputs": [],
   "source": [
    "dtrain_set = np.concatenate([simple_dtrain, y], axis=1)\n",
    "dtrain_set.shape"
   ]
  },
  {
   "cell_type": "code",
   "execution_count": null,
   "metadata": {
    "collapsed": false
   },
   "outputs": [],
   "source": [
    "dframe = pd.DataFrame(dtrain_set)"
   ]
  },
  {
   "cell_type": "code",
   "execution_count": null,
   "metadata": {
    "collapsed": false
   },
   "outputs": [],
   "source": [
    "d0 = dframe[dframe.iloc[:,-1] == 0]\n",
    "d1 = dframe[dframe.iloc[:,-1] == 1]\n",
    "print(d0.shape, d1.shape)\n",
    "nfalse, nhit = d0.shape[0], d1.shape[0]"
   ]
  },
  {
   "cell_type": "code",
   "execution_count": null,
   "metadata": {
    "collapsed": false
   },
   "outputs": [],
   "source": [
    "offset = np.random.randint(0, nfalse-nhit-1)\n",
    "d0b = d0[offset:offset+nhit]\n",
    "print(d0b.shape)"
   ]
  },
  {
   "cell_type": "code",
   "execution_count": null,
   "metadata": {
    "collapsed": false
   },
   "outputs": [],
   "source": [
    "d0b_ = d0b.as_matrix()\n",
    "d1_ = d1.as_matrix()\n",
    "\n",
    "d1_"
   ]
  },
  {
   "cell_type": "markdown",
   "metadata": {},
   "source": [
    "### Shuffle and shit"
   ]
  },
  {
   "cell_type": "code",
   "execution_count": null,
   "metadata": {
    "collapsed": false
   },
   "outputs": [],
   "source": [
    "subdiv_vec =1\n",
    "new_set = np.concatenate([d0b_, d1_], axis=0)\n",
    "print('new_set:',new_set.shape)\n",
    "np.random.shuffle(new_set)\n",
    "print(np.mean(new_set[:nhit,-1]))\n",
    "simple_dtrain= new_set[:,:-2]\n",
    "simple_dtrain_lab = new_set[:,-1]\n",
    "simple_dtrain = simple_dtrain[:,::subdiv_vec]\n",
    "print(simple_dtrain.shape)\n",
    "print(np.mean(simple_dtrain_lab[:nhit]))\n"
   ]
  },
  {
   "cell_type": "code",
   "execution_count": null,
   "metadata": {
    "collapsed": false
   },
   "outputs": [],
   "source": [
    "simple_dtrain"
   ]
  },
  {
   "cell_type": "code",
   "execution_count": null,
   "metadata": {
    "collapsed": true
   },
   "outputs": [],
   "source": []
  },
  {
   "cell_type": "code",
   "execution_count": null,
   "metadata": {
    "collapsed": false
   },
   "outputs": [],
   "source": [
    "n = 1\n",
    "plt.plot(simple_dtrain[n])\n",
    "plt.plot(simple_dtest[n])"
   ]
  },
  {
   "cell_type": "code",
   "execution_count": null,
   "metadata": {
    "collapsed": false
   },
   "outputs": [],
   "source": [
    "# Parition the data into training and evaluation sets\n",
    "partition = 3*simple_dtrain.shape[0] // 4\n",
    "print(partition)\n",
    "print('simple_dtrain:', simple_dtrain.shape)\n",
    "X=simple_dtrain[:partition]\n",
    "Y=simple_dtrain_lab[:partition]\n",
    "Xv=simple_dtrain[partition:]\n",
    "Yv=simple_dtrain_lab[partition:]\n",
    "G=simple_dtest\n"
   ]
  },
  {
   "cell_type": "code",
   "execution_count": null,
   "metadata": {
    "collapsed": false
   },
   "outputs": [],
   "source": [
    "print(Y.shape, np.mean(Y), np.mean(Yv))\n",
    "print(X.shape, Y.shape, Xv.shape, Yv.shape)"
   ]
  },
  {
   "cell_type": "code",
   "execution_count": null,
   "metadata": {
    "collapsed": false
   },
   "outputs": [],
   "source": [
    "# assert 0 # break point"
   ]
  },
  {
   "cell_type": "code",
   "execution_count": null,
   "metadata": {
    "collapsed": false
   },
   "outputs": [],
   "source": [
    "plt.plot(np.mean(X, axis=0))\n",
    "plt.plot(np.mean(Xv, axis=0))"
   ]
  },
  {
   "cell_type": "code",
   "execution_count": null,
   "metadata": {
    "collapsed": false
   },
   "outputs": [],
   "source": [
    "plt.scatter(X[:,0], X[:,1])\n",
    "plt.scatter(X[:,0], X[:,1], c='r', s=5, edgecolor='none')"
   ]
  },
  {
   "cell_type": "code",
   "execution_count": null,
   "metadata": {
    "collapsed": false
   },
   "outputs": [],
   "source": [
    "a = np.mean(X[:,:128], axis=1)\n",
    "b = np.mean(X[:,128:], axis=1)\n",
    "c = np.mean(Xv[:,:128], axis=1)\n",
    "d = np.mean(Xv[:,128:], axis=1)\n",
    "e = np.mean(G[:,:128], axis=1)\n",
    "f = np.mean(G[:,128:], axis=1)\n",
    "print(a.shape, b.shape)\n",
    "plt.scatter(a ,b,)\n",
    "plt.scatter(c, d, c='r', s=5, edgecolor='none')\n",
    "plt.scatter(e, f, c='g', s=5, edgecolor='none')"
   ]
  },
  {
   "cell_type": "code",
   "execution_count": null,
   "metadata": {
    "collapsed": true
   },
   "outputs": [],
   "source": [
    "perc = lm.Perceptron()"
   ]
  },
  {
   "cell_type": "code",
   "execution_count": null,
   "metadata": {
    "collapsed": false
   },
   "outputs": [],
   "source": [
    "cut = 250\n",
    "sl = 2\n",
    "kf = 4\n",
    "X1, Y1 = X[::kf,:cut:sl], Y[::kf]\n",
    "X2, Y2 = X[1::kf,:cut:sl], Y[1::kf]\n",
    "G0 = G[:, :cut:sl]"
   ]
  },
  {
   "cell_type": "code",
   "execution_count": null,
   "metadata": {
    "collapsed": false
   },
   "outputs": [],
   "source": [
    "print(X1.shape, Y1.shape, G0.shape, np.mean(Y, axis=0))\n",
    "print(np.mean(X,), np.mean(Xv), np.std(Xv, ), np.std(Xv, ), )\n",
    "print(np.mean(X1,), np.mean(X2), np.std(X1, ), np.std(X2, ), )\n",
    "\n",
    "perc.fit(X1, Y1)"
   ]
  },
  {
   "cell_type": "code",
   "execution_count": null,
   "metadata": {
    "collapsed": false
   },
   "outputs": [],
   "source": [
    "print( perc.score(Xv[:,:cut:sl], Yv), np.mean(Yv, axis=0))"
   ]
  },
  {
   "cell_type": "code",
   "execution_count": null,
   "metadata": {
    "collapsed": false
   },
   "outputs": [],
   "source": [
    "print( perc.score(X1, Y1), np.mean(Yv, axis=0))\n",
    "print( perc.score(X2, Y2), np.mean(Yv, axis=0))"
   ]
  },
  {
   "cell_type": "code",
   "execution_count": null,
   "metadata": {
    "collapsed": false
   },
   "outputs": [],
   "source": [
    "pr = perc.predict(X2)\n",
    "print('Expected: 0.5:',pr.mean())"
   ]
  },
  {
   "cell_type": "markdown",
   "metadata": {},
   "source": [
    "# VALIDATION"
   ]
  },
  {
   "cell_type": "code",
   "execution_count": null,
   "metadata": {
    "collapsed": false
   },
   "outputs": [],
   "source": [
    "print('VALIDATION: ', np.mean(pr == Y2))"
   ]
  },
  {
   "cell_type": "code",
   "execution_count": null,
   "metadata": {
    "collapsed": true
   },
   "outputs": [],
   "source": []
  },
  {
   "cell_type": "code",
   "execution_count": null,
   "metadata": {
    "collapsed": true
   },
   "outputs": [],
   "source": []
  },
  {
   "cell_type": "code",
   "execution_count": null,
   "metadata": {
    "collapsed": true
   },
   "outputs": [],
   "source": []
  },
  {
   "cell_type": "code",
   "execution_count": null,
   "metadata": {
    "collapsed": true
   },
   "outputs": [],
   "source": [
    "names_test['guess'] = pd.Series(pr)"
   ]
  },
  {
   "cell_type": "code",
   "execution_count": null,
   "metadata": {
    "collapsed": false
   },
   "outputs": [],
   "source": [
    "names_test['File'] = [os.path.basename(name) for name in names_test['path']]"
   ]
  },
  {
   "cell_type": "code",
   "execution_count": null,
   "metadata": {
    "collapsed": false
   },
   "outputs": [],
   "source": [
    "names_test.to_csv('guess11_10_perc.csv')"
   ]
  },
  {
   "cell_type": "code",
   "execution_count": null,
   "metadata": {
    "collapsed": false
   },
   "outputs": [],
   "source": [
    "ls"
   ]
  },
  {
   "cell_type": "markdown",
   "metadata": {},
   "source": [
    "# SKLearn MLP"
   ]
  },
  {
   "cell_type": "code",
   "execution_count": null,
   "metadata": {
    "collapsed": true
   },
   "outputs": [],
   "source": [
    "mlp = nn.MLPClassifier(hidden_layer_sizes=(256,32,256,32), activation='relu', warm_start=1)"
   ]
  },
  {
   "cell_type": "code",
   "execution_count": null,
   "metadata": {
    "collapsed": false
   },
   "outputs": [],
   "source": [
    "mlp.fit(X, Y)\n",
    "mlp.score(Xv, Yv)"
   ]
  },
  {
   "cell_type": "code",
   "execution_count": null,
   "metadata": {
    "collapsed": false
   },
   "outputs": [],
   "source": [
    "pr = mlp.predict(simple_dtest)\n",
    "print(pr.mean())"
   ]
  },
  {
   "cell_type": "code",
   "execution_count": null,
   "metadata": {
    "collapsed": false
   },
   "outputs": [],
   "source": [
    "names_test['Class'] = pd.Series(pr)\n",
    "names_test['File'] = [os.path.basename(name) for name in names_test['path']]"
   ]
  },
  {
   "cell_type": "code",
   "execution_count": null,
   "metadata": {
    "collapsed": false
   },
   "outputs": [],
   "source": [
    "assert 0, 'woah doggies'"
   ]
  },
  {
   "cell_type": "code",
   "execution_count": null,
   "metadata": {
    "collapsed": false
   },
   "outputs": [],
   "source": [
    "guessfile = names_test[['File', 'Class']]\n",
    "guessfile.to_csv('guess11_10_mlp_256.csv', index=False)"
   ]
  },
  {
   "cell_type": "code",
   "execution_count": null,
   "metadata": {
    "collapsed": true
   },
   "outputs": [],
   "source": []
  }
 ],
 "metadata": {
  "kernelspec": {
   "display_name": "Python 2",
   "language": "python",
   "name": "python2"
  },
  "language_info": {
   "codemirror_mode": {
    "name": "ipython",
    "version": 2
   },
   "file_extension": ".py",
   "mimetype": "text/x-python",
   "name": "python",
   "nbconvert_exporter": "python",
   "pygments_lexer": "ipython2",
   "version": "2.7.12"
  }
 },
 "nbformat": 4,
 "nbformat_minor": 0
}
