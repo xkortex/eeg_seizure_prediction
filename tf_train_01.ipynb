{
 "cells": [
  {
   "cell_type": "code",
   "execution_count": 1,
   "metadata": {
    "collapsed": false
   },
   "outputs": [],
   "source": [
    "%matplotlib inline"
   ]
  },
  {
   "cell_type": "code",
   "execution_count": 2,
   "metadata": {
    "collapsed": false
   },
   "outputs": [],
   "source": [
    "from __future__ import print_function, division\n",
    "import os, sys\n",
    "import numpy as np, scipy as sp, pandas as pd\n",
    "import scipy.io\n",
    "import scipy.signal as signal, scipy.fftpack as ftpk, scipy.integrate as integrate, scipy.interpolate as interpolate\n",
    "import matplotlib.pyplot as plt\n",
    "import matplotlib\n",
    "import tensorflow as tf\n",
    "import tflearn\n",
    "\n",
    "original_dir = os.getcwd()"
   ]
  },
  {
   "cell_type": "code",
   "execution_count": 3,
   "metadata": {
    "collapsed": true
   },
   "outputs": [],
   "source": [
    "PLOT=True"
   ]
  },
  {
   "cell_type": "code",
   "execution_count": 4,
   "metadata": {
    "collapsed": false
   },
   "outputs": [],
   "source": [
    "e = np.exp(1)\n",
    "pi = np.pi\n",
    "pii = np.pi*1j\n",
    "twopi = np.pi * 2\n",
    "SR=400"
   ]
  },
  {
   "cell_type": "code",
   "execution_count": 5,
   "metadata": {
    "collapsed": false
   },
   "outputs": [],
   "source": [
    "import pywt\n",
    "# import pyhht"
   ]
  },
  {
   "cell_type": "code",
   "execution_count": 6,
   "metadata": {
    "collapsed": false
   },
   "outputs": [],
   "source": [
    "from imp import reload\n",
    "import auxfilter\n",
    "import glob"
   ]
  },
  {
   "cell_type": "code",
   "execution_count": 7,
   "metadata": {
    "collapsed": false
   },
   "outputs": [
    {
     "name": "stdout",
     "output_type": "stream",
     "text": [
      "/home/mike/venvs/ml/ml/py\n"
     ]
    }
   ],
   "source": [
    "os.chdir(original_dir + '/..')\n",
    "# os.chdir('/home/mike/venvs/ml/ml/py')\n",
    "print(os.getcwd())\n",
    "from eegkaggle.vectorizers import naive, spectral\n",
    "from eegkaggle.dio import dataio\n",
    "from eegkaggle.plotting import plotstuff\n",
    "from eegkaggle.msignal import wavelets, metrics"
   ]
  },
  {
   "cell_type": "code",
   "execution_count": 8,
   "metadata": {
    "collapsed": false
   },
   "outputs": [
    {
     "data": {
      "text/plain": [
       "<module 'eegkaggle.dio.dataio' from 'eegkaggle/dio/dataio.pyc'>"
      ]
     },
     "execution_count": 8,
     "metadata": {},
     "output_type": "execute_result"
    }
   ],
   "source": [
    "reload(plotstuff)\n",
    "reload(dataio)"
   ]
  },
  {
   "cell_type": "code",
   "execution_count": 9,
   "metadata": {
    "collapsed": true
   },
   "outputs": [],
   "source": [
    "matplotlib.style.use('ggplot')"
   ]
  },
  {
   "cell_type": "code",
   "execution_count": 10,
   "metadata": {
    "collapsed": false
   },
   "outputs": [],
   "source": [
    "ssmall,smed, slarge, slong = (4,3), (8,6), (16,12), (16,4)\n",
    "matplotlib.rcParams['figure.figsize'] = smed"
   ]
  },
  {
   "cell_type": "markdown",
   "metadata": {},
   "source": [
    "Functions"
   ]
  },
  {
   "cell_type": "markdown",
   "metadata": {},
   "source": [
    "Data loading section"
   ]
  },
  {
   "cell_type": "code",
   "execution_count": 11,
   "metadata": {
    "collapsed": false
   },
   "outputs": [],
   "source": [
    "data_train = np.load('vec_1478816228.31.npy')\n",
    "names_train = pd.read_csv('vec_1478816228.31_name.csv')\n",
    "data_test = np.load('vec_1478825795.45.npy')\n",
    "names_test = pd.read_csv('vec_1478825795.45_name.csv')"
   ]
  },
  {
   "cell_type": "code",
   "execution_count": 12,
   "metadata": {
    "collapsed": true
   },
   "outputs": [],
   "source": [
    "data_train = np.nan_to_num(data_train)\n",
    "data_test = np.nan_to_num(data_test)"
   ]
  },
  {
   "cell_type": "code",
   "execution_count": 13,
   "metadata": {
    "collapsed": false
   },
   "outputs": [
    {
     "name": "stdout",
     "output_type": "stream",
     "text": [
      "(6041, 3) 0.0743254428075\n"
     ]
    },
    {
     "data": {
      "text/html": [
       "<div>\n",
       "<table border=\"1\" class=\"dataframe\">\n",
       "  <thead>\n",
       "    <tr style=\"text-align: right;\">\n",
       "      <th></th>\n",
       "      <th>Unnamed: 0</th>\n",
       "      <th>path</th>\n",
       "      <th>label</th>\n",
       "    </tr>\n",
       "  </thead>\n",
       "  <tbody>\n",
       "    <tr>\n",
       "      <th>0</th>\n",
       "      <td>0</td>\n",
       "      <td>/media/mike/Elements/data/kaggle/melbourne/tra...</td>\n",
       "      <td>0</td>\n",
       "    </tr>\n",
       "    <tr>\n",
       "      <th>1</th>\n",
       "      <td>1</td>\n",
       "      <td>/media/mike/Elements/data/kaggle/melbourne/tra...</td>\n",
       "      <td>0</td>\n",
       "    </tr>\n",
       "    <tr>\n",
       "      <th>2</th>\n",
       "      <td>2</td>\n",
       "      <td>/media/mike/Elements/data/kaggle/melbourne/tra...</td>\n",
       "      <td>0</td>\n",
       "    </tr>\n",
       "    <tr>\n",
       "      <th>3</th>\n",
       "      <td>3</td>\n",
       "      <td>/media/mike/Elements/data/kaggle/melbourne/tra...</td>\n",
       "      <td>0</td>\n",
       "    </tr>\n",
       "    <tr>\n",
       "      <th>4</th>\n",
       "      <td>4</td>\n",
       "      <td>/media/mike/Elements/data/kaggle/melbourne/tra...</td>\n",
       "      <td>0</td>\n",
       "    </tr>\n",
       "  </tbody>\n",
       "</table>\n",
       "</div>"
      ],
      "text/plain": [
       "   Unnamed: 0                                               path  label\n",
       "0           0  /media/mike/Elements/data/kaggle/melbourne/tra...      0\n",
       "1           1  /media/mike/Elements/data/kaggle/melbourne/tra...      0\n",
       "2           2  /media/mike/Elements/data/kaggle/melbourne/tra...      0\n",
       "3           3  /media/mike/Elements/data/kaggle/melbourne/tra...      0\n",
       "4           4  /media/mike/Elements/data/kaggle/melbourne/tra...      0"
      ]
     },
     "execution_count": 13,
     "metadata": {},
     "output_type": "execute_result"
    }
   ],
   "source": [
    "names_train['label'] = [ int(name[-5]) for name in names_train['path']]\n",
    "print(names_train.shape, names_train['label'].mean())\n",
    "names_train.head()"
   ]
  },
  {
   "cell_type": "code",
   "execution_count": 14,
   "metadata": {
    "collapsed": false
   },
   "outputs": [
    {
     "name": "stdout",
     "output_type": "stream",
     "text": [
      "(6041,) 0.925674557193\n"
     ]
    },
    {
     "data": {
      "text/plain": [
       "0    True\n",
       "1    True\n",
       "2    True\n",
       "3    True\n",
       "4    True\n",
       "Name: label, dtype: bool"
      ]
     },
     "execution_count": 14,
     "metadata": {},
     "output_type": "execute_result"
    }
   ],
   "source": [
    "name_mask = names_train['label'] == 0\n",
    "name_mask1 = ~name_mask # not necessary, I just goof'd\n",
    "print(name_mask.shape, name_mask.mean())\n",
    "name_mask.head()"
   ]
  },
  {
   "cell_type": "code",
   "execution_count": null,
   "metadata": {
    "collapsed": false
   },
   "outputs": [],
   "source": []
  },
  {
   "cell_type": "code",
   "execution_count": 15,
   "metadata": {
    "collapsed": false
   },
   "outputs": [
    {
     "name": "stderr",
     "output_type": "stream",
     "text": [
      "/home/mike/venvs/ml/ml/lib/python2.7/site-packages/ipykernel/__main__.py:1: FutureWarning: reshape is deprecated and will raise in a subsequent release. Please use .values.reshape(...) instead\n",
      "  if __name__ == '__main__':\n",
      "/home/mike/venvs/ml/ml/lib/python2.7/site-packages/ipykernel/__main__.py:2: FutureWarning: reshape is deprecated and will raise in a subsequent release. Please use .values.reshape(...) instead\n",
      "  from ipykernel import kernelapp as app\n"
     ]
    },
    {
     "name": "stdout",
     "output_type": "stream",
     "text": [
      "5536 434\n"
     ]
    }
   ],
   "source": [
    "d0 = data_train * name_mask.reshape([6041,1,1])\n",
    "d1 = data_train* ~name_mask.reshape([6041,1,1])\n",
    "n0, n1 = np.count_nonzero(d0[:,512,0]), np.count_nonzero(d1[:,512,0])\n",
    "print(n0, n1)"
   ]
  },
  {
   "cell_type": "code",
   "execution_count": 16,
   "metadata": {
    "collapsed": false
   },
   "outputs": [],
   "source": [
    "if PLOT: plt.plot(np.mean(np.mean(data_train, axis=2)==0, axis=1))"
   ]
  },
  {
   "cell_type": "code",
   "execution_count": 17,
   "metadata": {
    "collapsed": false
   },
   "outputs": [
    {
     "data": {
      "text/plain": [
       "'Average (LOGT) power by channel'"
      ]
     },
     "execution_count": 17,
     "metadata": {},
     "output_type": "execute_result"
    }
   ],
   "source": [
    "if PLOT: plt.plot(np.mean(data_train, axis=0))\n",
    "'Average (LOGT) power by channel'"
   ]
  },
  {
   "cell_type": "code",
   "execution_count": 18,
   "metadata": {
    "collapsed": false
   },
   "outputs": [
    {
     "data": {
      "text/plain": [
       "'data set 0 vs 1'"
      ]
     },
     "execution_count": 18,
     "metadata": {},
     "output_type": "execute_result"
    }
   ],
   "source": [
    "if PLOT: plt.plot(np.sum(d0, axis=0) / n0, c='k')\n",
    "if PLOT: plt.plot(np.sum(d1, axis=0) / n1, c='r')\n",
    "\n",
    "'data set 0 vs 1'\n"
   ]
  },
  {
   "cell_type": "code",
   "execution_count": 19,
   "metadata": {
    "collapsed": false
   },
   "outputs": [],
   "source": [
    "if PLOT: plt.plot(np.mean(np.sum(d0, axis=0) / n0, axis=1), c='k')\n",
    "if PLOT: plt.plot(np.mean(np.sum(d1, axis=0) / n1, axis=1), c='r')"
   ]
  },
  {
   "cell_type": "markdown",
   "metadata": {
    "collapsed": true
   },
   "source": [
    "# NICE!"
   ]
  },
  {
   "cell_type": "code",
   "execution_count": 185,
   "metadata": {
    "collapsed": false
   },
   "outputs": [
    {
     "name": "stdout",
     "output_type": "stream",
     "text": [
      "(6041, 256) (1908, 256)\n"
     ]
    }
   ],
   "source": [
    " # avg along electrodes\n",
    "# simple_dtrain = np.mean(data_train, axis=2)\n",
    "# simple_dtest = np.mean(data_test, axis=2)\n",
    "subdiv = 64\n",
    "simple_dtrain = data_train[:,::subdiv,:].reshape(-1,1024*16//subdiv)\n",
    "simple_dtest = data_test[:,::subdiv,:].reshape(-1,1024*16//subdiv)\n",
    "\n",
    "# Normalize ghetto style\n",
    "simple_dtrain -= np.mean(simple_dtrain)\n",
    "simple_dtest -= np.mean(simple_dtest)\n",
    "simple_dtrain /= np.std(simple_dtrain)\n",
    "simple_dtest /= np.std(simple_dtest)\n",
    "print(simple_dtrain.shape, simple_dtest.shape)"
   ]
  },
  {
   "cell_type": "code",
   "execution_count": 186,
   "metadata": {
    "collapsed": false
   },
   "outputs": [
    {
     "data": {
      "text/plain": [
       "[<matplotlib.lines.Line2D at 0x7f47a34ba610>]"
      ]
     },
     "execution_count": 186,
     "metadata": {},
     "output_type": "execute_result"
    },
    {
     "data": {
      "image/png": "[encoded data removed]",
      "text/plain": [
       "<matplotlib.figure.Figure at 0x7f47a386ccd0>"
      ]
     },
     "metadata": {},
     "output_type": "display_data"
    }
   ],
   "source": [
    "plt.plot(simple_dtrain[3])"
   ]
  },
  {
   "cell_type": "code",
   "execution_count": 187,
   "metadata": {
    "collapsed": false
   },
   "outputs": [
    {
     "name": "stdout",
     "output_type": "stream",
     "text": [
      "(6041, 2)\n"
     ]
    }
   ],
   "source": [
    "y = np.vstack([name_mask, ~name_mask]).T # label vector will be (N, S), N hot for 'no seiz', S hot for 'seize'\n",
    "print(y.shape)"
   ]
  },
  {
   "cell_type": "code",
   "execution_count": 188,
   "metadata": {
    "collapsed": false
   },
   "outputs": [
    {
     "data": {
      "text/plain": [
       "(6041, 258)"
      ]
     },
     "execution_count": 188,
     "metadata": {},
     "output_type": "execute_result"
    }
   ],
   "source": [
    "dtrain_set = np.concatenate([simple_dtrain, y], axis=1)\n",
    "dtrain_set.shape"
   ]
  },
  {
   "cell_type": "code",
   "execution_count": 189,
   "metadata": {
    "collapsed": true
   },
   "outputs": [],
   "source": [
    "dframe = pd.DataFrame(dtrain_set)"
   ]
  },
  {
   "cell_type": "code",
   "execution_count": 190,
   "metadata": {
    "collapsed": false
   },
   "outputs": [
    {
     "name": "stdout",
     "output_type": "stream",
     "text": [
      "(5592, 258) (449, 258)\n"
     ]
    }
   ],
   "source": [
    "d0 = dframe[dframe.iloc[:,-1] == 0]\n",
    "d1 = dframe[dframe.iloc[:,-1] == 1]\n",
    "print(d0.shape, d1.shape)\n",
    "nfalse, nhit = d0.shape[0], d1.shape[0]"
   ]
  },
  {
   "cell_type": "code",
   "execution_count": 191,
   "metadata": {
    "collapsed": false
   },
   "outputs": [
    {
     "name": "stdout",
     "output_type": "stream",
     "text": [
      "(449, 258)\n"
     ]
    }
   ],
   "source": [
    "offset = np.random.randint(0, nfalse-nhit-1)\n",
    "d0b = d0[offset:offset+nhit]\n",
    "print(d0b.shape)"
   ]
  },
  {
   "cell_type": "code",
   "execution_count": 192,
   "metadata": {
    "collapsed": false
   },
   "outputs": [
    {
     "data": {
      "text/plain": [
       "array([[-0.91700531, -0.28894038, -0.34717156, ..., -1.13051259,\n",
       "         0.        ,  1.        ],\n",
       "       [-1.18640367, -0.25012621, -0.20001391, ..., -1.13099762,\n",
       "         0.        ,  1.        ],\n",
       "       [-0.89470504, -0.23833191,  0.77783794, ..., -1.12877081,\n",
       "         0.        ,  1.        ],\n",
       "       ..., \n",
       "       [-3.23013193, -1.15766797, -0.39704927, ..., -1.11376105,\n",
       "         0.        ,  1.        ],\n",
       "       [-1.91395593, -0.82024792, -0.15868652, ..., -1.10956531,\n",
       "         0.        ,  1.        ],\n",
       "       [-1.00638979, -0.68105726, -1.1176758 , ..., -1.11182738,\n",
       "         0.        ,  1.        ]])"
      ]
     },
     "execution_count": 192,
     "metadata": {},
     "output_type": "execute_result"
    }
   ],
   "source": [
    "d0b_ = d0b.as_matrix()\n",
    "d1_ = d1.as_matrix()\n",
    "\n",
    "d1_"
   ]
  },
  {
   "cell_type": "markdown",
   "metadata": {},
   "source": [
    "### Shuffle and shit"
   ]
  },
  {
   "cell_type": "code",
   "execution_count": 193,
   "metadata": {
    "collapsed": false
   },
   "outputs": [
    {
     "name": "stdout",
     "output_type": "stream",
     "text": [
      "(898, 258)\n",
      "0.530066815145\n",
      "(898, 256)\n",
      "0.530066815145\n"
     ]
    }
   ],
   "source": [
    "subdiv_vec =1\n",
    "new_set = np.concatenate([d0b_, d1_], axis=0)\n",
    "print(new_set.shape)\n",
    "np.random.shuffle(new_set)\n",
    "print(np.mean(new_set[:nhit,-1]))\n",
    "simple_dtrain= new_set[:,:-2]\n",
    "simple_dtrain_lab = new_set[:,-1]\n",
    "simple_dtrain = simple_dtrain[:,::subdiv_vec]\n",
    "print(simple_dtrain.shape)\n",
    "print(np.mean(simple_dtrain_lab[:nhit]))\n"
   ]
  },
  {
   "cell_type": "code",
   "execution_count": 194,
   "metadata": {
    "collapsed": false
   },
   "outputs": [
    {
     "data": {
      "text/plain": [
       "array([[-1.08530939, -0.70184397, -0.88095319, ..., -1.09673721,\n",
       "        -1.12148549, -1.1395111 ],\n",
       "       [ 0.17960126,  0.02313227, -0.49665918, ..., -1.06594318,\n",
       "        -1.04944666, -1.05681826],\n",
       "       [ 1.3561945 , -0.00329751, -0.53069913, ..., -1.07005726,\n",
       "        -1.05783331, -1.06089764],\n",
       "       ..., \n",
       "       [ 0.96917417,  0.17957295, -0.71559887, ..., -1.06639206,\n",
       "        -1.05255426, -1.05682758],\n",
       "       [-1.67368085, -0.51728834,  0.98062184, ..., -1.09128509,\n",
       "        -1.08680094, -1.11425099],\n",
       "       [-1.01026609, -0.78585743, -0.96918606, ..., -1.10543733,\n",
       "        -1.08871195, -1.09156883]])"
      ]
     },
     "execution_count": 194,
     "metadata": {},
     "output_type": "execute_result"
    }
   ],
   "source": [
    "simple_dtrain"
   ]
  },
  {
   "cell_type": "code",
   "execution_count": null,
   "metadata": {
    "collapsed": true
   },
   "outputs": [],
   "source": []
  },
  {
   "cell_type": "code",
   "execution_count": 195,
   "metadata": {
    "collapsed": false
   },
   "outputs": [
    {
     "data": {
      "text/plain": [
       "[<matplotlib.lines.Line2D at 0x7f479a04cd10>]"
      ]
     },
     "execution_count": 195,
     "metadata": {},
     "output_type": "execute_result"
    },
    {
     "data": {
      "image/png": "[encoded data removed]",
      "text/plain": [
       "<matplotlib.figure.Figure at 0x7f479a04cc10>"
      ]
     },
     "metadata": {},
     "output_type": "display_data"
    }
   ],
   "source": [
    "plt.plot(simple_dtrain[0])\n",
    "plt.plot(simple_dtest[0])"
   ]
  },
  {
   "cell_type": "code",
   "execution_count": 196,
   "metadata": {
    "collapsed": false
   },
   "outputs": [],
   "source": [
    "# Parition the data into training and evaluation sets\n",
    "partition = 3*simple_dtrain.shape[0] // 4\n",
    "# Build 3 layer DNN with 10, 20, 10 units respectively.\n",
    "nn0 = simple_dtrain.shape[1]\n",
    "nn1 = 2* nn0\n",
    "nn2 = nn0\n",
    "X=simple_dtrain[:partition]\n",
    "Y=simple_dtrain_lab[:partition]\n",
    "Xv=simple_dtrain[partition:]\n",
    "Yv=simple_dtrain_lab[partition:]\n"
   ]
  },
  {
   "cell_type": "code",
   "execution_count": 197,
   "metadata": {
    "collapsed": false
   },
   "outputs": [
    {
     "name": "stdout",
     "output_type": "stream",
     "text": [
      "(673,) 0.506686478455 0.48\n",
      "(673, 256) (225, 256) (673,) (225,)\n"
     ]
    }
   ],
   "source": [
    "print(Y.shape, np.mean(Y), np.mean(Yv))\n",
    "print(X.shape, Xv.shape, Y.shape, Yv.shape)"
   ]
  },
  {
   "cell_type": "code",
   "execution_count": 33,
   "metadata": {
    "collapsed": false
   },
   "outputs": [
    {
     "ename": "AssertionError",
     "evalue": "",
     "output_type": "error",
     "traceback": [
      "\u001b[0;31m---------------------------------------------------------------------------\u001b[0m",
      "\u001b[0;31mAssertionError\u001b[0m                            Traceback (most recent call last)",
      "\u001b[0;32m<ipython-input-33-41a749654736>\u001b[0m in \u001b[0;36m<module>\u001b[0;34m()\u001b[0m\n\u001b[0;32m----> 1\u001b[0;31m \u001b[0;32massert\u001b[0m \u001b[0;36m0\u001b[0m \u001b[0;31m# break point\u001b[0m\u001b[0;34m\u001b[0m\u001b[0m\n\u001b[0m",
      "\u001b[0;31mAssertionError\u001b[0m: "
     ]
    }
   ],
   "source": [
    "assert 0 # break point"
   ]
  },
  {
   "cell_type": "code",
   "execution_count": null,
   "metadata": {
    "collapsed": false
   },
   "outputs": [],
   "source": [
    "# Classification\n",
    "# def do_a_graph():\n",
    "# with tf.Graph().as_default(): # re-initializing the cells fucks shit up yo\n",
    "tf.reset_default_graph()\n",
    "tflearn.init_graph(num_cores=8, gpu_memory_fraction=0.5) # DO ONLY ONCE!\n",
    "\n",
    "net = tflearn.input_data(shape=[None, nn0])\n",
    "net = tflearn.fully_connected(net, 10)\n",
    "# net = tflearn.dropout(net, 0.5)\n",
    "net = tflearn.fully_connected(net, 1, activation='softmax')\n",
    "net = tflearn.regression(net, optimizer='adam', loss='categorical_crossentropy')\n",
    "\n",
    "model = tflearn.DNN(net)\n",
    "model.fit(X, Y.reshape(-1,1),n_epoch=1)\n",
    "# model.save('model')\n",
    "    #     return model"
   ]
  },
  {
   "cell_type": "code",
   "execution_count": null,
   "metadata": {
    "collapsed": false
   },
   "outputs": [],
   "source": [
    "# with tf.Graph().as_default(): \n",
    "#     model.load('model')\n",
    "ev = model.evaluate(Xv, Yv.reshape(-1,1))\n",
    "print(ev)"
   ]
  },
  {
   "cell_type": "code",
   "execution_count": null,
   "metadata": {
    "collapsed": false
   },
   "outputs": [],
   "source": [
    "ev"
   ]
  },
  {
   "cell_type": "code",
   "execution_count": null,
   "metadata": {
    "collapsed": false
   },
   "outputs": [],
   "source": [
    "pr = model.predict(simple_dtest)"
   ]
  },
  {
   "cell_type": "code",
   "execution_count": null,
   "metadata": {
    "collapsed": false
   },
   "outputs": [],
   "source": [
    "pr_ = np.array(pr)"
   ]
  },
  {
   "cell_type": "code",
   "execution_count": null,
   "metadata": {
    "collapsed": false
   },
   "outputs": [],
   "source": [
    "np.mean(pr_[:,0])"
   ]
  },
  {
   "cell_type": "code",
   "execution_count": null,
   "metadata": {
    "collapsed": false
   },
   "outputs": [],
   "source": [
    "pr_.shape"
   ]
  },
  {
   "cell_type": "code",
   "execution_count": null,
   "metadata": {
    "collapsed": false
   },
   "outputs": [],
   "source": [
    "guess = pr_[:,1] > .5\n",
    "guess"
   ]
  },
  {
   "cell_type": "code",
   "execution_count": null,
   "metadata": {
    "collapsed": false
   },
   "outputs": [],
   "source": [
    "names_test['guess'] = pd.Series(pr_[1,:])"
   ]
  },
  {
   "cell_type": "code",
   "execution_count": null,
   "metadata": {
    "collapsed": false
   },
   "outputs": [],
   "source": [
    "names_test['']"
   ]
  },
  {
   "cell_type": "code",
   "execution_count": 34,
   "metadata": {
    "collapsed": false
   },
   "outputs": [],
   "source": [
    "from sklearn import linear_model as lm, neural_network as nn"
   ]
  },
  {
   "cell_type": "code",
   "execution_count": null,
   "metadata": {
    "collapsed": true
   },
   "outputs": [],
   "source": [
    "perc = lm.Perceptron()"
   ]
  },
  {
   "cell_type": "code",
   "execution_count": null,
   "metadata": {
    "collapsed": false
   },
   "outputs": [],
   "source": [
    "perc.fit(X, Y)"
   ]
  },
  {
   "cell_type": "code",
   "execution_count": null,
   "metadata": {
    "collapsed": false
   },
   "outputs": [],
   "source": [
    "perc.score(Xv, Yv)"
   ]
  },
  {
   "cell_type": "code",
   "execution_count": null,
   "metadata": {
    "collapsed": false
   },
   "outputs": [],
   "source": [
    "pr = perc.predict(simple_dtest[:,::16])\n",
    "print(pr.mean())"
   ]
  },
  {
   "cell_type": "code",
   "execution_count": null,
   "metadata": {
    "collapsed": true
   },
   "outputs": [],
   "source": [
    "names_test['guess'] = pd.Series(pr)"
   ]
  },
  {
   "cell_type": "code",
   "execution_count": null,
   "metadata": {
    "collapsed": false
   },
   "outputs": [],
   "source": [
    "names_test['File'] = [os.path.basename(name) for name in names_test['path']]"
   ]
  },
  {
   "cell_type": "code",
   "execution_count": null,
   "metadata": {
    "collapsed": false
   },
   "outputs": [],
   "source": [
    "names_test.to_csv('guess11_10_perc.csv')"
   ]
  },
  {
   "cell_type": "code",
   "execution_count": null,
   "metadata": {
    "collapsed": false
   },
   "outputs": [],
   "source": [
    "ls"
   ]
  },
  {
   "cell_type": "markdown",
   "metadata": {},
   "source": [
    "# SKLearn MLP"
   ]
  },
  {
   "cell_type": "code",
   "execution_count": 198,
   "metadata": {
    "collapsed": true
   },
   "outputs": [],
   "source": [
    "mlp = nn.MLPClassifier(hidden_layer_sizes=(256,32,256,32), activation='relu', warm_start=1)"
   ]
  },
  {
   "cell_type": "code",
   "execution_count": 199,
   "metadata": {
    "collapsed": false
   },
   "outputs": [
    {
     "data": {
      "text/plain": [
       "0.91111111111111109"
      ]
     },
     "execution_count": 199,
     "metadata": {},
     "output_type": "execute_result"
    }
   ],
   "source": [
    "mlp.fit(X, Y)\n",
    "mlp.score(Xv, Yv)"
   ]
  },
  {
   "cell_type": "code",
   "execution_count": 200,
   "metadata": {
    "collapsed": false
   },
   "outputs": [
    {
     "name": "stdout",
     "output_type": "stream",
     "text": [
      "0.473794549266\n"
     ]
    }
   ],
   "source": [
    "pr = mlp.predict(simple_dtest)\n",
    "print(pr.mean())"
   ]
  },
  {
   "cell_type": "code",
   "execution_count": 201,
   "metadata": {
    "collapsed": false
   },
   "outputs": [],
   "source": [
    "names_test['Class'] = pd.Series(pr)\n",
    "names_test['File'] = [os.path.basename(name) for name in names_test['path']]"
   ]
  },
  {
   "cell_type": "code",
   "execution_count": 202,
   "metadata": {
    "collapsed": false
   },
   "outputs": [],
   "source": [
    "guessfile = names_test[['File', 'Class']]\n",
    "guessfile.to_csv('guess11_10_mlp_256.csv', index=False)"
   ]
  },
  {
   "cell_type": "markdown",
   "metadata": {},
   "source": [
    "# Sparse PCA"
   ]
  },
  {
   "cell_type": "code",
   "execution_count": 177,
   "metadata": {
    "collapsed": true
   },
   "outputs": [],
   "source": [
    "from sklearn import decomposition"
   ]
  },
  {
   "cell_type": "code",
   "execution_count": 206,
   "metadata": {
    "collapsed": true
   },
   "outputs": [],
   "source": [
    "foo = decomposition.SparsePCA(16)"
   ]
  },
  {
   "cell_type": "code",
   "execution_count": 207,
   "metadata": {
    "collapsed": false
   },
   "outputs": [
    {
     "data": {
      "text/plain": [
       "SparsePCA(U_init=None, V_init=None, alpha=1, max_iter=1000, method='lars',\n",
       "     n_components=16, n_jobs=1, random_state=None, ridge_alpha=0.01,\n",
       "     tol=1e-08, verbose=False)"
      ]
     },
     "execution_count": 207,
     "metadata": {},
     "output_type": "execute_result"
    }
   ],
   "source": [
    "foo.fit(X, Y)"
   ]
  },
  {
   "cell_type": "code",
   "execution_count": 208,
   "metadata": {
    "collapsed": false
   },
   "outputs": [
    {
     "data": {
      "text/plain": [
       "array([[ 11.64966909,   4.39139989,  11.08444758, ...,  25.82489159,\n",
       "         26.19093528,  26.62494138],\n",
       "       [  0.        ,   0.        ,   0.        , ...,   0.        ,\n",
       "          0.        ,   0.        ],\n",
       "       [  0.        ,   0.        ,   0.        , ...,   0.        ,\n",
       "          0.        ,   0.        ],\n",
       "       ..., \n",
       "       [  0.        ,   0.        ,   0.        , ...,   0.38085367,\n",
       "          0.        ,   0.        ],\n",
       "       [  0.        ,   0.        ,   0.        , ...,   0.        ,\n",
       "          0.        ,   0.        ],\n",
       "       [  0.        ,  -4.1738491 ,   0.        , ...,   0.        ,\n",
       "          0.        ,   0.        ]])"
      ]
     },
     "execution_count": 208,
     "metadata": {},
     "output_type": "execute_result"
    }
   ],
   "source": [
    "foo.components_"
   ]
  },
  {
   "cell_type": "code",
   "execution_count": 209,
   "metadata": {
    "collapsed": false
   },
   "outputs": [
    {
     "data": {
      "text/plain": [
       "(16, 256)"
      ]
     },
     "execution_count": 209,
     "metadata": {},
     "output_type": "execute_result"
    }
   ],
   "source": [
    "foo.components_.shape"
   ]
  },
  {
   "cell_type": "code",
   "execution_count": 212,
   "metadata": {
    "collapsed": false
   },
   "outputs": [],
   "source": [
    "xprime = foo.transform(X)"
   ]
  },
  {
   "cell_type": "code",
   "execution_count": 213,
   "metadata": {
    "collapsed": false
   },
   "outputs": [
    {
     "data": {
      "text/plain": [
       "(673, 16)"
      ]
     },
     "execution_count": 213,
     "metadata": {},
     "output_type": "execute_result"
    }
   ],
   "source": [
    "xprime.shape"
   ]
  },
  {
   "cell_type": "code",
   "execution_count": 214,
   "metadata": {
    "collapsed": false
   },
   "outputs": [
    {
     "data": {
      "text/plain": [
       "[<matplotlib.lines.Line2D at 0x7f47a349e990>]"
      ]
     },
     "execution_count": 214,
     "metadata": {},
     "output_type": "execute_result"
    },
    {
     "data": {
      "image/png": "[encoded data removed]",
      "text/plain": [
       "<matplotlib.figure.Figure at 0x7f4799eae110>"
      ]
     },
     "metadata": {},
     "output_type": "display_data"
    }
   ],
   "source": [
    "plt.plot(np.mean(xprime, axis=0))"
   ]
  },
  {
   "cell_type": "code",
   "execution_count": 229,
   "metadata": {
    "collapsed": true
   },
   "outputs": [],
   "source": [
    "mlp = nn.MLPClassifier(hidden_layer_sizes=(512,16,4), activation='relu', warm_start=1)"
   ]
  },
  {
   "cell_type": "code",
   "execution_count": 240,
   "metadata": {
    "collapsed": false
   },
   "outputs": [
    {
     "name": "stdout",
     "output_type": "stream",
     "text": [
      "0.857777777778\n",
      "0.68501048218\n"
     ]
    }
   ],
   "source": [
    "mlp.fit(xprime, Y)\n",
    "print(mlp.score(foo.transform(Xv), Yv))\n",
    "pr = mlp.predict(foo.transform(simple_dtest))\n",
    "print(pr.mean())"
   ]
  },
  {
   "cell_type": "code",
   "execution_count": 241,
   "metadata": {
    "collapsed": false
   },
   "outputs": [],
   "source": [
    "names_test['Class'] = pd.Series(pr)\n",
    "names_test['File'] = [os.path.basename(name) for name in names_test['path']]"
   ]
  },
  {
   "cell_type": "code",
   "execution_count": 242,
   "metadata": {
    "collapsed": true
   },
   "outputs": [],
   "source": [
    "guessfile = names_test[['File', 'Class']]\n",
    "guessfile.to_csv('guess11_10_mlp_pca16.csv', index=False)"
   ]
  },
  {
   "cell_type": "code",
   "execution_count": null,
   "metadata": {
    "collapsed": true
   },
   "outputs": [],
   "source": []
  }
 ],
 "metadata": {
  "kernelspec": {
   "display_name": "Python 2",
   "language": "python",
   "name": "python2"
  },
  "language_info": {
   "codemirror_mode": {
    "name": "ipython",
    "version": 2
   },
   "file_extension": ".py",
   "mimetype": "text/x-python",
   "name": "python",
   "nbconvert_exporter": "python",
   "pygments_lexer": "ipython2",
   "version": "2.7.12"
  }
 },
 "nbformat": 4,
 "nbformat_minor": 0
}
