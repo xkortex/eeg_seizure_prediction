{
 "cells": [
  {
   "cell_type": "code",
   "execution_count": 1,
   "metadata": {
    "collapsed": false
   },
   "outputs": [
    {
     "name": "stdout",
     "output_type": "stream",
     "text": [
      "Using matplotlib backend: TkAgg\n"
     ]
    }
   ],
   "source": [
    "%matplotlib"
   ]
  },
  {
   "cell_type": "code",
   "execution_count": 2,
   "metadata": {
    "collapsed": false
   },
   "outputs": [],
   "source": [
    "from plotting import plotstuff\n",
    "from imp import reload"
   ]
  },
  {
   "cell_type": "code",
   "execution_count": 7,
   "metadata": {
    "collapsed": false
   },
   "outputs": [],
   "source": [
    "'''This script demonstrates how to build a variational autoencoder with Keras.\n",
    "\n",
    "Reference: \"Auto-Encoding Variational Bayes\" https://arxiv.org/abs/1312.6114\n",
    "'''\n",
    "import numpy as np\n",
    "import matplotlib.pyplot as plt\n",
    "\n",
    "from keras.layers import Input, Dense, Lambda, Flatten, Reshape, BatchNormalization, Dropout, GaussianNoise, GaussianDropout, Activation\n",
    "from keras.layers import Convolution2D, Deconvolution2D, MaxPooling2D\n",
    "from keras.models import Model\n",
    "from keras import backend as K_backend\n",
    "from keras import objectives\n",
    "from keras.datasets import mnist\n",
    "from keras.utils import np_utils\n",
    "\n",
    "# global\n",
    "nb_epoch = 50\n",
    "\n",
    "class VariationalAutoencoder(object):\n",
    "    def __init__(self, original_dim=784, latent_dim=2, intermediate_dim=256, batch_size=100, epsilon_std=1.0):\n",
    "        #vae params\n",
    "        self.batch_size = batch_size\n",
    "        self.original_dim = original_dim\n",
    "        self.latent_dim = latent_dim\n",
    "        self.intermediate_dim = intermediate_dim\n",
    "        self.epsilon_std = epsilon_std\n",
    "\n",
    "        x = Input(batch_shape=(batch_size, original_dim), name='x_input')\n",
    "        h = Dense(intermediate_dim, activation='relu', name='h_hidden_relu_1')(x)\n",
    "        self.z_mean = Dense(latent_dim, name='Z_Mean')(h)\n",
    "        self.z_log_var = Dense(latent_dim, name='Z_Log_Var')(h)\n",
    "\n",
    "        # note that \"output_shape\" isn't necessary with the TensorFlow backend\n",
    "        z = Lambda(self.sampling, output_shape=(latent_dim,))([self.z_mean, self.z_log_var])\n",
    "\n",
    "        # we instantiate these layers separately so as to reuse them later\n",
    "        decoder_h = Dense(intermediate_dim, activation='relu', name='Decoder_H_Relu')\n",
    "        decoder_mean = Dense(original_dim, activation='sigmoid', name='Decoder_Mean_sig')\n",
    "        h_decoded = decoder_h(z)\n",
    "        x_decoded_mean = decoder_mean(h_decoded)\n",
    "\n",
    "\n",
    "        self.model = Model(x, x_decoded_mean)\n",
    "        self.model.compile(optimizer='rmsprop', loss=self.vae_loss)\n",
    "\n",
    "        # build a model to project inputs on the latent space\n",
    "        self.encoder = Model(x, self.z_mean)\n",
    "\n",
    "        # build a digit generator that can sample from the learned distribution\n",
    "        decoder_input = Input(shape=(latent_dim,))\n",
    "        _h_decoded = decoder_h(decoder_input)\n",
    "        _x_decoded_mean = decoder_mean(_h_decoded)\n",
    "        self.generator = Model(decoder_input, _x_decoded_mean)\n",
    "\n",
    "\n",
    "    def vae_loss(self, x, x_decoded_mean):\n",
    "        xent_loss = self.original_dim * objectives.binary_crossentropy(x, x_decoded_mean)\n",
    "        kl_loss = - 0.5 * K_backend.sum(1 + self.z_log_var - K_backend.square(self.z_mean) - K_backend.exp(self.z_log_var), axis=-1)\n",
    "        return xent_loss + kl_loss\n",
    "\n",
    "\n",
    "    def sampling(self, z_args):\n",
    "        \"Unpacks the tuple input and conducts probabilistic sampling\"\n",
    "        z_mean, z_log_var = z_args\n",
    "        epsilon = K_backend.random_normal(shape=(self.batch_size, self.latent_dim), mean=0.,\n",
    "                                  std=self.epsilon_std)\n",
    "        return z_mean + K_backend.exp(z_log_var / 2) * epsilon\n",
    "\n",
    "    def fit(self, x, y, batch_size=None, nb_epoch=10, verbose=1, callbacks=[], validation_split=0.,\n",
    "            validation_data=None, shuffle=True, class_weight=None, sample_weight=None):\n",
    "        callbacks_history = self.model.fit(x, y, batch_size, nb_epoch, verbose, callbacks, validation_split,\n",
    "                                           validation_data, shuffle, class_weight, sample_weight)\n",
    "        return callbacks_history\n",
    "\n",
    "\n",
    "vaeclass = VariationalAutoencoder(latent_dim=2)\n",
    "vae = vaeclass.model\n",
    "encoder = vaeclass.encoder\n",
    "generator = vaeclass.generator"
   ]
  },
  {
   "cell_type": "code",
   "execution_count": 192,
   "metadata": {
    "collapsed": false
   },
   "outputs": [
    {
     "name": "stdout",
     "output_type": "stream",
     "text": [
      "((60000, 10), (10000, 10))\n"
     ]
    }
   ],
   "source": [
    "# ==== dataset handling - train the VAE on MNIST digits ===\n",
    "batch_size = 100\n",
    "(x_train, y_train), (x_test, y_test) = mnist.load_data()\n",
    "\n",
    "x_train = x_train.astype('float32') / 255.\n",
    "x_test = x_test.astype('float32') / 255.\n",
    "x_train = x_train.reshape((len(x_train), np.prod(x_train.shape[1:])))\n",
    "x_test = x_test.reshape((len(x_test), np.prod(x_test.shape[1:])))\n"
   ]
  },
  {
   "cell_type": "code",
   "execution_count": 18,
   "metadata": {
    "collapsed": false
   },
   "outputs": [],
   "source": [
    "import keras.utils.visualize_util\n",
    "keras.utils.visualize_util.plot(vae, 'vae.png', show_shapes=True)\n",
    "plt.show()"
   ]
  },
  {
   "cell_type": "code",
   "execution_count": 69,
   "metadata": {
    "collapsed": false
   },
   "outputs": [
    {
     "name": "stdout",
     "output_type": "stream",
     "text": [
      "Train on 60000 samples, validate on 10000 samples\n",
      "Epoch 1/10\n",
      "60000/60000 [==============================] - 5s - loss: 157.1520 - val_loss: 157.1209\n",
      "Epoch 2/10\n",
      "60000/60000 [==============================] - 4s - loss: 156.5415 - val_loss: 156.8943\n",
      "Epoch 3/10\n",
      "60000/60000 [==============================] - 4s - loss: 155.9750 - val_loss: 156.6628\n",
      "Epoch 4/10\n",
      "60000/60000 [==============================] - 4s - loss: 155.5380 - val_loss: 155.9978\n",
      "Epoch 5/10\n",
      "60000/60000 [==============================] - 4s - loss: 155.0823 - val_loss: 155.6536\n",
      "Epoch 6/10\n",
      "60000/60000 [==============================] - 5s - loss: 154.6746 - val_loss: 155.3521\n",
      "Epoch 7/10\n",
      "60000/60000 [==============================] - 5s - loss: 154.3819 - val_loss: 154.8878\n",
      "Epoch 8/10\n",
      "60000/60000 [==============================] - 4s - loss: 153.9857 - val_loss: 154.8020\n",
      "Epoch 9/10\n",
      "60000/60000 [==============================] - 5s - loss: 153.7155 - val_loss: 154.6609\n",
      "Epoch 10/10\n",
      "60000/60000 [==============================] - 5s - loss: 153.4830 - val_loss: 154.4189\n"
     ]
    },
    {
     "data": {
      "text/plain": [
       "<keras.callbacks.History at 0x7fbd0c6715d0>"
      ]
     },
     "execution_count": 69,
     "metadata": {},
     "output_type": "execute_result"
    }
   ],
   "source": [
    "# assert 0, 'pause'\n",
    "vae.fit(x_train, x_train,\n",
    "        shuffle=True,\n",
    "        nb_epoch=10,\n",
    "        batch_size=batch_size,\n",
    "        validation_data=(x_test, x_test))"
   ]
  },
  {
   "cell_type": "code",
   "execution_count": 76,
   "metadata": {
    "collapsed": false
   },
   "outputs": [
    {
     "name": "stdout",
     "output_type": "stream",
     "text": [
      "(10000, 2)\n"
     ]
    }
   ],
   "source": [
    "# ===== plotting encoder output\n",
    "# display a 2D plot of the digit classes in the latent space\n",
    "reload(plotstuff)\n",
    "x_test_encoded = encoder.predict(x_test, batch_size=batch_size)\n",
    "print(x_test_encoded.shape)\n",
    "# plotstuff.Easy3dScatter(plt, x_test_encoded, '', s=10, c=y_test )\n",
    "\n",
    "plt.figure(figsize=(6, 6))\n",
    "plt.scatter(x_test_encoded[:, 0], x_test_encoded[:, 1], c=y_test)\n",
    "plt.colorbar()\n",
    "plt.show()"
   ]
  },
  {
   "cell_type": "code",
   "execution_count": 71,
   "metadata": {
    "collapsed": false
   },
   "outputs": [],
   "source": [
    "# ====== plotting decoder from latent space =======\n",
    "# display a 2D manifold of the digits\n",
    "n = 15  # figure with 15x15 digits\n",
    "ss=4\n",
    "digit_size = 28\n",
    "figure = np.zeros((digit_size * n, digit_size * n))\n",
    "# we will sample n points within [-15, 15] standard deviations\n",
    "grid_x = np.linspace(-ss, ss, n)\n",
    "grid_y = np.linspace(-ss, ss, n)\n",
    "\n",
    "for i, yi in enumerate(grid_x):\n",
    "    for j, xi in enumerate(grid_y):\n",
    "        z_sample = np.array([[xi, yi]])\n",
    "        x_decoded = generator.predict(z_sample)\n",
    "        digit = x_decoded[0].reshape(digit_size, digit_size)\n",
    "        figure[i * digit_size: (i + 1) * digit_size,\n",
    "               j * digit_size: (j + 1) * digit_size] = digit\n",
    "\n",
    "plt.figure(figsize=(10, 10))\n",
    "plt.imshow(figure)\n",
    "plt.show()"
   ]
  },
  {
   "cell_type": "markdown",
   "metadata": {},
   "source": [
    "# Test some digits"
   ]
  },
  {
   "cell_type": "code",
   "execution_count": null,
   "metadata": {
    "collapsed": false
   },
   "outputs": [],
   "source": [
    "def draw_digit(z_sample, digit_size = 28, n=1):\n",
    "    z_sample = np.array(z_sample).reshape(1,2)\n",
    "    figure = np.zeros((digit_size * n, digit_size * n))\n",
    "    x_decoded = generator.predict(z_sample)\n",
    "    digit = x_decoded[0].reshape(digit_size, digit_size)\n",
    "    i, j = 0,0\n",
    "    figure[i * digit_size: (i + 1) * digit_size,\n",
    "           j * digit_size: (j + 1) * digit_size] = digit\n",
    "    plt.figure(figsize=(2, 2))\n",
    "    plt.imshow(figure)\n",
    "    plt.show()\n",
    "    \n",
    "draw_digit((4,4))"
   ]
  },
  {
   "cell_type": "code",
   "execution_count": null,
   "metadata": {
    "collapsed": false
   },
   "outputs": [],
   "source": [
    "assert 0, 'halt'"
   ]
  },
  {
   "cell_type": "code",
   "execution_count": null,
   "metadata": {
    "collapsed": false
   },
   "outputs": [],
   "source": [
    "# build a digit generator that can sample from the learned distribution\n",
    "decoder_input = Input(shape=(latent_dim,))\n",
    "_h_decoded = decoder_h(decoder_input)\n",
    "_x_decoded_mean = decoder_mean(_h_decoded)\n",
    "generator = Model(decoder_input, _x_decoded_mean)\n",
    "\n",
    "# display a 2D manifold of the digits\n",
    "n = 15  # figure with 15x15 digits\n",
    "digit_size = 28\n",
    "figure = np.zeros((digit_size * n, digit_size * n))\n",
    "# we will sample n points within [-15, 15] standard deviations\n",
    "ss = 3\n",
    "grid_x = np.linspace(-ss, ss, n)\n",
    "grid_y = np.linspace(-ss, ss, n)\n",
    "\n",
    "for i, yi in enumerate(grid_x):\n",
    "    for j, xi in enumerate(grid_y):\n",
    "        z_sample = np.array([[xi, yi]])\n",
    "        x_decoded = generator.predict(z_sample)\n",
    "        digit = x_decoded[0].reshape(digit_size, digit_size)\n",
    "        figure[i * digit_size: (i + 1) * digit_size,\n",
    "               j * digit_size: (j + 1) * digit_size] = digit\n",
    "\n",
    "plt.figure(figsize=(10, 10))\n",
    "plt.imshow(figure)\n",
    "plt.show()"
   ]
  },
  {
   "cell_type": "markdown",
   "metadata": {},
   "source": [
    "# Convo VAE"
   ]
  },
  {
   "cell_type": "code",
   "execution_count": 156,
   "metadata": {
    "collapsed": true
   },
   "outputs": [],
   "source": [
    "\n",
    "class ConvoVAE(object):\n",
    "    '''This script demonstrates how to build a variational autoencoder\n",
    "    with Keras and deconvolution layers.\n",
    "\n",
    "    Reference: \"Auto-Encoding Variational Bayes\" https://arxiv.org/abs/1312.6114\n",
    "    '''\n",
    "    def __init__(self, input_shape=(28,28,1), latent_dim=2, intermediate_dim=256, batch_size=100, epsilon_std=1.0, dropout_p=0.1,\n",
    "                sigma=0.2):\n",
    "        # input image dimensions\n",
    "        self.input_shape = input_shape\n",
    "        if len(input_shape) == 3:\n",
    "            self.img_rows, self.img_cols, self.img_chns = input_shape\n",
    "        elif len(input_shape) == 2:\n",
    "            self.img_rows, self.img_cols = input_shape\n",
    "            self.img_chns = 1\n",
    "        else:\n",
    "            raise IndexError(\"Invalid shape: {}\".format(input_shape))\n",
    "        self.batch_size = batch_size\n",
    "        self.original_dim = np.prod(input_shape)\n",
    "        self.latent_dim = latent_dim\n",
    "        self.intermediate_dim = intermediate_dim\n",
    "        self.epsilon_std = epsilon_std\n",
    "        n_pool = 2\n",
    "\n",
    "        # number of convolutional filters to use\n",
    "        nb_filters = 64\n",
    "        # convolution kernel size\n",
    "        nb_conv = 3\n",
    "\n",
    "        batch_size = 100\n",
    "        if K_backend.image_dim_ordering() == 'th':\n",
    "            self.original_img_size = (self.img_chns, self.img_rows, self.img_cols)\n",
    "        else:\n",
    "            self.original_img_size = (self.img_rows, self.img_cols, self.img_chns)\n",
    "\n",
    "        x = Input(batch_shape=(batch_size,) + self.original_img_size)\n",
    "        x_a = GaussianNoise(sigma)(x)\n",
    "        x_a = GaussianDropout(dropout_p)(x_a)\n",
    "\n",
    "#         x_a = Activation('linear')(x)\n",
    "        conv_1 = Convolution2D(self.img_chns, 2, 2, border_mode='same', activation='relu')(x_a)\n",
    "        conv_2 = Convolution2D(nb_filters,    2, 2, border_mode='same', activation='relu', subsample=(2, 2))(conv_1)\n",
    "        conv_3 = Convolution2D(nb_filters, nb_conv, nb_conv, border_mode='same', activation='relu', subsample=(1, 1))(conv_2)\n",
    "        conv_3 = MaxPooling2D((n_pool, n_pool))(conv_3)\n",
    "        for i in range(5):\n",
    "            conv_3 = BatchNormalization()(conv_3)\n",
    "            conv_3 = Dropout(dropout_p)(conv_3)\n",
    "            conv_3 = Convolution2D(nb_filters, nb_conv, nb_conv, border_mode='same', activation='relu', subsample=(1, 1))(conv_3)\n",
    "        \n",
    "      \n",
    "        conv_3 = BatchNormalization()(conv_3)\n",
    "        conv_4 = Convolution2D(nb_filters, nb_conv, nb_conv, border_mode='same', activation='relu', subsample=(1, 1))(conv_3)\n",
    "        flat = Flatten()(conv_4)\n",
    "        hidden = Dense(intermediate_dim, activation='relu')(flat)\n",
    "\n",
    "        self.z_mean = Dense(latent_dim)(hidden)\n",
    "        self.z_log_var = Dense(latent_dim)(hidden)\n",
    "\n",
    "        # note that \"output_shape\" isn't necessary with the TensorFlow backend\n",
    "        # so you could write `Lambda(sampling)([z_mean, z_log_var])`\n",
    "        z = Lambda(self.sampling, output_shape=(latent_dim,))([self.z_mean, self.z_log_var])\n",
    "\n",
    "        # we instantiate these layers separately so as to reuse them later\n",
    "        decoder_hid = Dense(intermediate_dim, activation='relu')\n",
    "        decoder_upsample = Dense(nb_filters * 14 * 14, activation='relu')\n",
    "\n",
    "        if K_backend.image_dim_ordering() == 'th':\n",
    "            output_shape = (batch_size, nb_filters, 14, 14)\n",
    "        else:\n",
    "            output_shape = (batch_size, 14, 14, nb_filters)\n",
    "\n",
    "        decoder_reshape = Reshape(output_shape[1:])\n",
    "        decoder_deconv_1 = Deconvolution2D(nb_filters, nb_conv, nb_conv, output_shape,\n",
    "                                           border_mode='same', subsample=(1, 1), activation='relu')\n",
    "        decoder_deconv_2 = Deconvolution2D(nb_filters, nb_conv, nb_conv, output_shape,\n",
    "                                           border_mode='same', subsample=(1, 1),activation='relu')\n",
    "        if K_backend.image_dim_ordering() == 'th':\n",
    "            output_shape = (batch_size, nb_filters, 29, 29)\n",
    "        else:\n",
    "            output_shape = (batch_size, 29, 29, nb_filters)\n",
    "        decoder_deconv_3_upsamp = Deconvolution2D(nb_filters, 2, 2, output_shape,\n",
    "                                                  border_mode='valid', subsample=(2, 2), activation='relu')\n",
    "        decoder_mean_squash = Convolution2D(self.img_chns, 2, 2, border_mode='valid', activation='sigmoid')\n",
    "\n",
    "        hid_decoded = decoder_hid(z)\n",
    "        up_decoded = decoder_upsample(hid_decoded)\n",
    "        reshape_decoded = decoder_reshape(up_decoded)\n",
    "        deconv_1_decoded = decoder_deconv_1(reshape_decoded)\n",
    "        deconv_2_decoded = decoder_deconv_2(deconv_1_decoded)\n",
    "        x_decoded_relu = decoder_deconv_3_upsamp(deconv_2_decoded)\n",
    "        x_decoded_mean_squash = decoder_mean_squash(x_decoded_relu)\n",
    "\n",
    "        self.model = Model(x, x_decoded_mean_squash)\n",
    "        self.model.compile(optimizer='rmsprop', loss=self.vae_loss)\n",
    "        # self.model.summary()\n",
    "\n",
    "        # build a model to project inputs on the latent space\n",
    "        self.encoder = Model(x, self.z_mean)\n",
    "\n",
    "        # build a digit generator that can sample from the learned distribution\n",
    "        # todo: (un)roll this\n",
    "        decoder_input = Input(shape=(latent_dim,))\n",
    "        _hid_decoded = decoder_hid(decoder_input)\n",
    "        _up_decoded = decoder_upsample(_hid_decoded)\n",
    "        _reshape_decoded = decoder_reshape(_up_decoded)\n",
    "        _deconv_1_decoded = decoder_deconv_1(_reshape_decoded)\n",
    "        _deconv_2_decoded = decoder_deconv_2(_deconv_1_decoded)\n",
    "        _x_decoded_relu = decoder_deconv_3_upsamp(_deconv_2_decoded)\n",
    "        _x_decoded_mean_squash = decoder_mean_squash(_x_decoded_relu)\n",
    "        self.generator = Model(decoder_input, _x_decoded_mean_squash)\n",
    "\n",
    "    def sampling(self, args):\n",
    "        z_mean, z_log_var = args\n",
    "        epsilon = K_backend.random_normal(shape=(self.batch_size, self.latent_dim),\n",
    "                                  mean=0., std=self.epsilon_std)\n",
    "        return z_mean + K_backend.exp(z_log_var) * epsilon\n",
    "\n",
    "    def vae_loss(self, x, x_decoded_mean):\n",
    "        # NOTE: binary_crossentropy expects a batch_size by dim\n",
    "        # for x and x_decoded_mean, so we MUST flatten these!\n",
    "        x = K_backend.flatten(x)\n",
    "        x_decoded_mean = K_backend.flatten(x_decoded_mean)\n",
    "        xent_loss = self.img_rows * self.img_cols * objectives.binary_crossentropy(x, x_decoded_mean)\n",
    "        kl_loss = - 0.5 * K_backend.mean(1 + self.z_log_var - K_backend.square(self.z_mean) - K_backend.exp(self.z_log_var), axis=-1)\n",
    "        return xent_loss + kl_loss\n",
    "\n",
    "    def fit(self, x, y, batch_size=None, nb_epoch=10, verbose=1, callbacks=[], validation_split=0.,\n",
    "            validation_data=None, shuffle=True, class_weight=None, sample_weight=None):\n",
    "        callbacks_history = self.model.fit(x, y, batch_size, nb_epoch, verbose, callbacks, validation_split,\n",
    "                                           validation_data, shuffle, class_weight, sample_weight)\n",
    "        return callbacks_history"
   ]
  },
  {
   "cell_type": "code",
   "execution_count": 157,
   "metadata": {
    "collapsed": false
   },
   "outputs": [],
   "source": [
    "    \n",
    "vaeclass = ConvoVAE(latent_dim=2)\n",
    "vae = vaeclass.model\n",
    "encoder = vaeclass.encoder\n",
    "generator = vaeclass.generator"
   ]
  },
  {
   "cell_type": "code",
   "execution_count": 158,
   "metadata": {
    "collapsed": false
   },
   "outputs": [
    {
     "name": "stdout",
     "output_type": "stream",
     "text": [
      "____________________________________________________________________________________________________\n",
      "Layer (type)                     Output Shape          Param #     Connected to                     \n",
      "====================================================================================================\n",
      "input_43 (InputLayer)            (100, 28, 28, 1)      0                                            \n",
      "____________________________________________________________________________________________________\n",
      "gaussiannoise_4 (GaussianNoise)  (100, 28, 28, 1)      0           input_43[0][0]                   \n",
      "____________________________________________________________________________________________________\n",
      "gaussiandropout_1 (GaussianDropou(100, 28, 28, 1)      0           gaussiannoise_4[0][0]            \n",
      "____________________________________________________________________________________________________\n",
      "convolution2d_137 (Convolution2D)(100, 28, 28, 1)      5           gaussiandropout_1[0][0]          \n",
      "____________________________________________________________________________________________________\n",
      "convolution2d_138 (Convolution2D)(100, 14, 14, 64)     320         convolution2d_137[0][0]          \n",
      "____________________________________________________________________________________________________\n",
      "convolution2d_139 (Convolution2D)(100, 14, 14, 64)     36928       convolution2d_138[0][0]          \n",
      "____________________________________________________________________________________________________\n",
      "maxpooling2d_4 (MaxPooling2D)    (100, 7, 7, 64)       0           convolution2d_139[0][0]          \n",
      "____________________________________________________________________________________________________\n",
      "batchnormalization_50 (BatchNorma(100, 7, 7, 64)       128         maxpooling2d_4[0][0]             \n",
      "____________________________________________________________________________________________________\n",
      "dropout_38 (Dropout)             (100, 7, 7, 64)       0           batchnormalization_50[0][0]      \n",
      "____________________________________________________________________________________________________\n",
      "convolution2d_140 (Convolution2D)(100, 7, 7, 64)       36928       dropout_38[0][0]                 \n",
      "____________________________________________________________________________________________________\n",
      "batchnormalization_51 (BatchNorma(100, 7, 7, 64)       128         convolution2d_140[0][0]          \n",
      "____________________________________________________________________________________________________\n",
      "dropout_39 (Dropout)             (100, 7, 7, 64)       0           batchnormalization_51[0][0]      \n",
      "____________________________________________________________________________________________________\n",
      "convolution2d_141 (Convolution2D)(100, 7, 7, 64)       36928       dropout_39[0][0]                 \n",
      "____________________________________________________________________________________________________\n",
      "batchnormalization_52 (BatchNorma(100, 7, 7, 64)       128         convolution2d_141[0][0]          \n",
      "____________________________________________________________________________________________________\n",
      "dropout_40 (Dropout)             (100, 7, 7, 64)       0           batchnormalization_52[0][0]      \n",
      "____________________________________________________________________________________________________\n",
      "convolution2d_142 (Convolution2D)(100, 7, 7, 64)       36928       dropout_40[0][0]                 \n",
      "____________________________________________________________________________________________________\n",
      "batchnormalization_53 (BatchNorma(100, 7, 7, 64)       128         convolution2d_142[0][0]          \n",
      "____________________________________________________________________________________________________\n",
      "dropout_41 (Dropout)             (100, 7, 7, 64)       0           batchnormalization_53[0][0]      \n",
      "____________________________________________________________________________________________________\n",
      "convolution2d_143 (Convolution2D)(100, 7, 7, 64)       36928       dropout_41[0][0]                 \n",
      "____________________________________________________________________________________________________\n",
      "batchnormalization_54 (BatchNorma(100, 7, 7, 64)       128         convolution2d_143[0][0]          \n",
      "____________________________________________________________________________________________________\n",
      "dropout_42 (Dropout)             (100, 7, 7, 64)       0           batchnormalization_54[0][0]      \n",
      "____________________________________________________________________________________________________\n",
      "convolution2d_144 (Convolution2D)(100, 7, 7, 64)       36928       dropout_42[0][0]                 \n",
      "____________________________________________________________________________________________________\n",
      "batchnormalization_55 (BatchNorma(100, 7, 7, 64)       128         convolution2d_144[0][0]          \n",
      "____________________________________________________________________________________________________\n",
      "convolution2d_145 (Convolution2D)(100, 7, 7, 64)       36928       batchnormalization_55[0][0]      \n",
      "____________________________________________________________________________________________________\n",
      "flatten_18 (Flatten)             (100, 3136)           0           convolution2d_145[0][0]          \n",
      "____________________________________________________________________________________________________\n",
      "dense_89 (Dense)                 (100, 256)            803072      flatten_18[0][0]                 \n",
      "____________________________________________________________________________________________________\n",
      "dense_90 (Dense)                 (100, 2)              514         dense_89[0][0]                   \n",
      "____________________________________________________________________________________________________\n",
      "dense_91 (Dense)                 (100, 2)              514         dense_89[0][0]                   \n",
      "____________________________________________________________________________________________________\n",
      "lambda_29 (Lambda)               (100, 2)              0           dense_90[0][0]                   \n",
      "                                                                   dense_91[0][0]                   \n",
      "____________________________________________________________________________________________________\n",
      "dense_92 (Dense)                 multiple              768         lambda_29[0][0]                  \n",
      "____________________________________________________________________________________________________\n",
      "dense_93 (Dense)                 multiple              3223808     dense_92[0][0]                   \n",
      "____________________________________________________________________________________________________\n",
      "reshape_17 (Reshape)             multiple              0           dense_93[0][0]                   \n",
      "____________________________________________________________________________________________________\n",
      "deconvolution2d_49 (Deconvolutionmultiple              36928       reshape_17[0][0]                 \n",
      "____________________________________________________________________________________________________\n",
      "deconvolution2d_50 (Deconvolutionmultiple              36928       deconvolution2d_49[0][0]         \n",
      "____________________________________________________________________________________________________\n",
      "deconvolution2d_51 (Deconvolutionmultiple              16448       deconvolution2d_50[0][0]         \n",
      "____________________________________________________________________________________________________\n",
      "convolution2d_146 (Convolution2D)multiple              257         deconvolution2d_51[0][0]         \n",
      "====================================================================================================\n",
      "Total params: 4378826\n",
      "____________________________________________________________________________________________________\n"
     ]
    }
   ],
   "source": [
    "vae.summary()"
   ]
  },
  {
   "cell_type": "code",
   "execution_count": 159,
   "metadata": {
    "collapsed": false
   },
   "outputs": [],
   "source": [
    "keras.utils.visualize_util.plot(vae, 'vaec.png', show_shapes=True)\n",
    "plt.show()"
   ]
  },
  {
   "cell_type": "code",
   "execution_count": 193,
   "metadata": {
    "collapsed": false
   },
   "outputs": [
    {
     "ename": "AttributeError",
     "evalue": "'VariationalAutoencoder' object has no attribute 'original_img_size'",
     "output_type": "error",
     "traceback": [
      "\u001b[0;31m---------------------------------------------------------------------------\u001b[0m",
      "\u001b[0;31mAttributeError\u001b[0m                            Traceback (most recent call last)",
      "\u001b[0;32m<ipython-input-193-4b34fd8f226a>\u001b[0m in \u001b[0;36m<module>\u001b[0;34m()\u001b[0m\n\u001b[1;32m      1\u001b[0m \u001b[0;31m# train the VAE on MNIST digits\u001b[0m\u001b[0;34m\u001b[0m\u001b[0;34m\u001b[0m\u001b[0m\n\u001b[0;32m----> 2\u001b[0;31m \u001b[0moriginal_img_size\u001b[0m \u001b[0;34m=\u001b[0m \u001b[0mvaeclass\u001b[0m\u001b[0;34m.\u001b[0m\u001b[0moriginal_img_size\u001b[0m\u001b[0;34m\u001b[0m\u001b[0m\n\u001b[0m\u001b[1;32m      3\u001b[0m \u001b[0;34m(\u001b[0m\u001b[0mx_train\u001b[0m\u001b[0;34m,\u001b[0m \u001b[0m_\u001b[0m\u001b[0;34m)\u001b[0m\u001b[0;34m,\u001b[0m \u001b[0;34m(\u001b[0m\u001b[0mx_test\u001b[0m\u001b[0;34m,\u001b[0m \u001b[0my_test\u001b[0m\u001b[0;34m)\u001b[0m \u001b[0;34m=\u001b[0m \u001b[0mmnist\u001b[0m\u001b[0;34m.\u001b[0m\u001b[0mload_data\u001b[0m\u001b[0;34m(\u001b[0m\u001b[0;34m)\u001b[0m\u001b[0;34m\u001b[0m\u001b[0m\n\u001b[1;32m      4\u001b[0m \u001b[0;34m\u001b[0m\u001b[0m\n\u001b[1;32m      5\u001b[0m \u001b[0;32mprint\u001b[0m\u001b[0;34m(\u001b[0m\u001b[0moriginal_img_size\u001b[0m\u001b[0;34m)\u001b[0m\u001b[0;34m\u001b[0m\u001b[0m\n",
      "\u001b[0;31mAttributeError\u001b[0m: 'VariationalAutoencoder' object has no attribute 'original_img_size'"
     ]
    }
   ],
   "source": [
    "# train the VAE on MNIST digits\n",
    "original_img_size = vaeclass.original_img_size\n",
    "(x_train, _), (x_test, y_test) = mnist.load_data()\n",
    "\n",
    "print(original_img_size)\n",
    "x_train = x_train.astype('float32') / 255.\n",
    "x_train = x_train.reshape((x_train.shape[0],) + original_img_size)\n",
    "x_test = x_test.astype('float32') / 255.\n",
    "x_test = x_test.reshape((x_test.shape[0],) + original_img_size)\n"
   ]
  },
  {
   "cell_type": "code",
   "execution_count": 171,
   "metadata": {
    "collapsed": false
   },
   "outputs": [
    {
     "name": "stdout",
     "output_type": "stream",
     "text": [
      "Train on 60000 samples, validate on 10000 samples\n",
      "Epoch 1/20\n",
      "60000/60000 [==============================] - 102s - loss: 140.6787 - val_loss: 138.1703\n",
      "Epoch 2/20\n",
      "60000/60000 [==============================] - 102s - loss: 139.4992 - val_loss: 138.3074\n",
      "Epoch 3/20\n",
      "60000/60000 [==============================] - 102s - loss: 138.6479 - val_loss: 136.8518\n",
      "Epoch 4/20\n",
      "60000/60000 [==============================] - 101s - loss: 138.1657 - val_loss: 137.5399\n",
      "Epoch 5/20\n",
      "60000/60000 [==============================] - 101s - loss: 137.6486 - val_loss: 136.7468\n",
      "Epoch 6/20\n",
      "60000/60000 [==============================] - 101s - loss: 137.3305 - val_loss: 136.6298\n",
      "Epoch 7/20\n",
      "60000/60000 [==============================] - 101s - loss: 136.7190 - val_loss: 135.4392\n",
      "Epoch 8/20\n",
      "60000/60000 [==============================] - 101s - loss: 136.3319 - val_loss: 135.6504\n",
      "Epoch 9/20\n",
      "60000/60000 [==============================] - 101s - loss: 136.9648 - val_loss: 136.8793\n",
      "Epoch 10/20\n",
      "60000/60000 [==============================] - 101s - loss: 136.2357 - val_loss: 136.8218\n",
      "Epoch 11/20\n",
      "60000/60000 [==============================] - 101s - loss: 136.1037 - val_loss: 136.9026\n",
      "Epoch 12/20\n",
      "60000/60000 [==============================] - 101s - loss: 137.1677 - val_loss: 133.9673\n",
      "Epoch 13/20\n",
      "60000/60000 [==============================] - 101s - loss: 135.9912 - val_loss: 137.1759\n",
      "Epoch 14/20\n",
      "60000/60000 [==============================] - 101s - loss: 136.3534 - val_loss: 135.1779\n",
      "Epoch 15/20\n",
      "60000/60000 [==============================] - 101s - loss: 136.0372 - val_loss: 133.8939\n",
      "Epoch 16/20\n",
      "60000/60000 [==============================] - 101s - loss: 135.7943 - val_loss: 135.0955\n",
      "Epoch 17/20\n",
      "60000/60000 [==============================] - 101s - loss: 136.1665 - val_loss: 133.8203\n",
      "Epoch 18/20\n",
      "60000/60000 [==============================] - 101s - loss: 136.8744 - val_loss: 135.6907\n",
      "Epoch 19/20\n",
      "60000/60000 [==============================] - 101s - loss: 136.8663 - val_loss: 135.9355\n",
      "Epoch 20/20\n",
      "60000/60000 [==============================] - 101s - loss: 136.8580 - val_loss: 135.4104\n"
     ]
    },
    {
     "data": {
      "text/plain": [
       "<keras.callbacks.History at 0x7fbce79f3a10>"
      ]
     },
     "execution_count": 171,
     "metadata": {},
     "output_type": "execute_result"
    }
   ],
   "source": [
    "vae.fit(x_train, x_train,\n",
    "        shuffle=True,\n",
    "        nb_epoch=20,\n",
    "        batch_size=batch_size,\n",
    "        validation_data=(x_test, x_test))"
   ]
  },
  {
   "cell_type": "code",
   "execution_count": 172,
   "metadata": {
    "collapsed": false
   },
   "outputs": [
    {
     "name": "stdout",
     "output_type": "stream",
     "text": [
      "(10000, 2)\n"
     ]
    }
   ],
   "source": [
    "# display a 2D plot of the digit classes in the latent space\n",
    "x_test_encoded = encoder.predict(x_test, batch_size=batch_size)\n",
    "print(x_test_encoded.shape)"
   ]
  },
  {
   "cell_type": "code",
   "execution_count": 176,
   "metadata": {
    "collapsed": false
   },
   "outputs": [],
   "source": [
    "plt.figure(figsize=(6, 6))\n",
    "plt.scatter(x_test_encoded[:, 0], x_test_encoded[:, 1], c=y_test)\n",
    "plt.colorbar()\n",
    "plt.show()"
   ]
  },
  {
   "cell_type": "code",
   "execution_count": 112,
   "metadata": {
    "collapsed": false
   },
   "outputs": [
    {
     "ename": "IndexError",
     "evalue": "index 2 is out of bounds for axis 1 with size 2",
     "output_type": "error",
     "traceback": [
      "\u001b[0;31m---------------------------------------------------------------------------\u001b[0m",
      "\u001b[0;31mIndexError\u001b[0m                                Traceback (most recent call last)",
      "\u001b[0;32m<ipython-input-112-fc9dc5ad7bde>\u001b[0m in \u001b[0;36m<module>\u001b[0;34m()\u001b[0m\n\u001b[1;32m      1\u001b[0m \u001b[0mx_test_encoded\u001b[0m \u001b[0;34m=\u001b[0m \u001b[0mencoder\u001b[0m\u001b[0;34m.\u001b[0m\u001b[0mpredict\u001b[0m\u001b[0;34m(\u001b[0m\u001b[0mx_test\u001b[0m\u001b[0;34m,\u001b[0m \u001b[0mbatch_size\u001b[0m\u001b[0;34m=\u001b[0m\u001b[0mbatch_size\u001b[0m\u001b[0;34m)\u001b[0m\u001b[0;34m\u001b[0m\u001b[0m\n\u001b[0;32m----> 2\u001b[0;31m \u001b[0mplotstuff\u001b[0m\u001b[0;34m.\u001b[0m\u001b[0mEasy3dScatter\u001b[0m\u001b[0;34m(\u001b[0m\u001b[0mplt\u001b[0m\u001b[0;34m,\u001b[0m \u001b[0mx_test_encoded\u001b[0m\u001b[0;34m,\u001b[0m \u001b[0;34m''\u001b[0m\u001b[0;34m,\u001b[0m \u001b[0ms\u001b[0m\u001b[0;34m=\u001b[0m\u001b[0;36m10\u001b[0m\u001b[0;34m,\u001b[0m \u001b[0mc\u001b[0m\u001b[0;34m=\u001b[0m\u001b[0my_test\u001b[0m \u001b[0;34m)\u001b[0m\u001b[0;34m\u001b[0m\u001b[0m\n\u001b[0m",
      "\u001b[0;32m/home/mike/ve/ml/eegkaggle/plotting/plotstuff.pyc\u001b[0m in \u001b[0;36m__init__\u001b[0;34m(self, plotter, data, title, s, figsize, ElevAzi, c)\u001b[0m\n\u001b[1;32m     46\u001b[0m             \u001b[0mxs\u001b[0m\u001b[0;34m,\u001b[0m \u001b[0mys\u001b[0m\u001b[0;34m,\u001b[0m \u001b[0mzs\u001b[0m \u001b[0;34m=\u001b[0m \u001b[0mdata\u001b[0m\u001b[0;34m.\u001b[0m\u001b[0miloc\u001b[0m\u001b[0;34m[\u001b[0m\u001b[0;34m:\u001b[0m\u001b[0;34m,\u001b[0m \u001b[0;36m0\u001b[0m\u001b[0;34m]\u001b[0m\u001b[0;34m,\u001b[0m \u001b[0mdata\u001b[0m\u001b[0;34m.\u001b[0m\u001b[0miloc\u001b[0m\u001b[0;34m[\u001b[0m\u001b[0;34m:\u001b[0m\u001b[0;34m,\u001b[0m \u001b[0;36m1\u001b[0m\u001b[0;34m]\u001b[0m\u001b[0;34m,\u001b[0m \u001b[0mdata\u001b[0m\u001b[0;34m.\u001b[0m\u001b[0miloc\u001b[0m\u001b[0;34m[\u001b[0m\u001b[0;34m:\u001b[0m\u001b[0;34m,\u001b[0m \u001b[0;36m2\u001b[0m\u001b[0;34m]\u001b[0m\u001b[0;34m\u001b[0m\u001b[0m\n\u001b[1;32m     47\u001b[0m         \u001b[0;32melse\u001b[0m\u001b[0;34m:\u001b[0m\u001b[0;34m\u001b[0m\u001b[0m\n\u001b[0;32m---> 48\u001b[0;31m             \u001b[0mxs\u001b[0m\u001b[0;34m,\u001b[0m \u001b[0mys\u001b[0m\u001b[0;34m,\u001b[0m \u001b[0mzs\u001b[0m \u001b[0;34m=\u001b[0m \u001b[0mdata\u001b[0m\u001b[0;34m[\u001b[0m\u001b[0;34m:\u001b[0m\u001b[0;34m,\u001b[0m \u001b[0;36m0\u001b[0m\u001b[0;34m]\u001b[0m\u001b[0;34m,\u001b[0m \u001b[0mdata\u001b[0m\u001b[0;34m[\u001b[0m\u001b[0;34m:\u001b[0m\u001b[0;34m,\u001b[0m \u001b[0;36m1\u001b[0m\u001b[0;34m]\u001b[0m\u001b[0;34m,\u001b[0m \u001b[0mdata\u001b[0m\u001b[0;34m[\u001b[0m\u001b[0;34m:\u001b[0m\u001b[0;34m,\u001b[0m \u001b[0;36m2\u001b[0m\u001b[0;34m]\u001b[0m\u001b[0;34m\u001b[0m\u001b[0m\n\u001b[0m\u001b[1;32m     49\u001b[0m \u001b[0;34m\u001b[0m\u001b[0m\n\u001b[1;32m     50\u001b[0m         \u001b[0mX\u001b[0m\u001b[0;34m,\u001b[0m \u001b[0mY\u001b[0m\u001b[0;34m,\u001b[0m \u001b[0mZ\u001b[0m \u001b[0;34m=\u001b[0m \u001b[0mxs\u001b[0m\u001b[0;34m,\u001b[0m \u001b[0mys\u001b[0m\u001b[0;34m,\u001b[0m \u001b[0mzs\u001b[0m\u001b[0;34m\u001b[0m\u001b[0m\n",
      "\u001b[0;31mIndexError\u001b[0m: index 2 is out of bounds for axis 1 with size 2"
     ]
    }
   ],
   "source": [
    "x_test_encoded = encoder.predict(x_test, batch_size=batch_size)\n",
    "plotstuff.Easy3dScatter(plt, x_test_encoded, '', s=10, c=y_test )"
   ]
  },
  {
   "cell_type": "code",
   "execution_count": 177,
   "metadata": {
    "collapsed": true
   },
   "outputs": [],
   "source": [
    "# display a 2D manifold of the digits\n",
    "n = 15  # figure with 15x15 digits\n",
    "ss = 4\n",
    "digit_size = 28\n",
    "figure = np.zeros((digit_size * n, digit_size * n))\n",
    "# we will sample n points within [-15, 15] standard deviations\n",
    "grid_x = np.linspace(-ss, ss, n)\n",
    "grid_y = np.linspace(-ss, ss, n)\n",
    "\n",
    "for i, yi in enumerate(grid_x):\n",
    "    for j, xi in enumerate(grid_y):\n",
    "        z_sample = np.array([[xi, yi]])\n",
    "        z_sample = np.tile(z_sample, batch_size).reshape(batch_size, 2)\n",
    "        x_decoded = generator.predict(z_sample, batch_size=batch_size)\n",
    "        digit = x_decoded[0].reshape(digit_size, digit_size)\n",
    "        figure[i * digit_size: (i + 1) * digit_size,\n",
    "               j * digit_size: (j + 1) * digit_size] = digit"
   ]
  },
  {
   "cell_type": "code",
   "execution_count": 178,
   "metadata": {
    "collapsed": false
   },
   "outputs": [],
   "source": [
    "plt.figure(figsize=(10, 10))\n",
    "plt.imshow(figure, origin='upper')\n",
    "wid = n*digit_size\n",
    "# plt.scatter(x_test_encoded[:, 0]*wid/4 + wid//2, x_test_encoded[:, 1]*wid/4 + wid//2, c=y_test, alpha=0.5)\n",
    "\n",
    "plt.show()"
   ]
  },
  {
   "cell_type": "markdown",
   "metadata": {},
   "source": [
    "# Crossfire"
   ]
  },
  {
   "cell_type": "code",
   "execution_count": 37,
   "metadata": {
    "collapsed": false
   },
   "outputs": [],
   "source": [
    "class Crossfire(object):\n",
    "    \"\"\"\n",
    "    Covolutional VAE with a \"crossfire\" component - a classifier is bolted onto the end of the encoder and loss function\n",
    "    can be parameterized to function from classifier loss instead of autoencoder loss. Ideally, the model starts in\n",
    "    pure autoencoder mode to learn features, then as loss flattens out the network starts weighing classifier loss\n",
    "    more heavily.\n",
    "    Note to self: things to try:\n",
    "    * Add burst /batch / epoch noise to input\n",
    "    * Modularize out the activation from dropout ordering\"\"\"\n",
    "\n",
    "    def __init__(self, input_shape=(28, 28, 1), latent_dim=2, intermediate_dim=256, batch_size=100, epsilon_std=1.0,\n",
    "                 dropout_p=0.1, n_stax=0, n_classes=10):\n",
    "        # input image dimensions\n",
    "        self.input_shape = input_shape\n",
    "        if len(input_shape) == 3:\n",
    "            self.img_rows, self.img_cols, self.img_chns = input_shape\n",
    "        elif len(input_shape) == 2:\n",
    "            self.img_rows, self.img_cols = input_shape\n",
    "            self.img_chns = 1\n",
    "        else:\n",
    "            raise IndexError(\"Invalid shape: {}\".format(input_shape))\n",
    "        self.batch_size = batch_size\n",
    "        self.original_dim = np.prod(input_shape)\n",
    "        self.latent_dim = latent_dim\n",
    "        self.intermediate_dim = intermediate_dim\n",
    "        self.epsilon_std = epsilon_std\n",
    "        self.epsilon_ce = 1.0e-9\n",
    "\n",
    "        # number of convolutional filters to use\n",
    "        nb_filters = 64\n",
    "        # convolution kernel size\n",
    "        nb_conv = 3\n",
    "\n",
    "        batch_size = 100\n",
    "        if K_backend.image_dim_ordering() == 'th':\n",
    "            self.original_img_size = (self.img_chns, self.img_rows, self.img_cols)\n",
    "        else:\n",
    "            self.original_img_size = (self.img_rows, self.img_cols, self.img_chns)\n",
    "\n",
    "        x = Input(batch_shape=(batch_size,) + self.original_img_size, name='main_input')\n",
    "        conv_1 = Convolution2D(self.img_chns, 2, 2, border_mode='same', activation='relu')(x)\n",
    "        conv_2 = Convolution2D(nb_filters, 2, 2,\n",
    "                               border_mode='same', activation='relu', subsample=(2, 2))(conv_1)\n",
    "        conv_3 = Convolution2D(nb_filters, nb_conv, nb_conv, border_mode='same', activation='relu', subsample=(1, 1))(\n",
    "            conv_2)\n",
    "        for i in range(n_stax):\n",
    "            conv_3 = BatchNormalization()(conv_3)\n",
    "            conv_3 = Dropout(dropout_p)(conv_3)\n",
    "            conv_3 = Convolution2D(nb_filters, nb_conv, nb_conv, border_mode='same', activation='relu',\n",
    "                                   subsample=(1, 1))(conv_3)\n",
    "\n",
    "        conv_3 = BatchNormalization()(conv_3)\n",
    "        conv_4 = Convolution2D(nb_filters, nb_conv, nb_conv, border_mode='same', activation='relu', subsample=(1, 1))(\n",
    "            conv_3)\n",
    "        flat = Flatten()(conv_4)\n",
    "        hidden = Dense(intermediate_dim, activation='relu', name='intermed')(flat)\n",
    "\n",
    "        self.z_mean = Dense(latent_dim, name='z_mean')(hidden)\n",
    "        self.z_log_var = Dense(latent_dim, name='z_log_var')(hidden)\n",
    "\n",
    "\n",
    "        # note that \"output_shape\" isn't necessary with the TensorFlow backend\n",
    "        # so you could write `Lambda(sampling)([z_mean, z_log_var])`\n",
    "        z = Lambda(self.sampling, output_shape=(latent_dim,))([self.z_mean, self.z_log_var])\n",
    "\n",
    "        ## ==== End of encoding portion ======\n",
    "\n",
    "        ## ==== Crossfire classifier =========\n",
    "#         c = Lambda(self.crosser, output_shape=(latent_dim,))(self.z_mean, self.z_log_var)\n",
    "        classer = Dense(n_classes, init='normal', activation='softmax', name='classer')(self.z_mean)\n",
    "\n",
    "        # Slicer example\n",
    "        # y = Lambda(lambda x: x[:,0,:,:], output_shape=(1,) + input_shape[2:])(x)\n",
    "\n",
    "\n",
    "\n",
    "\n",
    "        # we instantiate these layers separately so as to reuse them later\n",
    "        decoder_hid = Dense(intermediate_dim, activation='relu')\n",
    "        decoder_upsample = Dense(nb_filters * 14 * 14, activation='relu')\n",
    "\n",
    "        if K_backend.image_dim_ordering() == 'th':\n",
    "            output_shape = (batch_size, nb_filters, 14, 14)\n",
    "        else:\n",
    "            output_shape = (batch_size, 14, 14, nb_filters)\n",
    "\n",
    "        decoder_reshape = Reshape(output_shape[1:])\n",
    "        decoder_deconv_1 = Deconvolution2D(nb_filters, nb_conv, nb_conv, output_shape, border_mode='same', subsample=(1, 1), activation='relu')\n",
    "        decoder_deconv_2 = Deconvolution2D(nb_filters, nb_conv, nb_conv, output_shape, border_mode='same', subsample=(1, 1), activation='relu')\n",
    "        if K_backend.image_dim_ordering() == 'th':\n",
    "            output_shape = (batch_size, nb_filters, 29, 29)\n",
    "        else:\n",
    "            output_shape = (batch_size, 29, 29, nb_filters)\n",
    "        decoder_deconv_3_upsamp = Deconvolution2D(nb_filters, 2, 2, output_shape,\n",
    "                                                  border_mode='valid', subsample=(2, 2), activation='relu')\n",
    "        decoder_mean_squash = Convolution2D(self.img_chns, 2, 2, border_mode='valid', \n",
    "                                            activation='sigmoid', name='main_output')\n",
    "\n",
    "        hid_decoded = decoder_hid(z)\n",
    "        up_decoded = decoder_upsample(hid_decoded)\n",
    "        reshape_decoded = decoder_reshape(up_decoded)\n",
    "        deconv_1_decoded = decoder_deconv_1(reshape_decoded)\n",
    "        deconv_2_decoded = decoder_deconv_2(deconv_1_decoded)\n",
    "        x_decoded_relu = decoder_deconv_3_upsamp(deconv_2_decoded)\n",
    "        x_decoded_mean_squash = decoder_mean_squash(x_decoded_relu)\n",
    "\n",
    "        \n",
    "\n",
    "        # build a digit generator that can sample from the learned distribution\n",
    "        # todo: (un)roll this\n",
    "        decoder_input = Input(shape=(latent_dim,))\n",
    "        _hid_decoded = decoder_hid(decoder_input)\n",
    "        _up_decoded = decoder_upsample(_hid_decoded)\n",
    "        _reshape_decoded = decoder_reshape(_up_decoded)\n",
    "        _deconv_1_decoded = decoder_deconv_1(_reshape_decoded)\n",
    "        _deconv_2_decoded = decoder_deconv_2(_deconv_1_decoded)\n",
    "        _x_decoded_relu = decoder_deconv_3_upsamp(_deconv_2_decoded)\n",
    "        _x_decoded_mean_squash = decoder_mean_squash(_x_decoded_relu)\n",
    "        \n",
    "\n",
    "        \n",
    "        # Generate models\n",
    "        # Primary model - VAE\n",
    "        self.model = Model(x, x_decoded_mean_squash)\n",
    "        # Crossfilre network\n",
    "        self.classifier = Model(x, classer)\n",
    "        # Ok, now comes the tricky part. See these references:\n",
    "        # https://keras.io/getting-started/functional-api-guide/#multi-input-and-multi-output-models\n",
    "        self.crossmodel = Model(input=x, output=[x_decoded_mean_squash, classer])\n",
    "        self.crossmodel.compile(optimizer='rmsprop',\n",
    "                               loss={'main_output': self.vae_loss,\n",
    "                                    'classer': 'categorical_crossentropy'},\n",
    "                               loss_weights={'main_output': 1.0,\n",
    "                                            'classer': 1.0})\n",
    "        \n",
    "        # build a model to project inputs on the latent space\n",
    "        self.encoder = Model(x, self.z_mean)\n",
    "        # reconstruct digits from latent space        \n",
    "        self.generator = Model(decoder_input, _x_decoded_mean_squash)\n",
    "        self.model.compile(optimizer='rmsprop', loss=self.vae_loss)\n",
    "#         self.classifier.compile(loss='categorical_crossentropy', optimizer='adam', metrics=['accuracy'])\n",
    "        self.classifier.compile(loss=self.custom_crossent, optimizer='adam', metrics=['accuracy'])\n",
    "\n",
    "        \n",
    "    def fit_crossmodel(self, x_dict, y_dict, batch_size=None, nb_epoch=10, verbose=1, callbacks=[], validation_split=0.,\n",
    "            validation_data=None, shuffle=True, class_weight=None, sample_weight=None):\n",
    "        callbacks_history = self.crossmodel.fit(x_dict, y_dict, batch_size, nb_epoch, verbose, callbacks, validation_split,\n",
    "                                           validation_data, shuffle, class_weight, sample_weight)\n",
    "        return callbacks_history\n",
    "\n",
    "    def sampling(self, args):\n",
    "        z_mean, z_log_var = args\n",
    "        epsilon = K_backend.random_normal(shape=(self.batch_size, self.latent_dim),\n",
    "                                          mean=0., std=self.epsilon_std)\n",
    "        return z_mean + K_backend.exp(z_log_var) * epsilon\n",
    "    \n",
    "    def crosser(self, args):\n",
    "        z_mean, z_log_var = args\n",
    "        return z_mean\n",
    "\n",
    "    def vae_loss(self, x, x_decoded_mean):\n",
    "        # NOTE: binary_crossentropy expects a batch_size by dim\n",
    "        # for x and x_decoded_mean, so we MUST flatten these!\n",
    "        x = K_backend.flatten(x)\n",
    "        x_decoded_mean = K_backend.flatten(x_decoded_mean)\n",
    "        xent_loss = self.img_rows * self.img_cols * objectives.binary_crossentropy(x, x_decoded_mean)\n",
    "        kl_loss = - 0.5 * K_backend.mean(1 + self.z_log_var - K_backend.square(self.z_mean) - K_backend.exp(self.z_log_var), axis=-1)\n",
    "        return xent_loss + kl_loss\n",
    "    \n",
    "    def custom_crossent(self, y_true, y_pred):\n",
    "        '''Just another crossentropy'''\n",
    "        \n",
    "#         y_pred = K_backend.clip(y_pred, self.epsilon_ce, 1.0 - self.epsilon_ce)\n",
    "#         y_pred /= K_backend.sum(y_pred, axis=-1, keepdims=True)\n",
    "        cce = K_backend.categorical_crossentropy(y_pred, y_true)\n",
    "        return cce\n",
    "    \n",
    "    \n",
    "\n",
    "    def fit(self, x, y, batch_size=None, nb_epoch=10, verbose=1, callbacks=[], validation_split=0.,\n",
    "            validation_data=None, shuffle=True, class_weight=None, sample_weight=None):\n",
    "        callbacks_history = self.model.fit(x, y, batch_size, nb_epoch, verbose, callbacks, validation_split,\n",
    "                                           validation_data, shuffle, class_weight, sample_weight)\n",
    "        return callbacks_history\n",
    "\n",
    "    def fit_ae(self, x, batch_size=None, nb_epoch=10, verbose=1, callbacks=[], validation_split=0.,\n",
    "            validation_data=None, shuffle=True, class_weight=None, sample_weight=None):\n",
    "        callbacks_history = self.model.fit(x, x, batch_size, nb_epoch, verbose, callbacks, validation_split,\n",
    "                                           validation_data, shuffle, class_weight, sample_weight)\n",
    "        return callbacks_history\n",
    "    \n",
    "    def crossfit(self, x, y, batch_size=None, nb_epoch_ae=5, nb_epoch_cf=10, verbose=1, callbacks=[], validation_split=0.,\n",
    "            validation_data=None, shuffle=True, class_weight=None, sample_weight=None):\n",
    "        valid_ae, valid_cf = validation_data\n",
    "        for i in range(nb_epoch_ae):\n",
    "            callbacks_history = self.model.fit(x, x, batch_size, 1, verbose, callbacks, validation_split,\n",
    "                                           valid_ae, shuffle, class_weight, sample_weight)\n",
    "        for i in range(nb_epoch_cf):\n",
    "            callbacks_history = self.classifier.fit(x, y, batch_size, 1, verbose, callbacks, validation_split,\n",
    "                                           valid_cf, shuffle, class_weight, sample_weight)\n",
    "        return callbacks_history"
   ]
  },
  {
   "cell_type": "code",
   "execution_count": null,
   "metadata": {
    "collapsed": false
   },
   "outputs": [],
   "source": [
    "vaeclass = Crossfire(latent_dim=2)\n",
    "vae = vaeclass.model\n",
    "encoder = vaeclass.encoder\n",
    "generator = vaeclass.generator\n",
    "classifier = vaeclass.classifier\n",
    "crosser = vaeclass.crossmodel"
   ]
  },
  {
   "cell_type": "code",
   "execution_count": 235,
   "metadata": {
    "collapsed": true
   },
   "outputs": [],
   "source": [
    "keras.utils.visualize_util.plot(vae, 'vaex.png', show_shapes=True)\n",
    "keras.utils.visualize_util.plot(encoder, 'vaex_enc.png', show_shapes=True)\n",
    "keras.utils.visualize_util.plot(classifier, 'vaex_cls.png', show_shapes=True)\n",
    "\n",
    "# plt.show()\n"
   ]
  },
  {
   "cell_type": "code",
   "execution_count": 25,
   "metadata": {
    "collapsed": false
   },
   "outputs": [
    {
     "name": "stdout",
     "output_type": "stream",
     "text": [
      "(28, 28, 1)\n"
     ]
    }
   ],
   "source": [
    "# train the VAE on MNIST digits\n",
    "original_img_size = vaeclass.original_img_size\n",
    "(x_train, y_train), (x_test, y_test) = mnist.load_data()\n",
    "batch_size = 100\n",
    "print(original_img_size)\n",
    "x_train = x_train.astype('float32') / 255.\n",
    "x_train = x_train.reshape((x_train.shape[0],) + original_img_size)\n",
    "x_test = x_test.astype('float32') / 255.\n",
    "x_test = x_test.reshape((x_test.shape[0],) + original_img_size)"
   ]
  },
  {
   "cell_type": "code",
   "execution_count": 17,
   "metadata": {
    "collapsed": false
   },
   "outputs": [
    {
     "name": "stdout",
     "output_type": "stream",
     "text": [
      "((60000,), (10000, 10))\n",
      "('x_train.shape:', (60000, 28, 28, 1))\n",
      "('x_train.shape:', (60000, 28, 28, 1))\n"
     ]
    }
   ],
   "source": [
    "# one hot encode outputs\n",
    "y_train_oh = np_utils.to_categorical(y_train)\n",
    "y_test_oh = np_utils.to_categorical(y_test)\n",
    "num_classes = y_test_oh.shape[1]\n",
    "print(y_train.shape, y_test_oh.shape)\n",
    "print('x_train.shape:', x_train.shape)\n",
    "print('x_train.shape:', x_train.shape)"
   ]
  },
  {
   "cell_type": "code",
   "execution_count": 24,
   "metadata": {
    "collapsed": false
   },
   "outputs": [
    {
     "ename": "NameError",
     "evalue": "name 'batch_size' is not defined",
     "output_type": "error",
     "traceback": [
      "\u001b[0;31m---------------------------------------------------------------------------\u001b[0m",
      "\u001b[0;31mNameError\u001b[0m                                 Traceback (most recent call last)",
      "\u001b[0;32m<ipython-input-24-c141b868238c>\u001b[0m in \u001b[0;36m<module>\u001b[0;34m()\u001b[0m\n\u001b[1;32m      2\u001b[0m         \u001b[0mshuffle\u001b[0m\u001b[0;34m=\u001b[0m\u001b[0mTrue\u001b[0m\u001b[0;34m,\u001b[0m\u001b[0;34m\u001b[0m\u001b[0m\n\u001b[1;32m      3\u001b[0m         \u001b[0mnb_epoch\u001b[0m\u001b[0;34m=\u001b[0m\u001b[0;36m1\u001b[0m\u001b[0;34m,\u001b[0m\u001b[0;34m\u001b[0m\u001b[0m\n\u001b[0;32m----> 4\u001b[0;31m         \u001b[0mbatch_size\u001b[0m\u001b[0;34m=\u001b[0m\u001b[0mbatch_size\u001b[0m\u001b[0;34m,\u001b[0m\u001b[0;34m\u001b[0m\u001b[0m\n\u001b[0m\u001b[1;32m      5\u001b[0m         validation_data=(x_test, x_test))\n",
      "\u001b[0;31mNameError\u001b[0m: name 'batch_size' is not defined"
     ]
    }
   ],
   "source": [
    "vae.fit(x_train, x_train,\n",
    "        shuffle=True,\n",
    "        nb_epoch=1,\n",
    "        batch_size=batch_size,\n",
    "        validation_data=(x_test, x_test))"
   ]
  },
  {
   "cell_type": "code",
   "execution_count": 34,
   "metadata": {
    "collapsed": false
   },
   "outputs": [
    {
     "name": "stdout",
     "output_type": "stream",
     "text": [
      "Epoch 1/1\n",
      "60000/60000 [==============================] - 84s - loss: 153.8549 - main_output_loss: 153.5121 - classer_loss: 1.7143    \n"
     ]
    },
    {
     "data": {
      "text/plain": [
       "<keras.callbacks.History at 0x7f8e2de23890>"
      ]
     },
     "execution_count": 34,
     "metadata": {},
     "output_type": "execute_result"
    }
   ],
   "source": [
    "vaeclass.fit_crossmodel(x_train, {'main_output': x_train, 'classer': y_train_oh}, \n",
    "        shuffle=True, batch_size=100, #validation_data=((x_test, x_test), (x_test, y_test_oh)), \n",
    "        nb_epoch=1)"
   ]
  },
  {
   "cell_type": "code",
   "execution_count": 30,
   "metadata": {
    "collapsed": false
   },
   "outputs": [],
   "source": [
    "# vaeclass.crossfit(x_train, y_train_oh, shuffle=True, batch_size=100, validation_data=((x_test, x_test), (x_test, y_test_oh)), \n",
    "#         nb_epoch_ae=1, nb_epoch_cf=1)"
   ]
  },
  {
   "cell_type": "code",
   "execution_count": 31,
   "metadata": {
    "collapsed": false
   },
   "outputs": [],
   "source": [
    "# classifier.fit(x_train, y_train_oh, shuffle=True,batch_size=100, validation_data=(x_test, y_test_oh), nb_epoch=1,)"
   ]
  },
  {
   "cell_type": "code",
   "execution_count": 35,
   "metadata": {
    "collapsed": false
   },
   "outputs": [
    {
     "name": "stdout",
     "output_type": "stream",
     "text": [
      "(10000, 2)\n"
     ]
    }
   ],
   "source": [
    "# display a 2D plot of the digit classes in the latent space\n",
    "x_test_encoded = encoder.predict(x_test, batch_size=batch_size)\n",
    "print(x_test_encoded.shape)"
   ]
  },
  {
   "cell_type": "code",
   "execution_count": 36,
   "metadata": {
    "collapsed": false
   },
   "outputs": [],
   "source": [
    "plt.figure(figsize=(6, 6))\n",
    "plt.scatter(x_test_encoded[:, 0], x_test_encoded[:, 1], c=y_test)\n",
    "plt.show()"
   ]
  },
  {
   "cell_type": "code",
   "execution_count": 239,
   "metadata": {
    "collapsed": false
   },
   "outputs": [
    {
     "name": "stdout",
     "output_type": "stream",
     "text": [
      "(60000, 2)\n"
     ]
    }
   ],
   "source": [
    "x_train_encoded = encoder.predict(x_train, batch_size=batch_size)\n",
    "print(x_train_encoded.shape)"
   ]
  },
  {
   "cell_type": "code",
   "execution_count": 242,
   "metadata": {
    "collapsed": false
   },
   "outputs": [],
   "source": [
    "plt.figure(figsize=(6, 6))\n",
    "plt.scatter(x_train_encoded[:, 0], x_train_encoded[:, 1], c=y_train)\n",
    "plt.show()"
   ]
  },
  {
   "cell_type": "code",
   "execution_count": null,
   "metadata": {
    "collapsed": true
   },
   "outputs": [],
   "source": []
  }
 ],
 "metadata": {
  "kernelspec": {
   "display_name": "Python 2",
   "language": "python",
   "name": "python2"
  },
  "language_info": {
   "codemirror_mode": {
    "name": "ipython",
    "version": 2
   },
   "file_extension": ".py",
   "mimetype": "text/x-python",
   "name": "python",
   "nbconvert_exporter": "python",
   "pygments_lexer": "ipython2",
   "version": "2.7.11"
  }
 },
 "nbformat": 4,
 "nbformat_minor": 1
}
