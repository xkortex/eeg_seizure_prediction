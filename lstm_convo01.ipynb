{
 "cells": [
  {
   "cell_type": "code",
   "execution_count": 2,
   "metadata": {
    "collapsed": true
   },
   "outputs": [],
   "source": [
    "%matplotlib inline"
   ]
  },
  {
   "cell_type": "code",
   "execution_count": 79,
   "metadata": {
    "collapsed": true
   },
   "outputs": [],
   "source": [
    "from boilerplate import *\n",
    "import os, sys\n",
    "import functional_vectorizer\n",
    "from dio import dataio\n",
    "from scipy import fftpack, signal\n",
    "from imp import reload"
   ]
  },
  {
   "cell_type": "code",
   "execution_count": 54,
   "metadata": {
    "collapsed": false
   },
   "outputs": [],
   "source": [
    "# LSTM and CNN for sequence classification in the IMDB dataset\n",
    "import numpy\n",
    "from keras.datasets import imdb\n",
    "from keras.models import Sequential\n",
    "from keras.layers import Dense\n",
    "from keras.layers import LSTM\n",
    "from keras.layers.convolutional import Convolution1D\n",
    "from keras.layers.convolutional import MaxPooling1D\n",
    "from keras.layers.embeddings import Embedding\n",
    "from keras.preprocessing import sequence\n",
    "# fix random seed for reproducibility\n",
    "numpy.random.seed(7)\n",
    "# load the dataset but only keep the top n words, zero the rest\n",
    "top_words = 5000\n",
    "(X_train, y_train), (X_test, y_test) = imdb.load_data(nb_words=top_words)"
   ]
  },
  {
   "cell_type": "code",
   "execution_count": 55,
   "metadata": {
    "collapsed": false
   },
   "outputs": [
    {
     "name": "stdout",
     "output_type": "stream",
     "text": [
      "((25000,), (25000,), (25000,), (25000,))\n"
     ]
    }
   ],
   "source": [
    "print(X_train.shape, y_train.shape, X_test.shape, y_test.shape)"
   ]
  },
  {
   "cell_type": "code",
   "execution_count": 57,
   "metadata": {
    "collapsed": false
   },
   "outputs": [
    {
     "data": {
      "text/plain": [
       "218"
      ]
     },
     "execution_count": 57,
     "metadata": {},
     "output_type": "execute_result"
    }
   ],
   "source": [
    "len(X_train[0])"
   ]
  },
  {
   "cell_type": "code",
   "execution_count": null,
   "metadata": {
    "collapsed": false
   },
   "outputs": [],
   "source": []
  },
  {
   "cell_type": "code",
   "execution_count": null,
   "metadata": {
    "collapsed": true
   },
   "outputs": [],
   "source": [
    "assert 0, 'dont run'\n",
    "model.fit(X_train, y_train, nb_epoch=3, batch_size=64)\n",
    "# Final evaluation of the model\n",
    "scores = model.evaluate(X_test, y_test, verbose=0)\n",
    "print(\"Accuracy: %.2f%%\" % (scores[1]*100))"
   ]
  },
  {
   "cell_type": "code",
   "execution_count": 139,
   "metadata": {
    "collapsed": false
   },
   "outputs": [],
   "source": [
    "data = np.load('/run/media/mike/Elements/data/kaggle/melbourne/vectors/simple_fft_vectorizedata_train_1_X.npy')\n",
    "Y = np.load('/run/media/mike/Elements/data/kaggle/melbourne/vectors/simple_fft_vectorizedata_train_1_Y.npy')"
   ]
  },
  {
   "cell_type": "code",
   "execution_count": 44,
   "metadata": {
    "collapsed": false
   },
   "outputs": [
    {
     "name": "stdout",
     "output_type": "stream",
     "text": [
      "((1301, 6000), (1301, 2), array([ 0.88547271,  0.11452729]))\n"
     ]
    }
   ],
   "source": [
    "print(data.shape, Y.shape, np.mean(Y, axis=0))"
   ]
  },
  {
   "cell_type": "code",
   "execution_count": 33,
   "metadata": {
    "collapsed": false
   },
   "outputs": [
    {
     "data": {
      "text/plain": [
       "[<matplotlib.lines.Line2D at 0x7f25f440bf10>]"
      ]
     },
     "execution_count": 33,
     "metadata": {},
     "output_type": "execute_result"
    },
    {
     "data": {
      "image/png": "[encoded data removed]",
      "text/plain": [
       "<matplotlib.figure.Figure at 0x7f25f4588090>"
      ]
     },
     "metadata": {},
     "output_type": "display_data"
    }
   ],
   "source": [
    "plt.plot(data[20])"
   ]
  },
  {
   "cell_type": "code",
   "execution_count": 15,
   "metadata": {
    "collapsed": true
   },
   "outputs": [],
   "source": [
    "# data = dataio.get_matlab_eeg_data_ary('/home/mike/data/train/1_1001_0.mat')"
   ]
  },
  {
   "cell_type": "code",
   "execution_count": 38,
   "metadata": {
    "collapsed": false
   },
   "outputs": [
    {
     "data": {
      "text/plain": [
       "(1301, 6000)"
      ]
     },
     "execution_count": 38,
     "metadata": {},
     "output_type": "execute_result"
    }
   ],
   "source": [
    "data.shape"
   ]
  },
  {
   "cell_type": "code",
   "execution_count": 41,
   "metadata": {
    "collapsed": false
   },
   "outputs": [
    {
     "data": {
      "text/plain": [
       "[<matplotlib.lines.Line2D at 0x7f25e59f6c50>]"
      ]
     },
     "execution_count": 41,
     "metadata": {},
     "output_type": "execute_result"
    },
    {
     "data": {
      "image/png": "[encoded data removed]",
      "text/plain": [
       "<matplotlib.figure.Figure at 0x7f25e5aff5d0>"
      ]
     },
     "metadata": {},
     "output_type": "display_data"
    }
   ],
   "source": [
    "ds = signal.resample(data[0:], 256, axis=1)\n",
    "plt.plot(ds[0])"
   ]
  },
  {
   "cell_type": "code",
   "execution_count": 136,
   "metadata": {
    "collapsed": false
   },
   "outputs": [
    {
     "name": "stdout",
     "output_type": "stream",
     "text": [
      "____________________________________________________________________________________________________\n",
      "Layer (type)                     Output Shape          Param #     Connected to                     \n",
      "====================================================================================================\n",
      "convolution1d_7 (Convolution1D)  (None, 256, 64)       576         convolution1d_input_5[0][0]      \n",
      "____________________________________________________________________________________________________\n",
      "maxpooling1d_5 (MaxPooling1D)    (None, 128, 64)       0           convolution1d_7[0][0]            \n",
      "____________________________________________________________________________________________________\n",
      "lstm_5 (LSTM)                    (None, 100)           66000       maxpooling1d_5[0][0]             \n",
      "____________________________________________________________________________________________________\n",
      "dense_5 (Dense)                  (None, 2)             202         lstm_5[0][0]                     \n",
      "====================================================================================================\n",
      "Total params: 66778\n",
      "____________________________________________________________________________________________________\n",
      "None\n"
     ]
    }
   ],
   "source": [
    "# truncate and pad input sequences\n",
    "max_review_length = 500\n",
    "X_train = sequence.pad_sequences(X_train, maxlen=max_review_length)\n",
    "X_test = sequence.pad_sequences(X_test, maxlen=max_review_length)\n",
    "# create the model\n",
    "embedding_vecor_length = 32\n",
    "n_input_len=ds.shape[1]\n",
    "model = Sequential()\n",
    "# model.add(Embedding(top_words, embedding_vecor_length, input_length=max_review_length))\n",
    "model.add(Convolution1D(nb_filter=64, filter_length=8, input_dim=1, \n",
    "                        input_length=n_input_len, border_mode='same', activation='relu'))\n",
    "model.add(MaxPooling1D(pool_length=2))\n",
    "model.add(LSTM(100))\n",
    "model.add(Dense(2, activation='sigmoid'))\n",
    "model.compile(loss='binary_crossentropy', optimizer='adam', metrics=['accuracy'])\n",
    "print(model.summary())"
   ]
  },
  {
   "cell_type": "code",
   "execution_count": 106,
   "metadata": {
    "collapsed": false
   },
   "outputs": [
    {
     "data": {
      "text/plain": [
       "<module 'eegkaggle.dio.dataio' from 'eegkaggle/dio/dataio.pyc'>"
      ]
     },
     "execution_count": 106,
     "metadata": {},
     "output_type": "execute_result"
    }
   ],
   "source": [
    "os.chdir('/home/mike/ve/ml/')\n",
    "from eegkaggle.dio import dataio\n",
    "reload(dataio)"
   ]
  },
  {
   "cell_type": "code",
   "execution_count": 101,
   "metadata": {
    "collapsed": false
   },
   "outputs": [
    {
     "data": {
      "text/plain": [
       "(1301, 256)"
      ]
     },
     "execution_count": 101,
     "metadata": {},
     "output_type": "execute_result"
    }
   ],
   "source": [
    "ds.shape"
   ]
  },
  {
   "cell_type": "code",
   "execution_count": 140,
   "metadata": {
    "collapsed": false
   },
   "outputs": [
    {
     "name": "stdout",
     "output_type": "stream",
     "text": [
      "((1152, 256), (149, 256))\n"
     ]
    }
   ],
   "source": [
    "d0, d1, dt = dataio.separate_sets(ds, Y[:,1])\n",
    "print(d0.shape, d1.shape)\n",
    "x,y = dataio.subdiv_and_shuffle(ds, Y[:,1], resample='up')"
   ]
  },
  {
   "cell_type": "code",
   "execution_count": 141,
   "metadata": {
    "collapsed": false
   },
   "outputs": [
    {
     "data": {
      "text/plain": [
       "2344"
      ]
     },
     "execution_count": 141,
     "metadata": {},
     "output_type": "execute_result"
    }
   ],
   "source": [
    "len(y)"
   ]
  },
  {
   "cell_type": "code",
   "execution_count": 142,
   "metadata": {
    "collapsed": false
   },
   "outputs": [
    {
     "data": {
      "text/plain": [
       "0.50853242320819114"
      ]
     },
     "execution_count": 142,
     "metadata": {},
     "output_type": "execute_result"
    }
   ],
   "source": [
    "np.mean(y)"
   ]
  },
  {
   "cell_type": "code",
   "execution_count": 143,
   "metadata": {
    "collapsed": false
   },
   "outputs": [
    {
     "data": {
      "text/plain": [
       "array([[ 1.],\n",
       "       [ 0.],\n",
       "       [ 1.],\n",
       "       ..., \n",
       "       [ 1.],\n",
       "       [ 1.],\n",
       "       [ 1.]])"
      ]
     },
     "execution_count": 143,
     "metadata": {},
     "output_type": "execute_result"
    }
   ],
   "source": [
    "y"
   ]
  },
  {
   "cell_type": "code",
   "execution_count": 144,
   "metadata": {
    "collapsed": false
   },
   "outputs": [
    {
     "data": {
      "text/plain": [
       "array([[ True],\n",
       "       [False],\n",
       "       [ True],\n",
       "       ..., \n",
       "       [ True],\n",
       "       [ True],\n",
       "       [ True]], dtype=bool)"
      ]
     },
     "execution_count": 144,
     "metadata": {},
     "output_type": "execute_result"
    }
   ],
   "source": [
    "Y = np.asarray(y == 1)\n",
    "Y"
   ]
  },
  {
   "cell_type": "code",
   "execution_count": 145,
   "metadata": {
    "collapsed": false
   },
   "outputs": [
    {
     "data": {
      "text/plain": [
       "0.50853242320819114"
      ]
     },
     "execution_count": 145,
     "metadata": {},
     "output_type": "execute_result"
    }
   ],
   "source": [
    "Y = np.stack([Y, ~Y], axis=1)\n",
    "Y = np.array(Y, dtype=int)\n",
    "np.mean(Y[:,0])"
   ]
  },
  {
   "cell_type": "code",
   "execution_count": 147,
   "metadata": {
    "collapsed": false
   },
   "outputs": [
    {
     "name": "stdout",
     "output_type": "stream",
     "text": [
      "((2344, 256, 1), (2344, 2))\n",
      "Train on 1875 samples, validate on 469 samples\n",
      "Epoch 1/30\n",
      "1875/1875 [==============================] - 6s - loss: 0.6852 - acc: 0.5565 - val_loss: 0.7714 - val_acc: 0.4542\n",
      "Epoch 2/30\n",
      "1875/1875 [==============================] - 6s - loss: 0.6949 - acc: 0.5021 - val_loss: 0.6972 - val_acc: 0.4542\n",
      "Epoch 3/30\n",
      "1875/1875 [==============================] - 6s - loss: 0.6916 - acc: 0.5221 - val_loss: 0.6960 - val_acc: 0.4542\n",
      "Epoch 4/30\n",
      "1875/1875 [==============================] - 6s - loss: 0.6895 - acc: 0.5288 - val_loss: 0.6941 - val_acc: 0.4659\n",
      "Epoch 5/30\n",
      "1875/1875 [==============================] - 6s - loss: 0.6818 - acc: 0.5755 - val_loss: 0.6735 - val_acc: 0.5917\n",
      "Epoch 6/30\n",
      "1875/1875 [==============================] - 6s - loss: 0.6426 - acc: 0.6547 - val_loss: 0.7863 - val_acc: 0.4542\n",
      "Epoch 7/30\n",
      "1875/1875 [==============================] - 6s - loss: 0.7066 - acc: 0.5037 - val_loss: 0.6883 - val_acc: 0.5458\n",
      "Epoch 8/30\n",
      "1875/1875 [==============================] - 6s - loss: 0.6903 - acc: 0.5245 - val_loss: 0.6947 - val_acc: 0.4542\n",
      "Epoch 9/30\n",
      "1875/1875 [==============================] - 6s - loss: 0.6890 - acc: 0.5227 - val_loss: 0.6936 - val_acc: 0.4563\n",
      "Epoch 10/30\n",
      "1875/1875 [==============================] - 6s - loss: 0.6869 - acc: 0.5829 - val_loss: 0.6914 - val_acc: 0.4691\n",
      "Epoch 11/30\n",
      "1875/1875 [==============================] - 6s - loss: 0.6734 - acc: 0.6285 - val_loss: 0.6524 - val_acc: 0.6525\n",
      "Epoch 12/30\n",
      "1875/1875 [==============================] - 6s - loss: 0.6693 - acc: 0.6000 - val_loss: 0.6423 - val_acc: 0.6461\n",
      "Epoch 13/30\n",
      "1875/1875 [==============================] - 6s - loss: 0.6358 - acc: 0.6755 - val_loss: 0.6198 - val_acc: 0.6706\n",
      "Epoch 14/30\n",
      "1875/1875 [==============================] - 6s - loss: 0.6404 - acc: 0.6456 - val_loss: 0.6481 - val_acc: 0.6226\n",
      "Epoch 15/30\n",
      "1875/1875 [==============================] - 6s - loss: 0.6226 - acc: 0.6747 - val_loss: 0.6390 - val_acc: 0.6684\n",
      "Epoch 16/30\n",
      "1875/1875 [==============================] - 6s - loss: 0.6375 - acc: 0.6621 - val_loss: 0.6275 - val_acc: 0.6727\n",
      "Epoch 17/30\n",
      "1875/1875 [==============================] - 6s - loss: 0.6230 - acc: 0.6661 - val_loss: 0.6107 - val_acc: 0.6642\n",
      "Epoch 18/30\n",
      "1875/1875 [==============================] - 6s - loss: 0.6183 - acc: 0.6808 - val_loss: 0.6128 - val_acc: 0.6567\n",
      "Epoch 19/30\n",
      "1875/1875 [==============================] - 6s - loss: 0.6152 - acc: 0.6709 - val_loss: 0.6173 - val_acc: 0.6620\n",
      "Epoch 20/30\n",
      "1875/1875 [==============================] - 6s - loss: 0.6218 - acc: 0.6749 - val_loss: 0.6089 - val_acc: 0.6642\n",
      "Epoch 21/30\n",
      "1875/1875 [==============================] - 6s - loss: 0.6094 - acc: 0.6819 - val_loss: 0.6108 - val_acc: 0.6663\n",
      "Epoch 22/30\n",
      "1875/1875 [==============================] - 6s - loss: 0.6067 - acc: 0.6853 - val_loss: 0.6156 - val_acc: 0.6525\n",
      "Epoch 23/30\n",
      "1875/1875 [==============================] - 6s - loss: 0.6084 - acc: 0.6776 - val_loss: 0.6113 - val_acc: 0.6642\n",
      "Epoch 24/30\n",
      "1875/1875 [==============================] - 6s - loss: 0.6085 - acc: 0.6760 - val_loss: 0.6276 - val_acc: 0.6503\n",
      "Epoch 25/30\n",
      "1875/1875 [==============================] - 6s - loss: 0.6080 - acc: 0.6808 - val_loss: 0.5888 - val_acc: 0.6759\n",
      "Epoch 26/30\n",
      "1875/1875 [==============================] - 6s - loss: 0.6158 - acc: 0.6768 - val_loss: 0.6003 - val_acc: 0.6706\n",
      "Epoch 27/30\n",
      "1875/1875 [==============================] - 6s - loss: 0.6052 - acc: 0.6845 - val_loss: 0.5962 - val_acc: 0.6802\n",
      "Epoch 28/30\n",
      "1875/1875 [==============================] - 6s - loss: 0.6058 - acc: 0.6813 - val_loss: 0.5974 - val_acc: 0.6684\n",
      "Epoch 29/30\n",
      "1875/1875 [==============================] - 6s - loss: 0.6092 - acc: 0.6795 - val_loss: 0.6003 - val_acc: 0.6620\n",
      "Epoch 30/30\n",
      "1875/1875 [==============================] - 6s - loss: 0.6045 - acc: 0.6859 - val_loss: 0.6173 - val_acc: 0.6706\n"
     ]
    },
    {
     "data": {
      "text/plain": [
       "<keras.callbacks.History at 0x7f25e49e99d0>"
      ]
     },
     "execution_count": 147,
     "metadata": {},
     "output_type": "execute_result"
    }
   ],
   "source": [
    "X_train = x.reshape(-1, 256,1)\n",
    "X_train /= np.amax(X_train)\n",
    "y_train = Y.reshape(-1, 2)\n",
    "print(X_train.shape, y_train.shape)\n",
    "model.fit(X_train, y_train, nb_epoch=30, batch_size=64, validation_split=0.2 )"
   ]
  },
  {
   "cell_type": "code",
   "execution_count": 77,
   "metadata": {
    "collapsed": false
   },
   "outputs": [
    {
     "name": "stdout",
     "output_type": "stream",
     "text": [
      "1301/1301 [==============================] - 2s     \n"
     ]
    }
   ],
   "source": [
    "pr = model.predict_classes(X_train)"
   ]
  },
  {
   "cell_type": "code",
   "execution_count": 78,
   "metadata": {
    "collapsed": false
   },
   "outputs": [
    {
     "data": {
      "text/plain": [
       "0"
      ]
     },
     "execution_count": 78,
     "metadata": {},
     "output_type": "execute_result"
    }
   ],
   "source": [
    "np.sum(pr)"
   ]
  },
  {
   "cell_type": "code",
   "execution_count": null,
   "metadata": {
    "collapsed": true
   },
   "outputs": [],
   "source": []
  }
 ],
 "metadata": {
  "kernelspec": {
   "display_name": "Python 2",
   "language": "python",
   "name": "python2"
  },
  "language_info": {
   "codemirror_mode": {
    "name": "ipython",
    "version": 2
   },
   "file_extension": ".py",
   "mimetype": "text/x-python",
   "name": "python",
   "nbconvert_exporter": "python",
   "pygments_lexer": "ipython2",
   "version": "2.7.11"
  }
 },
 "nbformat": 4,
 "nbformat_minor": 1
}
