{
 "cells": [
  {
   "cell_type": "code",
   "execution_count": 1,
   "metadata": {
    "collapsed": true
   },
   "outputs": [],
   "source": [
    "%matplotlib inline"
   ]
  },
  {
   "cell_type": "code",
   "execution_count": 2,
   "metadata": {
    "collapsed": false
   },
   "outputs": [],
   "source": [
    "from boilerplate import *\n",
    "from __future__ import print_function, division\n",
    "import os, sys\n",
    "import functional_vectorizer\n",
    "from dio import dataio as dataio\n",
    "from scipy import fftpack, signal, special\n",
    "from imp import reload\n",
    "style.use('dark_background')"
   ]
  },
  {
   "cell_type": "code",
   "execution_count": 3,
   "metadata": {
    "collapsed": false
   },
   "outputs": [
    {
     "name": "stderr",
     "output_type": "stream",
     "text": [
      "Using TensorFlow backend.\n"
     ]
    }
   ],
   "source": [
    "# LSTM and CNN for sequence classification in the IMDB dataset\n",
    "import numpy\n",
    "numpy.random.seed(7)\n",
    "from keras.models import Model, Sequential\n",
    "from keras.layers import Input, Dense, BatchNormalization, Dropout, GaussianDropout, GaussianNoise\n",
    "from keras.layers import LSTM\n",
    "from keras.layers.convolutional import Convolution1D, Convolution2D\n",
    "from keras.layers.convolutional import MaxPooling1D, MaxPooling2D, UpSampling2D\n",
    "from keras.layers.embeddings import Embedding\n",
    "from keras.preprocessing import sequence\n",
    "from keras import regularizers\n",
    "from keras.utils import np_utils\n",
    "from sklearn import manifold\n",
    "# fix random seed for reproducibility\n",
    "import numpy as np, pandas as pd"
   ]
  },
  {
   "cell_type": "code",
   "execution_count": 4,
   "metadata": {
    "collapsed": false
   },
   "outputs": [],
   "source": [
    "os.chdir('/home/mike/ve/ml/')\n",
    "from eegkaggle.models import crossfire, neural"
   ]
  },
  {
   "cell_type": "code",
   "execution_count": 5,
   "metadata": {
    "collapsed": false
   },
   "outputs": [],
   "source": [
    "matplotlib.rcParams['figure.figsize'] = (12,6)"
   ]
  },
  {
   "cell_type": "code",
   "execution_count": 6,
   "metadata": {
    "collapsed": false
   },
   "outputs": [
    {
     "data": {
      "text/plain": [
       "<module 'eegkaggle.dio.dataio' from 'eegkaggle/dio/dataio.pyc'>"
      ]
     },
     "execution_count": 6,
     "metadata": {},
     "output_type": "execute_result"
    }
   ],
   "source": [
    "import eegkaggle.dio.dataio as dataio\n",
    "reload(dataio)"
   ]
  },
  {
   "cell_type": "code",
   "execution_count": 7,
   "metadata": {
    "collapsed": false
   },
   "outputs": [],
   "source": [
    "# data = np.load('/run/media/mike/Elements/data/kaggle/melbourne/vectors/simple_fft_vectorizedata_train_1_X.npy')\n",
    "# data = np.load('/home/mike/ve/ml/vec_sampen_9598_376.npy')\n",
    "# Y = np.load('/run/media/mike/Elements/data/kaggle/melbourne/vectors/simple_fft_vectorizedata_train_1_Y.npy')\n",
    "data, Y = dataio.reload_with_labels('/home/mike/ve/ml/vec_sampen_9598_376')\n",
    "data_g, Y_g = dataio.reload_with_labels('/home/mike/ve/ml/vec_sampen_9607_384')\n",
    "files1 = pd.read_csv('/home/mike/ve/ml/vec_sampen_9598_376_name.csv')\n",
    "files2 = pd.read_csv('/home/mike/ve/ml/vec_sampen_9607_384_name.csv')"
   ]
  },
  {
   "cell_type": "code",
   "execution_count": 51,
   "metadata": {
    "collapsed": false
   },
   "outputs": [
    {
     "name": "stdout",
     "output_type": "stream",
     "text": [
      "val_cut:  220\n",
      "(5600, 16384) (5600, 1) (440, 16384) (440, 1)\n"
     ]
    }
   ],
   "source": [
    "(x_train, y_train), (x_test, y_test) = dataio.subdiv_split_shuffle(data, Y, validation_split=.49, )\n",
    "x_guess = data_g\n",
    "x_train = x_train[:5600] # trimming for batch processing later\n",
    "y_train = y_train[:5600]\n",
    "print(x_train.shape, y_train.shape, x_test.shape, y_test.shape)"
   ]
  },
  {
   "cell_type": "code",
   "execution_count": 52,
   "metadata": {
    "collapsed": false
   },
   "outputs": [],
   "source": [
    "# pd.DataFrame(y_train).to_csv('y_train.csv')\n",
    "# pd.DataFrame(y_test).to_csv('y_test.csv')"
   ]
  },
  {
   "cell_type": "code",
   "execution_count": 53,
   "metadata": {
    "collapsed": false
   },
   "outputs": [],
   "source": [
    "# need to do this later\n",
    "# d = dataio.subdiv_and_shuffle(x_train, y_train, resample='down')\n",
    "# print(d[0].shape, d[1].shape)"
   ]
  },
  {
   "cell_type": "code",
   "execution_count": 54,
   "metadata": {
    "collapsed": false
   },
   "outputs": [
    {
     "ename": "ValueError",
     "evalue": "all the input arrays must have same number of dimensions",
     "output_type": "error",
     "traceback": [
      "\u001b[0;31m---------------------------------------------------------------------------\u001b[0m",
      "\u001b[0;31mValueError\u001b[0m                                Traceback (most recent call last)",
      "\u001b[0;32m<ipython-input-54-e6a7f31924a7>\u001b[0m in \u001b[0;36m<module>\u001b[0;34m()\u001b[0m\n\u001b[0;32m----> 1\u001b[0;31m \u001b[0mdata_a\u001b[0m \u001b[0;34m=\u001b[0m \u001b[0mnp\u001b[0m\u001b[0;34m.\u001b[0m\u001b[0mconcatenate\u001b[0m\u001b[0;34m(\u001b[0m\u001b[0;34m[\u001b[0m\u001b[0mdata\u001b[0m\u001b[0;34m,\u001b[0m \u001b[0mdata_g\u001b[0m\u001b[0;34m]\u001b[0m\u001b[0;34m,\u001b[0m \u001b[0maxis\u001b[0m\u001b[0;34m=\u001b[0m\u001b[0;36m0\u001b[0m\u001b[0;34m)\u001b[0m\u001b[0;34m\u001b[0m\u001b[0m\n\u001b[0m\u001b[1;32m      2\u001b[0m \u001b[0mY_a\u001b[0m \u001b[0;34m=\u001b[0m \u001b[0mnp\u001b[0m\u001b[0;34m.\u001b[0m\u001b[0mconcatenate\u001b[0m\u001b[0;34m(\u001b[0m\u001b[0;34m[\u001b[0m\u001b[0mY\u001b[0m\u001b[0;34m,\u001b[0m \u001b[0mY_g\u001b[0m \u001b[0;34m]\u001b[0m\u001b[0;34m,\u001b[0m \u001b[0maxis\u001b[0m\u001b[0;34m=\u001b[0m\u001b[0;36m0\u001b[0m\u001b[0;34m)\u001b[0m\u001b[0;34m\u001b[0m\u001b[0m\n\u001b[1;32m      3\u001b[0m \u001b[0mfiles_a\u001b[0m \u001b[0;34m=\u001b[0m \u001b[0mpd\u001b[0m\u001b[0;34m.\u001b[0m\u001b[0mconcat\u001b[0m\u001b[0;34m(\u001b[0m\u001b[0;34m[\u001b[0m\u001b[0mfiles1\u001b[0m\u001b[0;34m,\u001b[0m \u001b[0mfiles2\u001b[0m\u001b[0;34m]\u001b[0m\u001b[0;34m,\u001b[0m \u001b[0maxis\u001b[0m\u001b[0;34m=\u001b[0m\u001b[0;36m0\u001b[0m\u001b[0;34m)\u001b[0m\u001b[0;34m\u001b[0m\u001b[0m\n",
      "\u001b[0;31mValueError\u001b[0m: all the input arrays must have same number of dimensions"
     ]
    }
   ],
   "source": [
    "data_a = np.concatenate([data, data_g], axis=0)\n",
    "Y_a = np.concatenate([Y, Y_g ], axis=0)\n",
    "files_a = pd.concat([files1, files2], axis=0)"
   ]
  },
  {
   "cell_type": "code",
   "execution_count": 55,
   "metadata": {
    "collapsed": false
   },
   "outputs": [
    {
     "name": "stdout",
     "output_type": "stream",
     "text": [
      "(7949, 16384) (7949, 1) (7949, 2) [-0.1835451]\n"
     ]
    }
   ],
   "source": [
    "print(data_a.shape, Y_a.shape, files_a.shape, np.mean(Y_a, axis=0))"
   ]
  },
  {
   "cell_type": "code",
   "execution_count": 56,
   "metadata": {
    "collapsed": true
   },
   "outputs": [],
   "source": [
    "# files.to_csv('vec_enc_lf256_16_each_label_names.csv')\n",
    "# np.save('vec_enc_lf256_16_each_label', Y)\n"
   ]
  },
  {
   "cell_type": "code",
   "execution_count": 57,
   "metadata": {
    "collapsed": false
   },
   "outputs": [
    {
     "name": "stdout",
     "output_type": "stream",
     "text": [
      "(5600, 16384) (440, 16384) (1908, 1024, 16)\n",
      "(5600, 1024, 16) (440, 1024, 16) (1908, 1024, 16)\n"
     ]
    }
   ],
   "source": [
    "print(x_train.shape, x_test.shape, data_g.shape)\n",
    "data_r = x_train.reshape(x_train.shape[0], -1, 16)\n",
    "data_t = x_test.reshape(x_test.shape[0], -1, 16)\n",
    "data_g = x_guess.reshape(data_g.shape[0], -1, 16)\n",
    "\n",
    "# d0 = d0.reshape(d0.shape[0, -1, 16])\n",
    "# d1 = d1.reshape(d1.shape[0, -1, 16])\n",
    "# data_a = data_a.reshape(data_a.shape[0], -1, 16)\n",
    "\n",
    "print(data_r.shape, data_t.shape, data_g.shape)"
   ]
  },
  {
   "cell_type": "code",
   "execution_count": 58,
   "metadata": {
    "collapsed": false
   },
   "outputs": [
    {
     "name": "stdout",
     "output_type": "stream",
     "text": [
      "(16384,)\n"
     ]
    }
   ],
   "source": [
    "# plot(data[0])\n",
    "print(data[0].shape)"
   ]
  },
  {
   "cell_type": "code",
   "execution_count": 59,
   "metadata": {
    "collapsed": false
   },
   "outputs": [
    {
     "data": {
      "text/plain": [
       "''"
      ]
     },
     "execution_count": 59,
     "metadata": {},
     "output_type": "execute_result"
    }
   ],
   "source": [
    "std = np.std(data, axis=0)\n",
    "# plt.plot(data[100]/std)\n",
    "''"
   ]
  },
  {
   "cell_type": "code",
   "execution_count": 60,
   "metadata": {
    "collapsed": false
   },
   "outputs": [
    {
     "name": "stdout",
     "output_type": "stream",
     "text": [
      "(5600, 1024, 16) (440, 1024, 16) (1908, 1024, 16)\n",
      "(5600, 64, 16) (440, 64, 16) (1908, 64, 16)\n"
     ]
    }
   ],
   "source": [
    "# Smooth the std?\n",
    "# data_rs = signal.resample(data, 256, axis=1)\n",
    "print(data_r.shape, data_t.shape, data_g.shape)\n",
    "up, down = 4, 64\n",
    "data_r_rs = signal.resample_poly(data_r, up, down, axis=1)\n",
    "# data_rs = data_rs.reshape(data_rs.shape[0], 32, 32) # this is actually wrong\n",
    "data_t_rs = signal.resample_poly(data_t, up, down, axis=1)\n",
    "data_g_rs = signal.resample_poly(data_g, up, down, axis=1)\n",
    "\n",
    "# data_t_rs = data_t_rs.reshape(data_t_rs.shape[0], 32, 32)\n",
    "print(data_r_rs.shape, data_t_rs.shape, data_g_rs.shape)"
   ]
  },
  {
   "cell_type": "code",
   "execution_count": 61,
   "metadata": {
    "collapsed": false
   },
   "outputs": [
    {
     "name": "stdout",
     "output_type": "stream",
     "text": [
      "(64, 16)\n"
     ]
    }
   ],
   "source": [
    "std = np.std(data_r_rs,axis=0)\n",
    "# plt.plot(data_rs[100]/std)\n",
    "# plt.imshow(data_r_rs[100]/std)\n",
    "print(data_r_rs[100].shape)"
   ]
  },
  {
   "cell_type": "code",
   "execution_count": 62,
   "metadata": {
    "collapsed": false
   },
   "outputs": [],
   "source": [
    "# plt.imshow(np.concatenate([data_rs[100,:32], data_rs[100,32:]], axis=1))"
   ]
  },
  {
   "cell_type": "code",
   "execution_count": 63,
   "metadata": {
    "collapsed": false
   },
   "outputs": [
    {
     "name": "stdout",
     "output_type": "stream",
     "text": [
      "(5600, 32, 32) (440, 32, 32) (1908, 32, 32)\n"
     ]
    }
   ],
   "source": [
    "new_data = np.zeros((data_r_rs.shape[0], 32, 32))\n",
    "new_test = np.zeros((data_t_rs.shape[0], 32, 32))\n",
    "new_guess = np.zeros((data_g_rs.shape[0], 32, 32))\n",
    "\n",
    "for i in range(data_r_rs.shape[0]):\n",
    "    new_data[i] = np.concatenate([data_r_rs[i,:32], data_r_rs[i,32:]], axis=1)\n",
    "for i in range(data_t_rs.shape[0]):\n",
    "    new_test[i] = np.concatenate([data_t_rs[i,:32], data_t_rs[i,32:]], axis=1)\n",
    "for i in range(data_g_rs.shape[0]):\n",
    "    new_guess[i] = np.concatenate([data_g_rs[i,:32], data_g_rs[i,32:]], axis=1)\n",
    "data_r_rs = new_data\n",
    "data_t_rs = new_test\n",
    "data_g_rs = new_guess\n",
    "print(data_r_rs.shape, data_t_rs.shape, data_g_rs.shape)"
   ]
  },
  {
   "cell_type": "code",
   "execution_count": 64,
   "metadata": {
    "collapsed": false
   },
   "outputs": [],
   "source": [
    "# plt.imshow(data_r_rs[105])"
   ]
  },
  {
   "cell_type": "code",
   "execution_count": 65,
   "metadata": {
    "collapsed": false
   },
   "outputs": [],
   "source": [
    "y_train_cls = np_utils.to_categorical(np.asarray(y_train, dtype=int), 2)\n",
    "y_test_cls = np_utils.to_categorical(np.asarray(y_test, dtype=int), 2)\n",
    "\n",
    "# print(y_cls)"
   ]
  },
  {
   "cell_type": "code",
   "execution_count": 66,
   "metadata": {
    "collapsed": false
   },
   "outputs": [],
   "source": [
    "mean = np.mean(data_r_rs, axis=0)\n",
    "std = np.std(data_r_rs, axis=0)\n",
    "# gmean = np.mean(data)\n",
    "# gstd = np.std(data)\n",
    "# mean.shape, gstd.shape"
   ]
  },
  {
   "cell_type": "code",
   "execution_count": 67,
   "metadata": {
    "collapsed": false
   },
   "outputs": [
    {
     "name": "stdout",
     "output_type": "stream",
     "text": [
      "min -2.10708184604 max: 5.27072193084\n",
      "(5600, 32, 32) (440, 32, 32) (5600, 1) (440, 1)\n"
     ]
    }
   ],
   "source": [
    "# zdata = (data_rs - mean) / (std*4)\n",
    "zdata = (data_r_rs) / (std*4)\n",
    "zdata_t = (data_t_rs) / (std*4)\n",
    "zdata_g = (data_g_rs) / (std*4)\n",
    "\n",
    "print('min {} max: {}'.format(np.amin(zdata), np.amax(zdata)))\n",
    "zdata = np.nan_to_num(zdata)\n",
    "zdata_t = np.nan_to_num(zdata_t)\n",
    "zdata_g = np.nan_to_num(zdata_g)\n",
    "\n",
    "print(zdata.shape, zdata_t.shape, y_train.shape, y_test.shape)"
   ]
  },
  {
   "cell_type": "code",
   "execution_count": 68,
   "metadata": {
    "collapsed": false
   },
   "outputs": [
    {
     "name": "stdout",
     "output_type": "stream",
     "text": [
      "(32, 32)\n"
     ]
    }
   ],
   "source": [
    "# plt.plot(zdata[100,:])\n",
    "print(zdata[100].shape)"
   ]
  },
  {
   "cell_type": "code",
   "execution_count": 69,
   "metadata": {
    "collapsed": false
   },
   "outputs": [
    {
     "data": {
      "text/plain": [
       "''"
      ]
     },
     "execution_count": 69,
     "metadata": {},
     "output_type": "execute_result"
    }
   ],
   "source": [
    "# plt.plot(zdata_t[1900])\n",
    "''"
   ]
  },
  {
   "cell_type": "code",
   "execution_count": 70,
   "metadata": {
    "collapsed": false
   },
   "outputs": [],
   "source": [
    "# plt.imshow(zdata[101])"
   ]
  },
  {
   "cell_type": "code",
   "execution_count": 71,
   "metadata": {
    "collapsed": true
   },
   "outputs": [],
   "source": [
    "# data = dataio.get_matlab_eeg_data_ary('/home/mike/data/train/1_1001_0.mat')"
   ]
  },
  {
   "cell_type": "code",
   "execution_count": 72,
   "metadata": {
    "collapsed": false
   },
   "outputs": [
    {
     "name": "stdout",
     "output_type": "stream",
     "text": [
      "(5600, 32, 32) (440, 32, 32) (6041, 1)\n"
     ]
    },
    {
     "data": {
      "text/plain": [
       "''"
      ]
     },
     "execution_count": 72,
     "metadata": {},
     "output_type": "execute_result"
    }
   ],
   "source": [
    "# ds = signal.resample(zdata[0:], 256, axis=1)\n",
    "ds = zdata\n",
    "ds = np.tanh(ds)\n",
    "x_test = np.tanh(zdata_t)\n",
    "x_guess = np.tanh(zdata_g)\n",
    "\n",
    "# ds = np.log(ds)\n",
    "# ds = special.erf(ds)\n",
    "print(ds.shape,  x_test.shape, Y.shape,)\n",
    "# plt.plot(ds[4000])\n",
    "''"
   ]
  },
  {
   "cell_type": "code",
   "execution_count": 73,
   "metadata": {
    "collapsed": false
   },
   "outputs": [
    {
     "name": "stdout",
     "output_type": "stream",
     "text": [
      "0.43299654551 0.421841146506\n",
      "0.206965885473 0.206536117584\n"
     ]
    }
   ],
   "source": [
    "print(np.mean(ds), np.mean(x_test))\n",
    "print(np.std(ds), np.std(x_test))"
   ]
  },
  {
   "cell_type": "code",
   "execution_count": null,
   "metadata": {
    "collapsed": true
   },
   "outputs": [],
   "source": []
  },
  {
   "cell_type": "code",
   "execution_count": 74,
   "metadata": {
    "collapsed": false
   },
   "outputs": [],
   "source": [
    "# ds2 = ds.reshape(ds.shape[0], -1)\n",
    "# ds2 = ds.reshape(ds.shape[0]*16, -1)\n",
    "# Serialize the electrodes so that there is 1 electrode per sample\n",
    "# ds2 = []\n",
    "# for i in range(16):\n",
    "#     ds2.append( ds[:,:,i])\n",
    "# ds2 = np.concatenate(ds2, axis=0)\n",
    "# ds2.shape"
   ]
  },
  {
   "cell_type": "markdown",
   "metadata": {},
   "source": [
    "Building Autoencoder"
   ]
  },
  {
   "cell_type": "code",
   "execution_count": 75,
   "metadata": {
    "collapsed": false
   },
   "outputs": [
    {
     "name": "stdout",
     "output_type": "stream",
     "text": [
      "(32, 32, 1) (5600, 32, 32, 1) (440, 32, 32, 1) (1908, 32, 32, 1) (5600, 2)\n"
     ]
    }
   ],
   "source": [
    "x_train = ds.reshape((ds.shape[0], ds.shape[1], ds.shape[2], 1))\n",
    "x_test = x_test.reshape((x_test.shape[0], x_test.shape[1], x_test.shape[2], 1))\n",
    "x_guess = x_guess.reshape((x_guess.shape[0], x_guess.shape[1], x_guess.shape[2], 1))\n",
    "\n",
    "input_shape = (ds.shape[1], ds.shape[2], 1)\n",
    "\n",
    "batch_size=100\n",
    "print(input_shape, x_train.shape, x_test.shape, x_guess.shape, y_train_cls.shape)\n",
    "# vaeclass = crossfire.CrossfireEEG(input_shape=input_shape, latent_dim=16, batch_size=batch_size, n_classes=2)"
   ]
  },
  {
   "cell_type": "markdown",
   "metadata": {},
   "source": [
    "# Inline building of ConvAE"
   ]
  },
  {
   "cell_type": "code",
   "execution_count": 76,
   "metadata": {
    "collapsed": true
   },
   "outputs": [],
   "source": [
    "class SimpleCrossfire(object):\n",
    "    \"\"\"\n",
    "    Covolutional VAE with a \"crossfire\" component - a classifier is bolted onto the end of the encoder and loss function\n",
    "    can be parameterized to function from classifier loss instead of autoencoder loss. Ideally, the model starts in\n",
    "    pure autoencoder mode to learn features, then as loss flattens out the network starts weighing classifier loss\n",
    "    more heavily.\n",
    "    Refs: \n",
    "    https://stackoverflow.com/questions/39181976/keras-convolutional-autoencoder-layer-shapes\n",
    "    Note to self: things to try:\n",
    "    * Add burst /batch / epoch noise to input\n",
    "    * Modularize out the activation from dropout ordering\"\"\"\n",
    "\n",
    "    def __init__(self, input_shape=(28, 28, 1), latent_dim=2, intermediate_dim=256, batch_size=100, epsilon_std=1.0,\n",
    "                 dropout_p=0.1, n_stax=0, n_classes=10):\n",
    "        # input image dimensions\n",
    "        self.input_shape = input_shape\n",
    "        \n",
    "        self.batch_size = batch_size\n",
    "        self.original_dim = np.prod(input_shape)\n",
    "        self.latent_dim = latent_dim\n",
    "        self.intermediate_dim = intermediate_dim\n",
    "        self.epsilon_std = epsilon_std\n",
    "        self.epsilon_ce = 1.0e-9\n",
    "\n",
    "        # number of convolutional filters to use\n",
    "        nb_filters = 64\n",
    "        # convolution kernel size\n",
    "        nb_conv = 3\n",
    "\n",
    "        input_img = Input(shape=(1, input_shape[0], input_shape[1]))\n",
    "\n",
    "        # Same as the code above, but with some params changed\n",
    "        # Now let's define the model.\n",
    "\n",
    "        # (no.of, colour, channels, height, width) = (3, 30, 30)\n",
    "        # Set input dimensions:\n",
    "        imchn = 3  # channels\n",
    "        imwid = 30 # width\n",
    "        imhei = 30 # height\n",
    "        input_img = Input(shape=(imchn, imhei, imwid))\n",
    "        nb_filters1 = 128\n",
    "        nb_filters2 = 64\n",
    "        nb_filters3 = 64\n",
    "\n",
    "        # Encoder: define a chain of Conv2D and MaxPooling2D layers\n",
    "        x = Convolution2D(128, nb_conv, nb_conv, activation='relu', border_mode='same')(input_img)\n",
    "        x = MaxPooling2D((2, 2), border_mode='same')(x)\n",
    "        x = Convolution2D(64, nb_conv, nb_conv, activation='relu', border_mode='same')(x)\n",
    "        x = MaxPooling2D((2, 2), border_mode='same')(x)\n",
    "        x = Convolution2D(64, nb_conv, nb_conv, activation='relu', border_mode='same')(x)\n",
    "        encoded = MaxPooling2D((2, 2), border_mode='same')(x)\n",
    "\n",
    "        # at this point, the representation is (8, 4, 4) i.e. 128-dimensional\n",
    "\n",
    "        # Decoder: a stack of Conv2D and UpSampling2D layers\n",
    "        x = Convolution2D(64, nb_conv, nb_conv, activation='relu', border_mode='same')(encoded)\n",
    "        x = UpSampling2D((2, 2))(x)\n",
    "        x = Convolution2D(64, nb_conv, nb_conv, activation='relu', border_mode='same')(x)\n",
    "        x = UpSampling2D((2, 2))(x)\n",
    "        x = Convolution2D(128, nb_conv, nb_conv, activation='relu', border_mode='same')(x)\n",
    "        x = UpSampling2D((2, 2))(x)\n",
    "        decoded = Convolution2D(1, 3, 3, activation='sigmoid', border_mode='same')(x)\n",
    "        # Generate models\n",
    "        # Primary model - VAE\n",
    "        ## ==== Crossfire classifier =========\n",
    "        #         c = Lambda(self.crosser, output_shape=(latent_dim,))(self.z_mean, self.z_log_var)\n",
    "#         classer = Dense(n_classes, init='normal', activation='softmax', name='classer')(encoded)\n",
    "#         self.ae = Model(input_img, decoded)\n",
    "#         self.ae.compile(optimizer='rmsprop', loss='binary_crossentropy')\n",
    "        self.ae = Model(input_img, decoded)\n",
    "        self.ae.compile(optimizer='adadelta', loss='mse')\n",
    "        # Crossfilre network\n",
    "        if False:\n",
    "            self.classifier = Model(x, classer)\n",
    "            # Ok, now comes the tricky part. See these references:\n",
    "            # https://keras.io/getting-started/functional-api-guide/#multi-input-and-multi-output-models\n",
    "            self.crossmodel = Model(input=x, output=[decoded, classer])\n",
    "            self.crossmodel.compile(optimizer='rmsprop',\n",
    "                                    loss={'main_output': self.vae_loss,\n",
    "                                          'classer': 'categorical_crossentropy'},\n",
    "                                    loss_weights={'main_output': 1.0,\n",
    "                                                  'classer': 1.0})\n",
    "            self.classifier.compile(loss='categorical_crossentropy', optimizer='adam', metrics=['accuracy'])\n",
    "            # self.classifier.compile(loss=self.custom_crossent, optimizer='adam', metrics=['accuracy'])\n",
    "\n",
    "\n",
    "        # build a model to project inputs on the latent space\n",
    "#         self.encoder = Model(x, encoded)\n",
    "        # reconstruct digits from latent space\n",
    "        # self.generator = Model(decoder_input, _x_decoded_mean_squash)\n",
    "\n",
    "    "
   ]
  },
  {
   "cell_type": "code",
   "execution_count": 77,
   "metadata": {
    "collapsed": false
   },
   "outputs": [],
   "source": [
    "# not in use at the moment\n",
    "#vaeclass = SimpleCrossfire(input_shape=input_shape, latent_dim=16, batch_size=batch_size, n_classes=2)\n",
    "# vaeclass.ae.summary()"
   ]
  },
  {
   "cell_type": "code",
   "execution_count": 78,
   "metadata": {
    "collapsed": false
   },
   "outputs": [],
   "source": [
    "# cnnclass = neural.Simple_Convo_Classer(input_shape[0:2], nb_classes=2)"
   ]
  },
  {
   "cell_type": "markdown",
   "metadata": {},
   "source": [
    "# Fitting the autoencoder"
   ]
  },
  {
   "cell_type": "code",
   "execution_count": 79,
   "metadata": {
    "collapsed": false
   },
   "outputs": [],
   "source": [
    "# assert 0\n",
    "from keras import objectives\n",
    "from keras.datasets import mnist\n",
    "from keras.utils import np_utils\n",
    "from keras import models\n",
    "import keras.layers.core as core\n",
    "import keras.layers.convolutional as conv\n"
   ]
  },
  {
   "cell_type": "code",
   "execution_count": 80,
   "metadata": {
    "collapsed": false
   },
   "outputs": [
    {
     "name": "stdout",
     "output_type": "stream",
     "text": [
      "(5600, 32, 32)\n",
      "____________________________________________________________________________________________________\n",
      "Layer (type)                     Output Shape          Param #     Connected to                     \n",
      "====================================================================================================\n",
      "gaussiannoise_2 (GaussianNoise)  (None, 32, 32, 1)     0           gaussiannoise_input_2[0][0]      \n",
      "____________________________________________________________________________________________________\n",
      "dropout_4 (Dropout)              (None, 32, 32, 1)     0           gaussiannoise_2[0][0]            \n",
      "____________________________________________________________________________________________________\n",
      "convolution2d_21 (Convolution2D) (None, 32, 32, 32)    320         dropout_4[0][0]                  \n",
      "____________________________________________________________________________________________________\n",
      "batchnormalization_6 (BatchNormal(None, 32, 32, 32)    64          convolution2d_21[0][0]           \n",
      "____________________________________________________________________________________________________\n",
      "dropout_5 (Dropout)              (None, 32, 32, 32)    0           batchnormalization_6[0][0]       \n",
      "____________________________________________________________________________________________________\n",
      "convolution2d_22 (Convolution2D) (None, 32, 32, 32)    9248        dropout_5[0][0]                  \n",
      "____________________________________________________________________________________________________\n",
      "maxpooling2d_3 (MaxPooling2D)    (None, 16, 16, 32)    0           convolution2d_22[0][0]           \n",
      "____________________________________________________________________________________________________\n",
      "convolution2d_23 (Convolution2D) (None, 16, 16, 64)    18496       maxpooling2d_3[0][0]             \n",
      "____________________________________________________________________________________________________\n",
      "convolution2d_24 (Convolution2D) (None, 16, 16, 64)    36928       convolution2d_23[0][0]           \n",
      "____________________________________________________________________________________________________\n",
      "maxpooling2d_4 (MaxPooling2D)    (None, 8, 8, 64)      0           convolution2d_24[0][0]           \n",
      "____________________________________________________________________________________________________\n",
      "flatten_6 (Flatten)              (None, 4096)          0           maxpooling2d_4[0][0]             \n",
      "____________________________________________________________________________________________________\n",
      "dropout_6 (Dropout)              (None, 4096)          0           flatten_6[0][0]                  \n",
      "____________________________________________________________________________________________________\n",
      "dense_11 (Dense)                 (None, 128)           524416      dropout_6[0][0]                  \n",
      "____________________________________________________________________________________________________\n",
      "dense_12 (Dense)                 (None, 2)             258         dense_11[0][0]                   \n",
      "====================================================================================================\n",
      "Total params: 589730\n",
      "____________________________________________________________________________________________________\n"
     ]
    }
   ],
   "source": [
    "batch_size = 128\n",
    "img_rows, img_cols = 32, 32\n",
    "nb_classes = 2\n",
    "\n",
    "nb_filters_1 = 32  # 32 # 64\n",
    "nb_filters_2 = 64  # 64 # 128\n",
    "nb_filters_3 = 128  # 128 # 256\n",
    "nb_conv = 3\n",
    "\n",
    "trainX = ds\n",
    "print(trainX.shape)\n",
    "sigma= 0.1\n",
    "drop_p=0.2\n",
    "\n",
    "cnn = models.Sequential()\n",
    "cnn.add(GaussianNoise(sigma, input_shape=(img_rows, img_cols, 1)))\n",
    "cnn.add(Dropout(drop_p))\n",
    "cnn.add(conv.Convolution2D(nb_filters_1, nb_conv, nb_conv, activation=\"relu\",border_mode='same'))\n",
    "cnn.add(BatchNormalization())\n",
    "cnn.add(Dropout(drop_p))\n",
    "cnn.add(conv.Convolution2D(nb_filters_1, nb_conv, nb_conv, activation=\"relu\", border_mode='same'))\n",
    "cnn.add(conv.MaxPooling2D(strides=(2, 2)))\n",
    "\n",
    "cnn.add(conv.Convolution2D(nb_filters_2, nb_conv, nb_conv, activation=\"relu\", border_mode='same'))\n",
    "cnn.add(conv.Convolution2D(nb_filters_2, nb_conv, nb_conv, activation=\"relu\", border_mode='same'))\n",
    "cnn.add(conv.MaxPooling2D(strides=(2, 2)))\n",
    "\n",
    "# cnn.add(conv.Convolution2D(nb_filters_3, nb_conv, nb_conv, activation=\"relu\", border_mode='same'))\n",
    "# cnn.add(conv.Convolution2D(nb_filters_3, nb_conv, nb_conv, activation=\"relu\", border_mode='same'))\n",
    "# cnn.add(conv.Convolution2D(nb_filters_3, nb_conv, nb_conv, activation=\"relu\", border_mode='same'))\n",
    "# cnn.add(conv.Convolution2D(nb_filters_3, nb_conv, nb_conv, activation=\"relu\", border_mode='same'))\n",
    "# cnn.add(conv.MaxPooling2D(strides=(2,2)))\n",
    "\n",
    "cnn.add(core.Flatten())\n",
    "cnn.add(core.Dropout(0.2))\n",
    "cnn.add(core.Dense(128, activation=\"relu\"))  # 4096\n",
    "cnn.add(core.Dense(nb_classes, activation=\"softmax\"))\n",
    "\n",
    "cnn.summary()"
   ]
  },
  {
   "cell_type": "code",
   "execution_count": 37,
   "metadata": {
    "collapsed": true
   },
   "outputs": [],
   "source": [
    "cnn.compile(loss=\"categorical_crossentropy\", optimizer=\"adam\", metrics=[\"accuracy\"])"
   ]
  },
  {
   "cell_type": "code",
   "execution_count": 35,
   "metadata": {
    "collapsed": false
   },
   "outputs": [
    {
     "name": "stdout",
     "output_type": "stream",
     "text": [
      "(5593, 32, 32, 1) (5593, 2) (448, 32, 32, 1) (448, 2)\n"
     ]
    }
   ],
   "source": [
    "print(x_train.shape, y_train_cls.shape, x_test.shape, y_test_cls.shape)"
   ]
  },
  {
   "cell_type": "code",
   "execution_count": 39,
   "metadata": {
    "collapsed": false
   },
   "outputs": [
    {
     "data": {
      "text/plain": [
       "array([ 5368.,   225.])"
      ]
     },
     "execution_count": 39,
     "metadata": {},
     "output_type": "execute_result"
    }
   ],
   "source": [
    "np.sum(y_train_cls, axis=0)"
   ]
  },
  {
   "cell_type": "code",
   "execution_count": 36,
   "metadata": {
    "collapsed": false
   },
   "outputs": [],
   "source": [
    "reload(dataio)\n",
    "x_sub, y_sub = dataio.shuffle_split_with_label(x_train, y_train, seed=i)\n",
    "y_sub_cls = np_utils.to_categorical(np.asarray(y_sub, dtype=int), 2)\n"
   ]
  },
  {
   "cell_type": "code",
   "execution_count": null,
   "metadata": {
    "collapsed": true
   },
   "outputs": [],
   "source": []
  },
  {
   "cell_type": "code",
   "execution_count": 81,
   "metadata": {
    "collapsed": false
   },
   "outputs": [
    {
     "ename": "AssertionError",
     "evalue": "",
     "output_type": "error",
     "traceback": [
      "\u001b[0;31m---------------------------------------------------------------------------\u001b[0m",
      "\u001b[0;31mAssertionError\u001b[0m                            Traceback (most recent call last)",
      "\u001b[0;32m<ipython-input-81-af071dcb5f42>\u001b[0m in \u001b[0;36m<module>\u001b[0;34m()\u001b[0m\n\u001b[0;32m----> 1\u001b[0;31m \u001b[0;32massert\u001b[0m \u001b[0;36m0\u001b[0m\u001b[0;34m\u001b[0m\u001b[0m\n\u001b[0m\u001b[1;32m      2\u001b[0m \u001b[0mnb_mega\u001b[0m \u001b[0;34m=\u001b[0m \u001b[0;36m10\u001b[0m\u001b[0;34m\u001b[0m\u001b[0m\n\u001b[1;32m      3\u001b[0m \u001b[0;32mfor\u001b[0m \u001b[0mi\u001b[0m \u001b[0;32min\u001b[0m \u001b[0mrange\u001b[0m\u001b[0;34m(\u001b[0m\u001b[0mnb_mega\u001b[0m\u001b[0;34m)\u001b[0m\u001b[0;34m:\u001b[0m\u001b[0;34m\u001b[0m\u001b[0m\n\u001b[1;32m      4\u001b[0m     \u001b[0;32mprint\u001b[0m\u001b[0;34m(\u001b[0m\u001b[0;34m'Mega-epoch {} of {}'\u001b[0m\u001b[0;34m,\u001b[0m \u001b[0mi\u001b[0m\u001b[0;34m,\u001b[0m \u001b[0mnb_mega\u001b[0m\u001b[0;34m)\u001b[0m\u001b[0;34m\u001b[0m\u001b[0m\n\u001b[1;32m      5\u001b[0m     \u001b[0mseed\u001b[0m \u001b[0;34m=\u001b[0m \u001b[0mi\u001b[0m\u001b[0;34m\u001b[0m\u001b[0m\n",
      "\u001b[0;31mAssertionError\u001b[0m: "
     ]
    }
   ],
   "source": [
    "assert 0\n",
    "nb_mega = 10\n",
    "for i in range(nb_mega):\n",
    "    print('Mega-epoch {} of {}', i, nb_mega)\n",
    "    seed = i\n",
    "#     np.random.seed(seed)\n",
    "#     np.random.shuffle(ds)\n",
    "#     np.random.seed(seed)\n",
    "#     np.random.shuffle(Y_cls)\n",
    "    x_sub, y_sub = dataio.shuffle_split_with_label(x_train, y_train, seed=i)\n",
    "    y_sub_cls = np_utils.to_categorical(np.asarray(y_sub, dtype=int), 2)\n",
    "    cnn.fit(x_sub, y_sub_cls, batch_size=batch_size, nb_epoch=3, validation_data=(x_test, y_test_cls), shuffle=True) #, class_weight={0:y_wts[0], 1:y_wts[1]})"
   ]
  },
  {
   "cell_type": "code",
   "execution_count": 82,
   "metadata": {
    "collapsed": false
   },
   "outputs": [
    {
     "data": {
      "text/plain": [
       "((5600, 32, 32, 1), (440, 32, 32, 1), (5600, 1))"
      ]
     },
     "execution_count": 82,
     "metadata": {},
     "output_type": "execute_result"
    }
   ],
   "source": [
    "x_train.shape, x_test.shape, y_train.shape"
   ]
  },
  {
   "cell_type": "code",
   "execution_count": 83,
   "metadata": {
    "collapsed": false
   },
   "outputs": [
    {
     "data": {
      "text/plain": [
       "((5600, 28, 28, 1), (440, 28, 28, 1))"
      ]
     },
     "execution_count": 83,
     "metadata": {},
     "output_type": "execute_result"
    }
   ],
   "source": [
    "x_train2 = x_train[:,:28, :28]\n",
    "x_test2 = x_test[:,:28, :28]\n",
    "x_train2.shape, x_test2.shape"
   ]
  },
  {
   "cell_type": "code",
   "execution_count": 91,
   "metadata": {
    "collapsed": false
   },
   "outputs": [
    {
     "data": {
      "text/plain": [
       "((5600, 1), (440, 1))"
      ]
     },
     "execution_count": 91,
     "metadata": {},
     "output_type": "execute_result"
    }
   ],
   "source": [
    "y_train.shape, y_test.shape"
   ]
  },
  {
   "cell_type": "code",
   "execution_count": 84,
   "metadata": {
    "collapsed": false
   },
   "outputs": [],
   "source": [
    "reload(crossfire)\n",
    "batch_size=100\n",
    "cf = crossfire.Crossfire2((28,28,1), latent_dim=16, batch_size=batch_size, n_classes=2)"
   ]
  },
  {
   "cell_type": "code",
   "execution_count": 85,
   "metadata": {
    "collapsed": false
   },
   "outputs": [
    {
     "name": "stdout",
     "output_type": "stream",
     "text": [
      "Epoch 1/1\n",
      "5600/5600 [==============================] - 9s - loss: 1080.2588     \n"
     ]
    },
    {
     "data": {
      "text/plain": [
       "<keras.callbacks.History at 0x7fd92085aed0>"
      ]
     },
     "execution_count": 85,
     "metadata": {},
     "output_type": "execute_result"
    }
   ],
   "source": [
    "cf.fit_ae(x_train2, batch_size=batch_size, nb_epoch=1)"
   ]
  },
  {
   "cell_type": "code",
   "execution_count": 92,
   "metadata": {
    "collapsed": false
   },
   "outputs": [
    {
     "name": "stdout",
     "output_type": "stream",
     "text": [
      "Train on 5600 samples, validate on 400 samples\n",
      "Epoch 1/1\n",
      "5600/5600 [==============================] - 3s - loss: 0.1645 - acc: 0.9593 - val_loss: 0.6854 - val_acc: 0.5500\n"
     ]
    },
    {
     "data": {
      "text/plain": [
       "<keras.callbacks.History at 0x7fd920345b90>"
      ]
     },
     "execution_count": 92,
     "metadata": {},
     "output_type": "execute_result"
    }
   ],
   "source": []
  },
  {
   "cell_type": "code",
   "execution_count": 93,
   "metadata": {
    "collapsed": false
   },
   "outputs": [
    {
     "name": "stdout",
     "output_type": "stream",
     "text": [
      "Mega-epoch {} of {} 0 10\n",
      "Train on 5600 samples, validate on 400 samples\n",
      "Epoch 1/1\n",
      "5600/5600 [==============================] - 3s - loss: 0.1620 - acc: 0.9593 - val_loss: 0.6826 - val_acc: 0.5500\n",
      "Mega-epoch {} of {} 1 10\n",
      "Train on 5600 samples, validate on 400 samples\n",
      "Epoch 1/1\n",
      "5600/5600 [==============================] - 3s - loss: 0.1591 - acc: 0.9593 - val_loss: 0.6816 - val_acc: 0.5500\n",
      "Mega-epoch {} of {} 2 10\n",
      "Train on 5600 samples, validate on 400 samples\n",
      "Epoch 1/1\n",
      "5600/5600 [==============================] - 3s - loss: 0.1571 - acc: 0.9593 - val_loss: 0.6798 - val_acc: 0.5500\n",
      "Mega-epoch {} of {} 3 10\n",
      "Train on 5600 samples, validate on 400 samples\n",
      "Epoch 1/1\n",
      "5600/5600 [==============================] - 3s - loss: 0.1539 - acc: 0.9593 - val_loss: 0.6712 - val_acc: 0.5500\n",
      "Mega-epoch {} of {} 4 10\n",
      "Train on 5600 samples, validate on 400 samples\n",
      "Epoch 1/1\n",
      "5600/5600 [==============================] - 3s - loss: 0.1493 - acc: 0.9593 - val_loss: 0.6646 - val_acc: 0.5500\n",
      "Mega-epoch {} of {} 5 10\n",
      "Train on 5600 samples, validate on 400 samples\n",
      "Epoch 1/1\n",
      "5600/5600 [==============================] - 3s - loss: 0.1467 - acc: 0.9595 - val_loss: 0.6851 - val_acc: 0.5500\n",
      "Mega-epoch {} of {} 6 10\n",
      "Train on 5600 samples, validate on 400 samples\n",
      "Epoch 1/1\n",
      "5600/5600 [==============================] - 3s - loss: 0.1457 - acc: 0.9591 - val_loss: 0.6755 - val_acc: 0.5500\n",
      "Mega-epoch {} of {} 7 10\n",
      "Train on 5600 samples, validate on 400 samples\n",
      "Epoch 1/1\n",
      "5600/5600 [==============================] - 3s - loss: 0.1397 - acc: 0.9596 - val_loss: 0.7039 - val_acc: 0.5500\n",
      "Mega-epoch {} of {} 8 10\n",
      "Train on 5600 samples, validate on 400 samples\n",
      "Epoch 1/1\n",
      "5600/5600 [==============================] - 3s - loss: 0.1341 - acc: 0.9591 - val_loss: 0.7642 - val_acc: 0.5500\n",
      "Mega-epoch {} of {} 9 10\n",
      "Train on 5600 samples, validate on 400 samples\n",
      "Epoch 1/1\n",
      "5600/5600 [==============================] - 3s - loss: 0.1318 - acc: 0.9596 - val_loss: 0.7636 - val_acc: 0.5575\n"
     ]
    }
   ],
   "source": [
    "\n",
    "nb_mega = 10\n",
    "for i in range(nb_mega):\n",
    "    print('Mega-epoch {} of {}', i, nb_mega)\n",
    "    seed = i\n",
    "    x_sub, y_sub = dataio.shuffle_split_with_label(x_train2, y_train, seed=i)\n",
    "    y_sub_cls = np_utils.to_categorical(np.asarray(y_sub, dtype=int), 2)\n",
    "    cf.classifier.fit(x_train2, y_train_cls, batch_size=batch_size, nb_epoch=1, validation_data=(x_test2[:400], y_test_cls[:400]))"
   ]
  },
  {
   "cell_type": "code",
   "execution_count": 42,
   "metadata": {
    "collapsed": false
   },
   "outputs": [
    {
     "name": "stdout",
     "output_type": "stream",
     "text": [
      "(5593, 2)\n"
     ]
    }
   ],
   "source": [
    "pred = cnn.predict(x_train, batch_size=batch_size)\n",
    "print(pred.shape)"
   ]
  },
  {
   "cell_type": "code",
   "execution_count": 43,
   "metadata": {
    "collapsed": false
   },
   "outputs": [
    {
     "name": "stdout",
     "output_type": "stream",
     "text": [
      "Prediction distribution:  [ 0.50044699  0.49955301]\n"
     ]
    }
   ],
   "source": [
    "pred_c = pred > 0.5\n",
    "print('Prediction distribution: ', np.mean(pred_c, axis=0))"
   ]
  },
  {
   "cell_type": "code",
   "execution_count": 44,
   "metadata": {
    "collapsed": false
   },
   "outputs": [
    {
     "name": "stdout",
     "output_type": "stream",
     "text": [
      "Training Set Accuracy:  [ 0.53423923  0.53423923]\n"
     ]
    }
   ],
   "source": [
    "print('Training Set Accuracy: ', np.mean(pred_c == y_train_cls, axis=0))"
   ]
  },
  {
   "cell_type": "code",
   "execution_count": 45,
   "metadata": {
    "collapsed": false
   },
   "outputs": [
    {
     "name": "stdout",
     "output_type": "stream",
     "text": [
      "(448, 2)\n",
      "(448, 2) (448, 2)\n",
      "Prediction distribution:  [ 0.37053571  0.62946429]\n",
      "Test Set Accuracy:  [ 0.69642857  0.69642857]\n"
     ]
    }
   ],
   "source": [
    "pred_test = cnn.predict(x_test, batch_size=batch_size)\n",
    "print(pred_test.shape)\n",
    "pred_c = pred_test > 0.5\n",
    "print(pred_c.shape, y_test_cls.shape)\n",
    "print('Prediction distribution: ', np.mean(pred_c, axis=0))\n",
    "print('Test Set Accuracy: ', np.mean(pred_c == y_test_cls, axis=0))"
   ]
  },
  {
   "cell_type": "code",
   "execution_count": 46,
   "metadata": {
    "collapsed": false
   },
   "outputs": [],
   "source": [
    "guess = cnn.predict(x_guess, batch_size=batch_size)"
   ]
  },
  {
   "cell_type": "code",
   "execution_count": 47,
   "metadata": {
    "collapsed": false
   },
   "outputs": [
    {
     "data": {
      "text/plain": [
       "array([ 0.48689727,  0.51310273])"
      ]
     },
     "execution_count": 47,
     "metadata": {},
     "output_type": "execute_result"
    }
   ],
   "source": [
    "guess_c = guess > 0.5\n",
    "np.mean(guess_c, axis=0)"
   ]
  },
  {
   "cell_type": "code",
   "execution_count": 48,
   "metadata": {
    "collapsed": false
   },
   "outputs": [
    {
     "data": {
      "text/plain": [
       "array([ 0.51380837,  0.48619169], dtype=float32)"
      ]
     },
     "execution_count": 48,
     "metadata": {},
     "output_type": "execute_result"
    }
   ],
   "source": [
    "np.mean(guess, axis=0)"
   ]
  },
  {
   "cell_type": "code",
   "execution_count": 49,
   "metadata": {
    "collapsed": false
   },
   "outputs": [
    {
     "data": {
      "text/plain": [
       "<matplotlib.axes._subplots.AxesSubplot at 0x7f66ff05b110>"
      ]
     },
     "execution_count": 49,
     "metadata": {},
     "output_type": "execute_result"
    },
    {
     "data": {
      "image/png": "[encoded data removed]",
      "text/plain": [
       "<matplotlib.figure.Figure at 0x7f66fb827e50>"
      ]
     },
     "metadata": {},
     "output_type": "display_data"
    }
   ],
   "source": [
    "pd.Series(pred[:,0]).hist(bins=20)"
   ]
  },
  {
   "cell_type": "code",
   "execution_count": null,
   "metadata": {
    "collapsed": false
   },
   "outputs": [],
   "source": [
    "pd.Series(guess[:,0]).hist(bins=20)"
   ]
  },
  {
   "cell_type": "code",
   "execution_count": null,
   "metadata": {
    "collapsed": true
   },
   "outputs": [],
   "source": [
    "import os,time"
   ]
  },
  {
   "cell_type": "code",
   "execution_count": null,
   "metadata": {
    "collapsed": false
   },
   "outputs": [],
   "source": [
    "files2['Class'] = pd.Series(guess_c[:,0], dtype=int)\n",
    "files2['File'] = pd.Series([os.path.basename(nm) for nm in files2['path']])"
   ]
  },
  {
   "cell_type": "code",
   "execution_count": null,
   "metadata": {
    "collapsed": false
   },
   "outputs": [],
   "source": [
    "files2.to_csv('./eegkaggle/guesses/new_cnn_11_26_{}.csv'.format('a')) # fix this "
   ]
  },
  {
   "cell_type": "code",
   "execution_count": null,
   "metadata": {
    "collapsed": true
   },
   "outputs": [],
   "source": []
  },
  {
   "cell_type": "code",
   "execution_count": null,
   "metadata": {
    "collapsed": true
   },
   "outputs": [],
   "source": []
  },
  {
   "cell_type": "code",
   "execution_count": null,
   "metadata": {
    "collapsed": true
   },
   "outputs": [],
   "source": [
    "assert 0"
   ]
  },
  {
   "cell_type": "code",
   "execution_count": null,
   "metadata": {
    "collapsed": false
   },
   "outputs": [],
   "source": [
    "# encode and decode some digits\n",
    "# note that we take them from the *test* set\n",
    "encoded_imgs = encoder2.predict(x_train[:3000])\n",
    "decoded_imgs = decoder2.predict(encoded_imgs)"
   ]
  },
  {
   "cell_type": "code",
   "execution_count": null,
   "metadata": {
    "collapsed": false
   },
   "outputs": [],
   "source": [
    "for i in range(20):\n",
    "    plot(decoded_imgs[np.random.randint(0, decoded_imgs.shape[0])])\n",
    "    \n",
    "plot(np.mean(decoded_imgs, axis=0), 'w--', lw=2)\n",
    "plot(np.mean(decoded_imgs, axis=0), 'r', lw=.5)"
   ]
  },
  {
   "cell_type": "code",
   "execution_count": null,
   "metadata": {
    "collapsed": false
   },
   "outputs": [],
   "source": [
    "for i in range(1,20*17,17): \n",
    "    plt.plot(decoded_imgs[i])"
   ]
  },
  {
   "cell_type": "code",
   "execution_count": null,
   "metadata": {
    "collapsed": false
   },
   "outputs": [],
   "source": [
    "st = 2001\n",
    "n = 10\n",
    "nx = range(st,st+n*17,17)\n",
    "print(nx)\n",
    "c = ['r', 'g', 'b', 'm', 'c', 'y']\n",
    "for i in range(3):\n",
    "    j = nx[i]\n",
    "    plt.plot(decoded_imgs[j], c[i])\n",
    "    plt.plot(ds2[j], c[i]+'--')"
   ]
  },
  {
   "cell_type": "code",
   "execution_count": null,
   "metadata": {
    "collapsed": true
   },
   "outputs": [],
   "source": [
    "tsne1 = manifold.TSNE(2, 30, n_iter=5000)"
   ]
  },
  {
   "cell_type": "code",
   "execution_count": null,
   "metadata": {
    "collapsed": false
   },
   "outputs": [],
   "source": [
    "txdata1 = tsne1.fit_transform(ds2[::15])"
   ]
  },
  {
   "cell_type": "code",
   "execution_count": null,
   "metadata": {
    "collapsed": true
   },
   "outputs": [],
   "source": [
    "tsne3 = manifold.TSNE(2, 30, n_iter=5000)"
   ]
  },
  {
   "cell_type": "code",
   "execution_count": null,
   "metadata": {
    "collapsed": true
   },
   "outputs": [],
   "source": [
    "txdata3 = tsne3.fit_transform(ds2[::11])"
   ]
  },
  {
   "cell_type": "code",
   "execution_count": null,
   "metadata": {
    "collapsed": false
   },
   "outputs": [],
   "source": [
    "txdata1.shape"
   ]
  },
  {
   "cell_type": "code",
   "execution_count": null,
   "metadata": {
    "collapsed": false
   },
   "outputs": [],
   "source": [
    "6041. / ( ds2.shape[0] / 16) * (ds2.shape[0] / 15)"
   ]
  },
  {
   "cell_type": "code",
   "execution_count": null,
   "metadata": {
    "collapsed": false
   },
   "outputs": [],
   "source": [
    "nZeros"
   ]
  },
  {
   "cell_type": "code",
   "execution_count": null,
   "metadata": {
    "collapsed": true
   },
   "outputs": [],
   "source": [
    "txdata2 = np.array(txdata1)"
   ]
  },
  {
   "cell_type": "code",
   "execution_count": null,
   "metadata": {
    "collapsed": false
   },
   "outputs": [],
   "source": [
    "# plt.scatter(txdata1[:,0], txdata1[:,1])\n",
    "nTrain = 6443\n",
    "nZeros = 5964\n",
    "cut = nZeros\n",
    "nOnes = nTrain-nZeros\n",
    "\n",
    "plt.scatter(txdata2[:cut,0], txdata2[:cut,1], c='w', s=5, marker='.',   edgecolors='none')\n",
    "plt.scatter(txdata2[cut:nTrain,0], txdata2[cut:nTrain,1], c='orange', s=500, marker='.', edgecolors='none', alpha=0.05)\n",
    "plt.scatter(txdata2[cut:nTrain,0], txdata2[cut:nTrain,1], c='r', s=10, marker='.', edgecolors='none')\n",
    "plt.scatter(txdata2[nTrain:,0], txdata2[nTrain:,1], c='b', s=10, marker='.', edgecolors='none')"
   ]
  },
  {
   "cell_type": "code",
   "execution_count": null,
   "metadata": {
    "collapsed": false
   },
   "outputs": [],
   "source": [
    "6041. / ( ds2.shape[0] / 16) * (ds2.shape[0] / 11)"
   ]
  },
  {
   "cell_type": "code",
   "execution_count": null,
   "metadata": {
    "collapsed": false
   },
   "outputs": [],
   "source": [
    "nTrain = int(6041 * txdata3.shape[0] / (ds2.shape[0] / 16) )\n",
    "nZeros = int( nTrain * (5592/6041))\n",
    "cut = nZeros\n",
    "plt.scatter(txdata3[:cut,0], txdata3[:cut,1], c='w', s=5, marker='.',   edgecolors='none')\n",
    "plt.scatter(txdata3[cut:nTrain,0], txdata3[cut:nTrain,1], c='orange', s=500, marker='.', edgecolors='none', alpha=0.05)\n",
    "plt.scatter(txdata3[cut:nTrain,0], txdata3[cut:nTrain,1], c='r', s=10, marker='.', edgecolors='none')\n",
    "plt.scatter(txdata3[nTrain:,0], txdata3[nTrain:,1], c='b', s=10, marker='.', edgecolors='none')"
   ]
  },
  {
   "cell_type": "code",
   "execution_count": null,
   "metadata": {
    "collapsed": false
   },
   "outputs": [],
   "source": []
  },
  {
   "cell_type": "code",
   "execution_count": null,
   "metadata": {
    "collapsed": true
   },
   "outputs": [],
   "source": []
  },
  {
   "cell_type": "code",
   "execution_count": null,
   "metadata": {
    "collapsed": true
   },
   "outputs": [],
   "source": [
    "# ae2.save('ae_lf256_16.h5')"
   ]
  },
  {
   "cell_type": "code",
   "execution_count": null,
   "metadata": {
    "collapsed": true
   },
   "outputs": [],
   "source": [
    "# encoder2.save('enc_lf256_16.h5')"
   ]
  },
  {
   "cell_type": "code",
   "execution_count": null,
   "metadata": {
    "collapsed": false
   },
   "outputs": [],
   "source": [
    "encoded_imgs.shape\n",
    "np.save('vec_enc_lf256_16_each', encoded_imgs)"
   ]
  },
  {
   "cell_type": "code",
   "execution_count": null,
   "metadata": {
    "collapsed": false
   },
   "outputs": [],
   "source": [
    "os.chdir('/home/mike/ve/ml/')\n",
    "from eegkaggle.dio import dataio\n",
    "reload(dataio)"
   ]
  },
  {
   "cell_type": "code",
   "execution_count": null,
   "metadata": {
    "collapsed": false
   },
   "outputs": [],
   "source": [
    "reload(dataio)\n",
    "print(zdata.shape, Y.shape)\n",
    "d0, d1, dt = dataio.separate_sets(zdata, Y)\n",
    "print(d0.shape, d1.shape)\n",
    "x,y = dataio.subdiv_and_shuffle(zdata, Y, resample='up', merge=False, shuffle=False) # let keras shuffle\n",
    "# x = zdata\n",
    "# y = Y"
   ]
  },
  {
   "cell_type": "code",
   "execution_count": null,
   "metadata": {
    "collapsed": false
   },
   "outputs": [],
   "source": [
    "print(x.shape, y.shape)"
   ]
  },
  {
   "cell_type": "code",
   "execution_count": null,
   "metadata": {
    "collapsed": false
   },
   "outputs": [],
   "source": [
    "np.mean(y, axis=0)"
   ]
  },
  {
   "cell_type": "code",
   "execution_count": null,
   "metadata": {
    "collapsed": false
   },
   "outputs": [],
   "source": [
    "y"
   ]
  },
  {
   "cell_type": "code",
   "execution_count": null,
   "metadata": {
    "collapsed": false
   },
   "outputs": [],
   "source": [
    "Yv = np.asarray(y == 1).ravel()\n",
    "print(Yv)\n",
    "Yv = np.stack([Yv, ~Yv], axis=1)\n",
    "print(Yv.shape)\n",
    "Yv = np.array(Yv, dtype=int)\n",
    "print(Yv.shape)\n",
    "np.mean(Yv[:,0])"
   ]
  },
  {
   "cell_type": "code",
   "execution_count": null,
   "metadata": {
    "collapsed": false
   },
   "outputs": [],
   "source": [
    "print(x.shape, Yv.shape)"
   ]
  },
  {
   "cell_type": "code",
   "execution_count": null,
   "metadata": {
    "collapsed": false
   },
   "outputs": [],
   "source": [
    "X_train = x\n",
    "# X_train = x.reshape(-1, 256,1)\n",
    "# X_train /= np.amax(X_train)\n",
    "y_train = Yv # .reshape(-1, 2)\n",
    "print(X_train.shape, y_train.shape)\n",
    "ones_rate = np.mean(Yv[:,0])\n",
    "class_weight= {0:1./(1-ones_rate), 1:1./ones_rate}\n",
    "print(class_weight)\n",
    "model.fit(X_train, y_train, nb_epoch=3, batch_size=64, shuffle=True, class_weight=class_weight, validation_split=0.2 )"
   ]
  },
  {
   "cell_type": "code",
   "execution_count": null,
   "metadata": {
    "collapsed": false
   },
   "outputs": [],
   "source": [
    "pr = model.predict_classes(X_train)"
   ]
  },
  {
   "cell_type": "code",
   "execution_count": null,
   "metadata": {
    "collapsed": false
   },
   "outputs": [],
   "source": [
    "np.sum(pr)"
   ]
  },
  {
   "cell_type": "code",
   "execution_count": null,
   "metadata": {
    "collapsed": false
   },
   "outputs": [],
   "source": [
    "pr.shape"
   ]
  },
  {
   "cell_type": "code",
   "execution_count": null,
   "metadata": {
    "collapsed": false
   },
   "outputs": [],
   "source": [
    "np.mean(pr == y_train[:,1]) # MOMENT OF TRUUUUUTH!!!!!!"
   ]
  },
  {
   "cell_type": "code",
   "execution_count": null,
   "metadata": {
    "collapsed": true
   },
   "outputs": [],
   "source": []
  }
 ],
 "metadata": {
  "kernelspec": {
   "display_name": "Python 2",
   "language": "python",
   "name": "python2"
  },
  "language_info": {
   "codemirror_mode": {
    "name": "ipython",
    "version": 2
   },
   "file_extension": ".py",
   "mimetype": "text/x-python",
   "name": "python",
   "nbconvert_exporter": "python",
   "pygments_lexer": "ipython2",
   "version": "2.7.11"
  }
 },
 "nbformat": 4,
 "nbformat_minor": 1
}
