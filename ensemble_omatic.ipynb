{
 "cells": [
  {
   "cell_type": "code",
   "execution_count": 1,
   "metadata": {
    "collapsed": false
   },
   "outputs": [],
   "source": [
    "%matplotlib inline"
   ]
  },
  {
   "cell_type": "code",
   "execution_count": 2,
   "metadata": {
    "collapsed": false
   },
   "outputs": [],
   "source": [
    "from __future__ import print_function, division\n",
    "import os, sys\n",
    "import numpy as np, scipy as sp, pandas as pd\n",
    "import scipy.io\n",
    "import scipy.signal as signal, scipy.fftpack as ftpk, scipy.integrate as integrate, scipy.interpolate as interpolate\n",
    "import matplotlib.pyplot as plt\n",
    "import matplotlib\n",
    "# import tensorflow as tf\n",
    "# import tflearn\n",
    "from sklearn import linear_model as lm, neural_network as nn\n",
    "import sklearn.preprocessing as preproc\n",
    "# import sklearn.model_selection as modselect\n",
    "\n",
    "original_dir = os.getcwd()"
   ]
  },
  {
   "cell_type": "code",
   "execution_count": 3,
   "metadata": {
    "collapsed": true
   },
   "outputs": [],
   "source": [
    "PLOT=True"
   ]
  },
  {
   "cell_type": "code",
   "execution_count": 4,
   "metadata": {
    "collapsed": false
   },
   "outputs": [],
   "source": [
    "e = np.exp(1)\n",
    "pi = np.pi\n",
    "pii = np.pi*1j\n",
    "twopi = np.pi * 2\n",
    "SR=400"
   ]
  },
  {
   "cell_type": "code",
   "execution_count": 5,
   "metadata": {
    "collapsed": false
   },
   "outputs": [],
   "source": [
    "import pywt\n",
    "# import pyhht"
   ]
  },
  {
   "cell_type": "code",
   "execution_count": 6,
   "metadata": {
    "collapsed": false
   },
   "outputs": [],
   "source": [
    "from imp import reload\n",
    "import glob"
   ]
  },
  {
   "cell_type": "code",
   "execution_count": 12,
   "metadata": {
    "collapsed": false
   },
   "outputs": [
    {
     "name": "stdout",
     "output_type": "stream",
     "text": [
      "/home/mike/ve/ml\n"
     ]
    }
   ],
   "source": [
    "os.chdir('/home/mike/ve/ml/')\n",
    "# os.chdir('/home/mike/venvs/ml/ml/py')\n",
    "print(os.getcwd())\n",
    "from eegkaggle.vectorizers import naive, spectral\n",
    "from eegkaggle.dio import dataio\n",
    "from eegkaggle.plotting import plotstuff\n",
    "from eegkaggle.msignal import wavelets, metrics, msig, auxfilter\n",
    "from eegkaggle import tf_wtf"
   ]
  },
  {
   "cell_type": "code",
   "execution_count": 9,
   "metadata": {
    "collapsed": false
   },
   "outputs": [
    {
     "data": {
      "text/plain": [
       "<module 'eegkaggle.dio.dataio' from 'eegkaggle/dio/dataio.pyc'>"
      ]
     },
     "execution_count": 9,
     "metadata": {},
     "output_type": "execute_result"
    },
    {
     "data": {
      "text/plain": [
       "<matplotlib.figure.Figure at 0x7f567af08c10>"
      ]
     },
     "metadata": {},
     "output_type": "display_data"
    }
   ],
   "source": [
    "reload(plotstuff)\n",
    "reload(dataio)"
   ]
  },
  {
   "cell_type": "code",
   "execution_count": 10,
   "metadata": {
    "collapsed": true
   },
   "outputs": [],
   "source": [
    "matplotlib.style.use('ggplot')"
   ]
  },
  {
   "cell_type": "code",
   "execution_count": 11,
   "metadata": {
    "collapsed": false
   },
   "outputs": [],
   "source": [
    "ssmall,smed, slarge, slong = (4,3), (8,6), (16,12), (16,4)\n",
    "matplotlib.rcParams['figure.figsize'] = smed"
   ]
  },
  {
   "cell_type": "markdown",
   "metadata": {},
   "source": [
    "Functions"
   ]
  },
  {
   "cell_type": "code",
   "execution_count": 16,
   "metadata": {
    "collapsed": true
   },
   "outputs": [],
   "source": [
    "def hist(ds, bins=20):\n",
    "    pd.Series(ds).hist(bins=bins)"
   ]
  },
  {
   "cell_type": "code",
   "execution_count": 13,
   "metadata": {
    "collapsed": false
   },
   "outputs": [
    {
     "name": "stdout",
     "output_type": "stream",
     "text": [
      "VALIDATION  0: 90.00 %\n",
      "VALIDATION  1: 92.22 %\n",
      "VALIDATION  2: 60.00 %\n",
      "VALIDATION  3: 93.33 %\n",
      "VALIDATION  4: 83.33 %\n",
      "VALIDATION  5: 81.11 %\n",
      "VALIDATION  6: 91.11 %\n",
      "VALIDATION  7: 88.89 %\n",
      "VALIDATION  8: 91.11 %\n",
      "VALIDATION  9: 84.44 %\n",
      "VALIDATION 10: 88.89 %\n",
      "VALIDATION 11: 88.89 %\n",
      "VALIDATION 12: 86.67 %\n",
      "VALIDATION 13: 77.78 %\n",
      "VALIDATION 14: 88.89 %\n",
      "VALIDATION 15: 95.56 %\n",
      "VALIDATION 16: 91.11 %\n",
      "VALIDATION 17: 62.22 %\n",
      "VALIDATION 18: 90.00 %\n",
      "VALIDATION 19: 74.44 %\n",
      "VALIDATION 20: 77.78 %\n",
      "VALIDATION 21: 90.00 %\n",
      "VALIDATION 22: 87.78 %\n",
      "VALIDATION 23: 74.44 %\n",
      "VALIDATION 24: 87.78 %\n",
      "VALIDATION 25: 94.44 %\n",
      "VALIDATION 26: 76.67 %\n",
      "VALIDATION 27: 96.67 %\n",
      "VALIDATION 28: 85.56 %\n",
      "VALIDATION 29: 92.22 %\n",
      "VALIDATION 30: 80.00 %\n",
      "VALIDATION 31: 86.67 %\n",
      "VALIDATION 32: 71.11 %\n",
      "VALIDATION 33: 91.11 %\n",
      "VALIDATION 34: 90.00 %\n",
      "VALIDATION 35: 90.00 %\n",
      "VALIDATION 36: 81.11 %\n",
      "VALIDATION 37: 84.44 %\n",
      "VALIDATION 38: 91.11 %\n",
      "VALIDATION 39: 66.67 %\n",
      "VALIDATION 40: 57.78 %\n",
      "VALIDATION 41: 75.56 %\n",
      "VALIDATION 42: 88.89 %\n",
      "VALIDATION 43: 88.89 %\n",
      "VALIDATION 44: 71.11 %\n",
      "VALIDATION 45: 74.44 %\n",
      "VALIDATION 46: 86.67 %\n",
      "VALIDATION 47: 72.22 %\n",
      "VALIDATION 48: 90.00 %\n",
      "VALIDATION 49: 88.89 %\n",
      "VALIDATION 50: 85.56 %\n",
      "VALIDATION 51: 77.78 %\n",
      "VALIDATION 52: 90.00 %\n",
      "VALIDATION 53: 91.11 %\n",
      "VALIDATION 54: 87.78 %\n",
      "VALIDATION 55: 71.11 %\n",
      "VALIDATION 56: 80.00 %\n",
      "VALIDATION 57: 86.67 %\n",
      "VALIDATION 58: 83.33 %\n",
      "VALIDATION 59: 91.11 %\n",
      "VALIDATION 60: 81.11 %\n",
      "VALIDATION 61: 87.78 %\n",
      "VALIDATION 62: 82.22 %\n",
      "VALIDATION 63: 73.33 %\n",
      "(64, 1908)\n",
      "(1908,)\n"
     ]
    }
   ],
   "source": [
    "probs = tf_wtf.ensembleOMatic()"
   ]
  },
  {
   "cell_type": "code",
   "execution_count": 17,
   "metadata": {
    "collapsed": false
   },
   "outputs": [
    {
     "data": {
      "image/png": "[encoded data removed]",
      "text/plain": [
       "<matplotlib.figure.Figure at 0x7f567b1597d0>"
      ]
     },
     "metadata": {},
     "output_type": "display_data"
    }
   ],
   "source": [
    "hist(probs)"
   ]
  },
  {
   "cell_type": "code",
   "execution_count": null,
   "metadata": {
    "collapsed": true
   },
   "outputs": [],
   "source": []
  }
 ],
 "metadata": {
  "kernelspec": {
   "display_name": "Python 2",
   "language": "python",
   "name": "python2"
  },
  "language_info": {
   "codemirror_mode": {
    "name": "ipython",
    "version": 2
   },
   "file_extension": ".py",
   "mimetype": "text/x-python",
   "name": "python",
   "nbconvert_exporter": "python",
   "pygments_lexer": "ipython2",
   "version": "2.7.11"
  }
 },
 "nbformat": 4,
 "nbformat_minor": 0
}
