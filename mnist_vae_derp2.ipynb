{
 "cells": [
  {
   "cell_type": "code",
   "execution_count": 1,
   "metadata": {
    "collapsed": false
   },
   "outputs": [
    {
     "name": "stdout",
     "output_type": "stream",
     "text": [
      "Using matplotlib backend: TkAgg\n"
     ]
    }
   ],
   "source": [
    "%matplotlib"
   ]
  },
  {
   "cell_type": "code",
   "execution_count": 2,
   "metadata": {
    "collapsed": false
   },
   "outputs": [],
   "source": [
    "from plotting import plotstuff\n",
    "from imp import reload"
   ]
  },
  {
   "cell_type": "code",
   "execution_count": 3,
   "metadata": {
    "collapsed": false
   },
   "outputs": [
    {
     "name": "stderr",
     "output_type": "stream",
     "text": [
      "Using TensorFlow backend.\n"
     ]
    }
   ],
   "source": [
    "'''This script demonstrates how to build a variational autoencoder with Keras.\n",
    "\n",
    "Reference: \"Auto-Encoding Variational Bayes\" https://arxiv.org/abs/1312.6114\n",
    "'''\n",
    "import numpy as np\n",
    "import matplotlib.pyplot as plt\n",
    "\n",
    "from keras.layers import Input, Dense, Lambda, Flatten, Reshape, BatchNormalization, Dropout, GaussianNoise, GaussianDropout, Activation\n",
    "from keras.layers import Convolution2D, Deconvolution2D, MaxPooling2D, UpSampling2D\n",
    "from keras.models import Model\n",
    "from keras import backend as K_backend\n",
    "from keras import objectives\n",
    "from keras.datasets import mnist\n",
    "from keras.utils import np_utils\n",
    "\n",
    "import scipy.misc, scipy.ndimage"
   ]
  },
  {
   "cell_type": "code",
   "execution_count": null,
   "metadata": {
    "collapsed": true
   },
   "outputs": [],
   "source": [
    "# global\n",
    "nb_epoch = 50\n",
    "input_img = Input(shape=(1, 28, 28))\n",
    "\n",
    "x = Convolution2D(16, 3, 3, activation='relu', border_mode='same')(input_img)\n",
    "x = MaxPooling2D((2, 2), border_mode='same')(x)\n",
    "x = Convolution2D(8, 3, 3, activation='relu', border_mode='same')(x)\n",
    "x = MaxPooling2D((2, 2), border_mode='same')(x)\n",
    "x = Convolution2D(8, 3, 3, activation='relu', border_mode='same')(x)\n",
    "encoded = MaxPooling2D((2, 2), border_mode='same')(x)\n",
    "\n",
    "# at this point the representation is (8, 4, 4) i.e. 128-dimensional\n",
    "\n",
    "x = Convolution2D(8, 3, 3, activation='relu', border_mode='same')(encoded)\n",
    "x = UpSampling2D((2, 2))(x)\n",
    "x = Convolution2D(8, 3, 3, activation='relu', border_mode='same')(x)\n",
    "x = UpSampling2D((2, 2))(x)\n",
    "x = Convolution2D(16, 3, 3, activation='relu', border_mode='same')(x)\n",
    "x = UpSampling2D((2, 2))(x)\n",
    "decoded = Convolution2D(1, 3, 3, activation='sigmoid', border_mode='same')(x)"
   ]
  },
  {
   "cell_type": "code",
   "execution_count": null,
   "metadata": {
    "collapsed": false
   },
   "outputs": [],
   "source": [
    "autoencoder = Model(input_img, decoded)\n",
    "autoencoder.summary()\n",
    "autoencoder.compile(optimizer='adadelta', loss='binary_crossentropy')"
   ]
  },
  {
   "cell_type": "code",
   "execution_count": 4,
   "metadata": {
    "collapsed": false
   },
   "outputs": [],
   "source": [
    "# ==== dataset handling - train the VAE on MNIST digits ===\n",
    "batch_size = 100\n",
    "(x_train, y_train), (x_test, y_test) = mnist.load_data()\n",
    "\n",
    "x_train = x_train.astype('float32') / 255.\n",
    "x_test = x_test.astype('float32') / 255.\n",
    "x_train = np.reshape(x_train, (len(x_train), 1, 28, 28))\n",
    "x_test = np.reshape(x_test, (len(x_test), 1, 28, 28))"
   ]
  },
  {
   "cell_type": "code",
   "execution_count": 5,
   "metadata": {
    "collapsed": false
   },
   "outputs": [
    {
     "name": "stdout",
     "output_type": "stream",
     "text": [
      "(60000, 56, 28)\n"
     ]
    }
   ],
   "source": [
    "(x_train, y_train), (x_test, y_test) = mnist.load_data()\n",
    "\n",
    "x_train = x_train.astype('float32') / 255.\n",
    "x_test = x_test.astype('float32') / 255.\n",
    "x2 = np.concatenate([x_train, x_train], axis=1)\n",
    "print(x2.shape)"
   ]
  },
  {
   "cell_type": "code",
   "execution_count": null,
   "metadata": {
    "collapsed": false
   },
   "outputs": [],
   "source": [
    "# from keras.callbacks import TensorBoard\n",
    "\n",
    "autoencoder.fit(x_train, x_train,\n",
    "                nb_epoch=50,\n",
    "                batch_size=128,\n",
    "                shuffle=True,\n",
    "                validation_data=(x_test, x_test),\n",
    "#                 callbacks=[TensorBoard(log_dir='/tmp/autoencoder')],\n",
    "               )"
   ]
  },
  {
   "cell_type": "code",
   "execution_count": 6,
   "metadata": {
    "collapsed": false
   },
   "outputs": [
    {
     "ename": "NameError",
     "evalue": "name 'autoencoder' is not defined",
     "output_type": "error",
     "traceback": [
      "\u001b[0;31m---------------------------------------------------------------------------\u001b[0m",
      "\u001b[0;31mNameError\u001b[0m                                 Traceback (most recent call last)",
      "\u001b[0;32m<ipython-input-6-df01193ba40a>\u001b[0m in \u001b[0;36m<module>\u001b[0;34m()\u001b[0m\n\u001b[1;32m      1\u001b[0m \u001b[0;32mimport\u001b[0m \u001b[0mkeras\u001b[0m\u001b[0;34m.\u001b[0m\u001b[0mutils\u001b[0m\u001b[0;34m.\u001b[0m\u001b[0mvisualize_util\u001b[0m\u001b[0;34m\u001b[0m\u001b[0m\n\u001b[0;32m----> 2\u001b[0;31m \u001b[0mkeras\u001b[0m\u001b[0;34m.\u001b[0m\u001b[0mutils\u001b[0m\u001b[0;34m.\u001b[0m\u001b[0mvisualize_util\u001b[0m\u001b[0;34m.\u001b[0m\u001b[0mplot\u001b[0m\u001b[0;34m(\u001b[0m\u001b[0mautoencoder\u001b[0m\u001b[0;34m,\u001b[0m \u001b[0;34m'ae_conv.png'\u001b[0m\u001b[0;34m,\u001b[0m \u001b[0mshow_shapes\u001b[0m\u001b[0;34m=\u001b[0m\u001b[0mTrue\u001b[0m\u001b[0;34m)\u001b[0m\u001b[0;34m\u001b[0m\u001b[0m\n\u001b[0m\u001b[1;32m      3\u001b[0m \u001b[0mplt\u001b[0m\u001b[0;34m.\u001b[0m\u001b[0mshow\u001b[0m\u001b[0;34m(\u001b[0m\u001b[0;34m)\u001b[0m\u001b[0;34m\u001b[0m\u001b[0m\n",
      "\u001b[0;31mNameError\u001b[0m: name 'autoencoder' is not defined"
     ]
    }
   ],
   "source": [
    "import keras.utils.visualize_util\n",
    "keras.utils.visualize_util.plot(autoencoder, 'ae_conv.png', show_shapes=True)\n",
    "plt.show()"
   ]
  },
  {
   "cell_type": "code",
   "execution_count": null,
   "metadata": {
    "collapsed": false
   },
   "outputs": [],
   "source": [
    "x_train = np.reshape(x_train, (len(x_train), 1, 28, 28))\n",
    "x_test = np.reshape(x_test, (len(x_test), 1, 28, 28))\n",
    "print(x_train.shape)"
   ]
  },
  {
   "cell_type": "code",
   "execution_count": null,
   "metadata": {
    "collapsed": false
   },
   "outputs": [],
   "source": [
    "pwd"
   ]
  },
  {
   "cell_type": "code",
   "execution_count": 4,
   "metadata": {
    "collapsed": false
   },
   "outputs": [
    {
     "name": "stdout",
     "output_type": "stream",
     "text": [
      "____________________________________________________________________________________________________\n",
      "Layer (type)                     Output Shape          Param #     Connected to                     \n",
      "====================================================================================================\n",
      "convolution2d_1 (Convolution2D)  (None, 28, 28, 32)    320         convolution2d_input_1[0][0]      \n",
      "____________________________________________________________________________________________________\n",
      "convolution2d_2 (Convolution2D)  (None, 28, 28, 32)    9248        convolution2d_1[0][0]            \n",
      "____________________________________________________________________________________________________\n",
      "maxpooling2d_1 (MaxPooling2D)    (None, 14, 14, 32)    0           convolution2d_2[0][0]            \n",
      "____________________________________________________________________________________________________\n",
      "convolution2d_3 (Convolution2D)  (None, 14, 14, 64)    18496       maxpooling2d_1[0][0]             \n",
      "____________________________________________________________________________________________________\n",
      "convolution2d_4 (Convolution2D)  (None, 14, 14, 64)    36928       convolution2d_3[0][0]            \n",
      "____________________________________________________________________________________________________\n",
      "maxpooling2d_2 (MaxPooling2D)    (None, 7, 7, 64)      0           convolution2d_4[0][0]            \n",
      "____________________________________________________________________________________________________\n",
      "flatten_1 (Flatten)              (None, 3136)          0           maxpooling2d_2[0][0]             \n",
      "____________________________________________________________________________________________________\n",
      "dropout_1 (Dropout)              (None, 3136)          0           flatten_1[0][0]                  \n",
      "____________________________________________________________________________________________________\n",
      "dense_1 (Dense)                  (None, 128)           401536      dropout_1[0][0]                  \n",
      "____________________________________________________________________________________________________\n",
      "dense_2 (Dense)                  (None, 10)            1290        dense_1[0][0]                    \n",
      "====================================================================================================\n",
      "Total params: 467818\n",
      "____________________________________________________________________________________________________\n"
     ]
    }
   ],
   "source": [
    "import pandas as pd\n",
    "import numpy as np\n",
    "'$'\n",
    "\n",
    "# The competition datafiles are in the directory ../input\n",
    "# Read competition data files:\n",
    "train = pd.read_csv(\"./input/train.csv\").values\n",
    "test  = pd.read_csv(\"./input/test.csv\").values\n",
    "\n",
    "nb_epoch = 1 # Change to 100\n",
    "\n",
    "batch_size = 128\n",
    "img_rows, img_cols = 28, 28\n",
    "\n",
    "nb_filters_1 = 32 # 64\n",
    "nb_filters_2 = 64 # 128\n",
    "nb_filters_3 = 128 # 256\n",
    "nb_conv = 3\n",
    "\n",
    "trainX = train[:, 1:].reshape(train.shape[0], img_rows, img_cols, 1)\n",
    "trainX = trainX.astype(float)\n",
    "trainX /= 255.0\n",
    "\n",
    "trainY = kutils.to_categorical(train[:, 0])\n",
    "nb_classes = trainY.shape[1]\n",
    "\n",
    "cnn = models.Sequential()\n",
    "\n",
    "cnn.add(conv.Convolution2D(nb_filters_1, nb_conv, nb_conv,  activation=\"relu\", input_shape=(28, 28, 1), border_mode='same'))\n",
    "cnn.add(conv.Convolution2D(nb_filters_1, nb_conv, nb_conv, activation=\"relu\", border_mode='same'))\n",
    "cnn.add(conv.MaxPooling2D(strides=(2,2)))\n",
    "\n",
    "cnn.add(conv.Convolution2D(nb_filters_2, nb_conv, nb_conv, activation=\"relu\", border_mode='same'))\n",
    "cnn.add(conv.Convolution2D(nb_filters_2, nb_conv, nb_conv, activation=\"relu\", border_mode='same'))\n",
    "cnn.add(conv.MaxPooling2D(strides=(2,2)))\n",
    "\n",
    "#cnn.add(conv.Convolution2D(nb_filters_3, nb_conv, nb_conv, activation=\"relu\", border_mode='same'))\n",
    "#cnn.add(conv.Convolution2D(nb_filters_3, nb_conv, nb_conv, activation=\"relu\", border_mode='same'))\n",
    "#cnn.add(conv.Convolution2D(nb_filters_3, nb_conv, nb_conv, activation=\"relu\", border_mode='same'))\n",
    "#cnn.add(conv.Convolution2D(nb_filters_3, nb_conv, nb_conv, activation=\"relu\", border_mode='same'))\n",
    "#cnn.add(conv.MaxPooling2D(strides=(2,2)))\n",
    "\n",
    "cnn.add(core.Flatten())\n",
    "cnn.add(core.Dropout(0.2))\n",
    "cnn.add(core.Dense(128, activation=\"relu\")) # 4096\n",
    "cnn.add(core.Dense(nb_classes, activation=\"softmax\"))\n",
    "\n",
    "cnn.summary()"
   ]
  },
  {
   "cell_type": "code",
   "execution_count": null,
   "metadata": {
    "collapsed": true
   },
   "outputs": [],
   "source": [
    "cnn.compile(loss=\"categorical_crossentropy\", optimizer=\"adam\", metrics=[\"accuracy\"])"
   ]
  },
  {
   "cell_type": "code",
   "execution_count": null,
   "metadata": {
    "collapsed": false
   },
   "outputs": [],
   "source": [
    "cnn.fit(trainX, trainY, batch_size=batch_size, nb_epoch=nb_epoch, verbose=1)"
   ]
  },
  {
   "cell_type": "code",
   "execution_count": 12,
   "metadata": {
    "collapsed": false
   },
   "outputs": [
    {
     "name": "stdout",
     "output_type": "stream",
     "text": [
      "(42000, 56, 56, 1)\n"
     ]
    }
   ],
   "source": [
    "# The competition datafiles are in the directory ../input\n",
    "# Read competition data files:\n",
    "train = pd.read_csv(\"./input/train.csv\").values\n",
    "test  = pd.read_csv(\"./input/test.csv\").values\n",
    "\n",
    "nb_epoch = 1 # Change to 100\n",
    "\n",
    "batch_size = 128\n",
    "img_rows, img_cols = 56, 56\n",
    "\n",
    "nb_filters_1 = 32 # 64\n",
    "nb_filters_2 = 64 # 128\n",
    "nb_filters_3 = 128 # 256\n",
    "nb_conv = 3\n",
    "\n",
    "# train = np.concatenate([train, train], axis=1)\n",
    "trainX = train[:, 1:].reshape(train.shape[0], 28, 28, 1)\n",
    "trainX = trainX.astype(float)\n",
    "\n",
    "trainX /= 255.0\n",
    "trainX = np.concatenate([trainX, np.roll(trainX, 14, axis=1)], axis=1) \n",
    "trainX = np.concatenate([trainX, np.fliplr(np.roll(trainX, 7, axis=2))], axis=2) \n",
    "print(trainX.shape)\n"
   ]
  },
  {
   "cell_type": "code",
   "execution_count": 13,
   "metadata": {
    "collapsed": false
   },
   "outputs": [
    {
     "data": {
      "text/plain": [
       "<matplotlib.image.AxesImage at 0x7fabc6fba790>"
      ]
     },
     "execution_count": 13,
     "metadata": {},
     "output_type": "execute_result"
    }
   ],
   "source": [
    "plt.imshow(trainX[0,:,:,0])"
   ]
  },
  {
   "cell_type": "code",
   "execution_count": 14,
   "metadata": {
    "collapsed": false
   },
   "outputs": [
    {
     "name": "stdout",
     "output_type": "stream",
     "text": [
      "____________________________________________________________________________________________________\n",
      "Layer (type)                     Output Shape          Param #     Connected to                     \n",
      "====================================================================================================\n",
      "convolution2d_5 (Convolution2D)  (None, 56, 56, 32)    320         convolution2d_input_2[0][0]      \n",
      "____________________________________________________________________________________________________\n",
      "convolution2d_6 (Convolution2D)  (None, 56, 56, 32)    9248        convolution2d_5[0][0]            \n",
      "____________________________________________________________________________________________________\n",
      "maxpooling2d_3 (MaxPooling2D)    (None, 28, 28, 32)    0           convolution2d_6[0][0]            \n",
      "____________________________________________________________________________________________________\n",
      "convolution2d_7 (Convolution2D)  (None, 28, 28, 64)    18496       maxpooling2d_3[0][0]             \n",
      "____________________________________________________________________________________________________\n",
      "convolution2d_8 (Convolution2D)  (None, 28, 28, 64)    36928       convolution2d_7[0][0]            \n",
      "____________________________________________________________________________________________________\n",
      "maxpooling2d_4 (MaxPooling2D)    (None, 14, 14, 64)    0           convolution2d_8[0][0]            \n",
      "____________________________________________________________________________________________________\n",
      "flatten_2 (Flatten)              (None, 12544)         0           maxpooling2d_4[0][0]             \n",
      "____________________________________________________________________________________________________\n",
      "dropout_2 (Dropout)              (None, 12544)         0           flatten_2[0][0]                  \n",
      "____________________________________________________________________________________________________\n",
      "dense_3 (Dense)                  (None, 128)           1605760     dropout_2[0][0]                  \n",
      "____________________________________________________________________________________________________\n",
      "dense_4 (Dense)                  (None, 10)            1290        dense_3[0][0]                    \n",
      "====================================================================================================\n",
      "Total params: 1672042\n",
      "____________________________________________________________________________________________________\n"
     ]
    }
   ],
   "source": [
    "trainY = kutils.to_categorical(train[:, 0])\n",
    "nb_classes = trainY.shape[1]\n",
    "\n",
    "cnn = models.Sequential()\n",
    "\n",
    "cnn.add(conv.Convolution2D(nb_filters_1, nb_conv, nb_conv,  activation=\"relu\", input_shape=(img_rows, img_cols, 1), border_mode='same'))\n",
    "cnn.add(conv.Convolution2D(nb_filters_1, nb_conv, nb_conv, activation=\"relu\", border_mode='same'))\n",
    "cnn.add(conv.MaxPooling2D(strides=(2,2)))\n",
    "\n",
    "cnn.add(conv.Convolution2D(nb_filters_2, nb_conv, nb_conv, activation=\"relu\", border_mode='same'))\n",
    "cnn.add(conv.Convolution2D(nb_filters_2, nb_conv, nb_conv, activation=\"relu\", border_mode='same'))\n",
    "cnn.add(conv.MaxPooling2D(strides=(2,2)))\n",
    "\n",
    "#cnn.add(conv.Convolution2D(nb_filters_3, nb_conv, nb_conv, activation=\"relu\", border_mode='same'))\n",
    "#cnn.add(conv.Convolution2D(nb_filters_3, nb_conv, nb_conv, activation=\"relu\", border_mode='same'))\n",
    "#cnn.add(conv.Convolution2D(nb_filters_3, nb_conv, nb_conv, activation=\"relu\", border_mode='same'))\n",
    "#cnn.add(conv.Convolution2D(nb_filters_3, nb_conv, nb_conv, activation=\"relu\", border_mode='same'))\n",
    "#cnn.add(conv.MaxPooling2D(strides=(2,2)))\n",
    "\n",
    "cnn.add(core.Flatten())\n",
    "cnn.add(core.Dropout(0.2))\n",
    "cnn.add(core.Dense(128, activation=\"relu\")) # 4096\n",
    "cnn.add(core.Dense(nb_classes, activation=\"softmax\"))\n",
    "\n",
    "cnn.summary()"
   ]
  },
  {
   "cell_type": "code",
   "execution_count": 15,
   "metadata": {
    "collapsed": true
   },
   "outputs": [],
   "source": [
    "cnn.compile(loss=\"categorical_crossentropy\", optimizer=\"adam\", metrics=[\"accuracy\"])"
   ]
  },
  {
   "cell_type": "code",
   "execution_count": 17,
   "metadata": {
    "collapsed": false
   },
   "outputs": [
    {
     "name": "stdout",
     "output_type": "stream",
     "text": [
      "Epoch 1/3\n",
      "42000/42000 [==============================] - 101s - loss: 0.0537 - acc: 0.9834   \n",
      "Epoch 2/3\n",
      "42000/42000 [==============================] - 102s - loss: 0.0355 - acc: 0.9884   \n",
      "Epoch 3/3\n",
      "42000/42000 [==============================] - 101s - loss: 0.0262 - acc: 0.9917   \n"
     ]
    },
    {
     "data": {
      "text/plain": [
       "<keras.callbacks.History at 0x7fabc6e7f490>"
      ]
     },
     "execution_count": 17,
     "metadata": {},
     "output_type": "execute_result"
    }
   ],
   "source": [
    "cnn.fit(trainX, trainY, batch_size=batch_size, nb_epoch=3, verbose=1)"
   ]
  },
  {
   "cell_type": "markdown",
   "metadata": {},
   "source": [
    "## So that is interesting. Expanding the mnist image and tweaking it in simple ways improves the rate of training accuracy. "
   ]
  },
  {
   "cell_type": "code",
   "execution_count": null,
   "metadata": {
    "collapsed": true
   },
   "outputs": [],
   "source": [
    "testX = test.reshape(test.shape[0], 28, 28, 1)\n",
    "testX = testX.astype(float)\n",
    "testX /= 255.0"
   ]
  },
  {
   "cell_type": "code",
   "execution_count": null,
   "metadata": {
    "collapsed": false
   },
   "outputs": [],
   "source": [
    "yPred = cnn.predict_classes(testX)\n",
    "\n",
    "np.savetxt('mnist-vggnet.csv', np.c_[range(1,len(yPred)+1),yPred], delimiter=',', header = 'ImageId,Label', comments = '', fmt='%d')"
   ]
  },
  {
   "cell_type": "code",
   "execution_count": null,
   "metadata": {
    "collapsed": false
   },
   "outputs": [],
   "source": []
  },
  {
   "cell_type": "code",
   "execution_count": null,
   "metadata": {
    "collapsed": false
   },
   "outputs": [],
   "source": [
    "# assert 0, 'pause'\n",
    "vae.fit(x_train, x_train,\n",
    "        shuffle=True,\n",
    "        nb_epoch=10,\n",
    "        batch_size=batch_size,\n",
    "        validation_data=(x_test, x_test))"
   ]
  },
  {
   "cell_type": "code",
   "execution_count": null,
   "metadata": {
    "collapsed": false
   },
   "outputs": [],
   "source": [
    "# ===== plotting encoder output\n",
    "# display a 2D plot of the digit classes in the latent space\n",
    "reload(plotstuff)\n",
    "x_test_encoded = encoder.predict(x_test, batch_size=batch_size)\n",
    "print(x_test_encoded.shape)\n",
    "# plotstuff.Easy3dScatter(plt, x_test_encoded, '', s=10, c=y_test )\n",
    "\n",
    "plt.figure(figsize=(6, 6))\n",
    "plt.scatter(x_test_encoded[:, 0], x_test_encoded[:, 1], c=y_test)\n",
    "plt.colorbar()\n",
    "plt.show()"
   ]
  },
  {
   "cell_type": "code",
   "execution_count": null,
   "metadata": {
    "collapsed": false
   },
   "outputs": [],
   "source": [
    "# ====== plotting decoder from latent space =======\n",
    "# display a 2D manifold of the digits\n",
    "n = 15  # figure with 15x15 digits\n",
    "ss=4\n",
    "digit_size = 28\n",
    "figure = np.zeros((digit_size * n, digit_size * n))\n",
    "# we will sample n points within [-15, 15] standard deviations\n",
    "grid_x = np.linspace(-ss, ss, n)\n",
    "grid_y = np.linspace(-ss, ss, n)\n",
    "\n",
    "for i, yi in enumerate(grid_x):\n",
    "    for j, xi in enumerate(grid_y):\n",
    "        z_sample = np.array([[xi, yi]])\n",
    "        x_decoded = generator.predict(z_sample)\n",
    "        digit = x_decoded[0].reshape(digit_size, digit_size)\n",
    "        figure[i * digit_size: (i + 1) * digit_size,\n",
    "               j * digit_size: (j + 1) * digit_size] = digit\n",
    "\n",
    "plt.figure(figsize=(10, 10))\n",
    "plt.imshow(figure)\n",
    "plt.show()"
   ]
  },
  {
   "cell_type": "markdown",
   "metadata": {},
   "source": [
    "# Test some digits"
   ]
  },
  {
   "cell_type": "code",
   "execution_count": 7,
   "metadata": {
    "collapsed": false
   },
   "outputs": [
    {
     "ename": "NameError",
     "evalue": "global name 'generator' is not defined",
     "output_type": "error",
     "traceback": [
      "\u001b[0;31m---------------------------------------------------------------------------\u001b[0m",
      "\u001b[0;31mNameError\u001b[0m                                 Traceback (most recent call last)",
      "\u001b[0;32m<ipython-input-7-c8be201a0163>\u001b[0m in \u001b[0;36m<module>\u001b[0;34m()\u001b[0m\n\u001b[1;32m     11\u001b[0m     \u001b[0mplt\u001b[0m\u001b[0;34m.\u001b[0m\u001b[0mshow\u001b[0m\u001b[0;34m(\u001b[0m\u001b[0;34m)\u001b[0m\u001b[0;34m\u001b[0m\u001b[0m\n\u001b[1;32m     12\u001b[0m \u001b[0;34m\u001b[0m\u001b[0m\n\u001b[0;32m---> 13\u001b[0;31m \u001b[0mdraw_digit\u001b[0m\u001b[0;34m(\u001b[0m\u001b[0;34m(\u001b[0m\u001b[0;36m4\u001b[0m\u001b[0;34m,\u001b[0m\u001b[0;36m4\u001b[0m\u001b[0;34m)\u001b[0m\u001b[0;34m)\u001b[0m\u001b[0;34m\u001b[0m\u001b[0m\n\u001b[0m",
      "\u001b[0;32m<ipython-input-7-c8be201a0163>\u001b[0m in \u001b[0;36mdraw_digit\u001b[0;34m(z_sample, digit_size, n)\u001b[0m\n\u001b[1;32m      2\u001b[0m     \u001b[0mz_sample\u001b[0m \u001b[0;34m=\u001b[0m \u001b[0mnp\u001b[0m\u001b[0;34m.\u001b[0m\u001b[0marray\u001b[0m\u001b[0;34m(\u001b[0m\u001b[0mz_sample\u001b[0m\u001b[0;34m)\u001b[0m\u001b[0;34m.\u001b[0m\u001b[0mreshape\u001b[0m\u001b[0;34m(\u001b[0m\u001b[0;36m1\u001b[0m\u001b[0;34m,\u001b[0m\u001b[0;36m2\u001b[0m\u001b[0;34m)\u001b[0m\u001b[0;34m\u001b[0m\u001b[0m\n\u001b[1;32m      3\u001b[0m     \u001b[0mfigure\u001b[0m \u001b[0;34m=\u001b[0m \u001b[0mnp\u001b[0m\u001b[0;34m.\u001b[0m\u001b[0mzeros\u001b[0m\u001b[0;34m(\u001b[0m\u001b[0;34m(\u001b[0m\u001b[0mdigit_size\u001b[0m \u001b[0;34m*\u001b[0m \u001b[0mn\u001b[0m\u001b[0;34m,\u001b[0m \u001b[0mdigit_size\u001b[0m \u001b[0;34m*\u001b[0m \u001b[0mn\u001b[0m\u001b[0;34m)\u001b[0m\u001b[0;34m)\u001b[0m\u001b[0;34m\u001b[0m\u001b[0m\n\u001b[0;32m----> 4\u001b[0;31m     \u001b[0mx_decoded\u001b[0m \u001b[0;34m=\u001b[0m \u001b[0mgenerator\u001b[0m\u001b[0;34m.\u001b[0m\u001b[0mpredict\u001b[0m\u001b[0;34m(\u001b[0m\u001b[0mz_sample\u001b[0m\u001b[0;34m)\u001b[0m\u001b[0;34m\u001b[0m\u001b[0m\n\u001b[0m\u001b[1;32m      5\u001b[0m     \u001b[0mdigit\u001b[0m \u001b[0;34m=\u001b[0m \u001b[0mx_decoded\u001b[0m\u001b[0;34m[\u001b[0m\u001b[0;36m0\u001b[0m\u001b[0;34m]\u001b[0m\u001b[0;34m.\u001b[0m\u001b[0mreshape\u001b[0m\u001b[0;34m(\u001b[0m\u001b[0mdigit_size\u001b[0m\u001b[0;34m,\u001b[0m \u001b[0mdigit_size\u001b[0m\u001b[0;34m)\u001b[0m\u001b[0;34m\u001b[0m\u001b[0m\n\u001b[1;32m      6\u001b[0m     \u001b[0mi\u001b[0m\u001b[0;34m,\u001b[0m \u001b[0mj\u001b[0m \u001b[0;34m=\u001b[0m \u001b[0;36m0\u001b[0m\u001b[0;34m,\u001b[0m\u001b[0;36m0\u001b[0m\u001b[0;34m\u001b[0m\u001b[0m\n",
      "\u001b[0;31mNameError\u001b[0m: global name 'generator' is not defined"
     ]
    }
   ],
   "source": [
    "def draw_digit(z_sample, digit_size = 28, n=1):\n",
    "    z_sample = np.array(z_sample).reshape(1,2)\n",
    "    figure = np.zeros((digit_size * n, digit_size * n))\n",
    "    x_decoded = generator.predict(z_sample)\n",
    "    digit = x_decoded[0].reshape(digit_size, digit_size)\n",
    "    i, j = 0,0\n",
    "    figure[i * digit_size: (i + 1) * digit_size,\n",
    "           j * digit_size: (j + 1) * digit_size] = digit\n",
    "    plt.figure(figsize=(2, 2))\n",
    "    plt.imshow(figure)\n",
    "    plt.show()\n",
    "    \n",
    "draw_digit((4,4))"
   ]
  },
  {
   "cell_type": "code",
   "execution_count": null,
   "metadata": {
    "collapsed": false
   },
   "outputs": [],
   "source": [
    "assert 0, 'halt'"
   ]
  },
  {
   "cell_type": "code",
   "execution_count": null,
   "metadata": {
    "collapsed": false
   },
   "outputs": [],
   "source": [
    "# build a digit generator that can sample from the learned distribution\n",
    "decoder_input = Input(shape=(latent_dim,))\n",
    "_h_decoded = decoder_h(decoder_input)\n",
    "_x_decoded_mean = decoder_mean(_h_decoded)\n",
    "generator = Model(decoder_input, _x_decoded_mean)\n",
    "\n",
    "# display a 2D manifold of the digits\n",
    "n = 15  # figure with 15x15 digits\n",
    "digit_size = 28\n",
    "figure = np.zeros((digit_size * n, digit_size * n))\n",
    "# we will sample n points within [-15, 15] standard deviations\n",
    "ss = 3\n",
    "grid_x = np.linspace(-ss, ss, n)\n",
    "grid_y = np.linspace(-ss, ss, n)\n",
    "\n",
    "for i, yi in enumerate(grid_x):\n",
    "    for j, xi in enumerate(grid_y):\n",
    "        z_sample = np.array([[xi, yi]])\n",
    "        x_decoded = generator.predict(z_sample)\n",
    "        digit = x_decoded[0].reshape(digit_size, digit_size)\n",
    "        figure[i * digit_size: (i + 1) * digit_size,\n",
    "               j * digit_size: (j + 1) * digit_size] = digit\n",
    "\n",
    "plt.figure(figsize=(10, 10))\n",
    "plt.imshow(figure)\n",
    "plt.show()"
   ]
  },
  {
   "cell_type": "markdown",
   "metadata": {},
   "source": [
    "# Convo VAE"
   ]
  },
  {
   "cell_type": "code",
   "execution_count": 6,
   "metadata": {
    "collapsed": true
   },
   "outputs": [],
   "source": [
    "\n",
    "class ConvoVAE(object):\n",
    "    '''This script demonstrates how to build a variational autoencoder\n",
    "    with Keras and deconvolution layers.\n",
    "\n",
    "    Reference: \"Auto-Encoding Variational Bayes\" https://arxiv.org/abs/1312.6114\n",
    "    '''\n",
    "    def __init__(self, input_shape=(28,28,1), latent_dim=2, intermediate_dim=256, batch_size=100, epsilon_std=1.0, dropout_p=0.1,\n",
    "                sigma=0.2):\n",
    "        # input image dimensions\n",
    "        self.input_shape = input_shape\n",
    "        if len(input_shape) == 3:\n",
    "            self.img_rows, self.img_cols, self.img_chns = input_shape\n",
    "        elif len(input_shape) == 2:\n",
    "            self.img_rows, self.img_cols = input_shape\n",
    "            self.img_chns = 1\n",
    "        else:\n",
    "            raise IndexError(\"Invalid shape: {}\".format(input_shape))\n",
    "        self.batch_size = batch_size\n",
    "        self.original_dim = np.prod(input_shape)\n",
    "        self.latent_dim = latent_dim\n",
    "        self.intermediate_dim = intermediate_dim\n",
    "        self.epsilon_std = epsilon_std\n",
    "        n_pool = 2\n",
    "\n",
    "        # number of convolutional filters to use\n",
    "        nb_filters = 64\n",
    "        # convolution kernel size\n",
    "        nb_conv = 3\n",
    "\n",
    "        batch_size = 100\n",
    "        if K_backend.image_dim_ordering() == 'th':\n",
    "            self.original_img_size = (self.img_chns, self.img_rows, self.img_cols)\n",
    "        else:\n",
    "            self.original_img_size = (self.img_rows, self.img_cols, self.img_chns)\n",
    "\n",
    "        x = Input(batch_shape=(batch_size,) + self.original_img_size)\n",
    "        x_a = GaussianNoise(sigma)(x)\n",
    "        x_a = GaussianDropout(dropout_p)(x_a)\n",
    "\n",
    "#         x_a = Activation('linear')(x)\n",
    "        conv_1 = Convolution2D(self.img_chns, 2, 2, border_mode='same', activation='relu')(x_a)\n",
    "        conv_2 = Convolution2D(nb_filters,    2, 2, border_mode='same', activation='relu', subsample=(2, 2))(conv_1)\n",
    "        conv_3 = Convolution2D(nb_filters, nb_conv, nb_conv, border_mode='same', activation='relu', subsample=(1, 1))(conv_2)\n",
    "        conv_3 = MaxPooling2D((n_pool, n_pool))(conv_3)\n",
    "        for i in range(5):\n",
    "            conv_3 = BatchNormalization()(conv_3)\n",
    "            conv_3 = Dropout(dropout_p)(conv_3)\n",
    "            conv_3 = Convolution2D(nb_filters, nb_conv, nb_conv, border_mode='same', activation='relu', subsample=(1, 1))(conv_3)\n",
    "        \n",
    "      \n",
    "        conv_3 = BatchNormalization()(conv_3)\n",
    "        conv_4 = Convolution2D(nb_filters, nb_conv, nb_conv, border_mode='same', activation='relu', subsample=(1, 1))(conv_3)\n",
    "        flat = Flatten()(conv_4)\n",
    "        hidden = Dense(intermediate_dim, activation='relu')(flat)\n",
    "\n",
    "        self.z_mean = Dense(latent_dim)(hidden)\n",
    "        self.z_log_var = Dense(latent_dim)(hidden)\n",
    "\n",
    "        # note that \"output_shape\" isn't necessary with the TensorFlow backend\n",
    "        # so you could write `Lambda(sampling)([z_mean, z_log_var])`\n",
    "        z = Lambda(self.sampling, output_shape=(latent_dim,))([self.z_mean, self.z_log_var])\n",
    "\n",
    "        # we instantiate these layers separately so as to reuse them later\n",
    "        decoder_hid = Dense(intermediate_dim, activation='relu')\n",
    "        decoder_upsample = Dense(nb_filters * 14 * 14, activation='relu')\n",
    "\n",
    "        if K_backend.image_dim_ordering() == 'th':\n",
    "            output_shape = (batch_size, nb_filters, 14, 14)\n",
    "        else:\n",
    "            output_shape = (batch_size, 14, 14, nb_filters)\n",
    "\n",
    "        decoder_reshape = Reshape(output_shape[1:])\n",
    "        decoder_deconv_1 = Deconvolution2D(nb_filters, nb_conv, nb_conv, output_shape,\n",
    "                                           border_mode='same', subsample=(1, 1), activation='relu')\n",
    "        decoder_deconv_2 = Deconvolution2D(nb_filters, nb_conv, nb_conv, output_shape,\n",
    "                                           border_mode='same', subsample=(1, 1),activation='relu')\n",
    "        if K_backend.image_dim_ordering() == 'th':\n",
    "            output_shape = (batch_size, nb_filters, 29, 29)\n",
    "        else:\n",
    "            output_shape = (batch_size, 29, 29, nb_filters)\n",
    "        decoder_deconv_3_upsamp = Deconvolution2D(nb_filters, 2, 2, output_shape,\n",
    "                                                  border_mode='valid', subsample=(2, 2), activation='relu')\n",
    "        decoder_mean_squash = Convolution2D(self.img_chns, 2, 2, border_mode='valid', activation='sigmoid')\n",
    "\n",
    "        hid_decoded = decoder_hid(z)\n",
    "        up_decoded = decoder_upsample(hid_decoded)\n",
    "        reshape_decoded = decoder_reshape(up_decoded)\n",
    "        deconv_1_decoded = decoder_deconv_1(reshape_decoded)\n",
    "        deconv_2_decoded = decoder_deconv_2(deconv_1_decoded)\n",
    "        x_decoded_relu = decoder_deconv_3_upsamp(deconv_2_decoded)\n",
    "        x_decoded_mean_squash = decoder_mean_squash(x_decoded_relu)\n",
    "\n",
    "        self.model = Model(x, x_decoded_mean_squash)\n",
    "        self.model.compile(optimizer='rmsprop', loss=self.vae_loss)\n",
    "        # self.model.summary()\n",
    "\n",
    "        # build a model to project inputs on the latent space\n",
    "        self.encoder = Model(x, self.z_mean)\n",
    "\n",
    "        # build a digit generator that can sample from the learned distribution\n",
    "        # todo: (un)roll this\n",
    "        decoder_input = Input(shape=(latent_dim,))\n",
    "        _hid_decoded = decoder_hid(decoder_input)\n",
    "        _up_decoded = decoder_upsample(_hid_decoded)\n",
    "        _reshape_decoded = decoder_reshape(_up_decoded)\n",
    "        _deconv_1_decoded = decoder_deconv_1(_reshape_decoded)\n",
    "        _deconv_2_decoded = decoder_deconv_2(_deconv_1_decoded)\n",
    "        _x_decoded_relu = decoder_deconv_3_upsamp(_deconv_2_decoded)\n",
    "        _x_decoded_mean_squash = decoder_mean_squash(_x_decoded_relu)\n",
    "        self.generator = Model(decoder_input, _x_decoded_mean_squash)\n",
    "\n",
    "    def sampling(self, args):\n",
    "        z_mean, z_log_var = args\n",
    "        epsilon = K_backend.random_normal(shape=(self.batch_size, self.latent_dim),\n",
    "                                  mean=0., std=self.epsilon_std)\n",
    "        return z_mean + K_backend.exp(z_log_var) * epsilon\n",
    "\n",
    "    def vae_loss(self, x, x_decoded_mean):\n",
    "        # NOTE: binary_crossentropy expects a batch_size by dim\n",
    "        # for x and x_decoded_mean, so we MUST flatten these!\n",
    "        x = K_backend.flatten(x)\n",
    "        x_decoded_mean = K_backend.flatten(x_decoded_mean)\n",
    "        xent_loss = self.img_rows * self.img_cols * objectives.binary_crossentropy(x, x_decoded_mean)\n",
    "        kl_loss = - 0.5 * K_backend.mean(1 + self.z_log_var - K_backend.square(self.z_mean) - K_backend.exp(self.z_log_var), axis=-1)\n",
    "        return xent_loss + kl_loss\n",
    "\n",
    "    def fit(self, x, y, batch_size=None, nb_epoch=10, verbose=1, callbacks=[], validation_split=0.,\n",
    "            validation_data=None, shuffle=True, class_weight=None, sample_weight=None):\n",
    "        callbacks_history = self.model.fit(x, y, batch_size, nb_epoch, verbose, callbacks, validation_split,\n",
    "                                           validation_data, shuffle, class_weight, sample_weight)\n",
    "        return callbacks_history"
   ]
  },
  {
   "cell_type": "code",
   "execution_count": null,
   "metadata": {
    "collapsed": false
   },
   "outputs": [],
   "source": [
    "    \n",
    "vaeclass = ConvoVAE(latent_dim=2)\n",
    "vae = vaeclass.model\n",
    "encoder = vaeclass.encoder\n",
    "generator = vaeclass.generator"
   ]
  },
  {
   "cell_type": "code",
   "execution_count": null,
   "metadata": {
    "collapsed": false
   },
   "outputs": [],
   "source": [
    "vae.summary()"
   ]
  },
  {
   "cell_type": "code",
   "execution_count": null,
   "metadata": {
    "collapsed": false
   },
   "outputs": [],
   "source": [
    "keras.utils.visualize_util.plot(vae, 'vaec.png', show_shapes=True)\n",
    "plt.show()"
   ]
  },
  {
   "cell_type": "code",
   "execution_count": 7,
   "metadata": {
    "collapsed": false
   },
   "outputs": [
    {
     "ename": "NameError",
     "evalue": "name 'vaeclass' is not defined",
     "output_type": "error",
     "traceback": [
      "\u001b[0;31m---------------------------------------------------------------------------\u001b[0m",
      "\u001b[0;31mNameError\u001b[0m                                 Traceback (most recent call last)",
      "\u001b[0;32m<ipython-input-7-fc863ddc8730>\u001b[0m in \u001b[0;36m<module>\u001b[0;34m()\u001b[0m\n\u001b[1;32m      1\u001b[0m \u001b[0;31m# train the VAE on MNIST digits\u001b[0m\u001b[0;34m\u001b[0m\u001b[0;34m\u001b[0m\u001b[0m\n\u001b[0;32m----> 2\u001b[0;31m \u001b[0moriginal_img_size\u001b[0m \u001b[0;34m=\u001b[0m \u001b[0mvaeclass\u001b[0m\u001b[0;34m.\u001b[0m\u001b[0moriginal_img_size\u001b[0m\u001b[0;34m\u001b[0m\u001b[0m\n\u001b[0m\u001b[1;32m      3\u001b[0m \u001b[0;34m(\u001b[0m\u001b[0mx_train\u001b[0m\u001b[0;34m,\u001b[0m \u001b[0m_\u001b[0m\u001b[0;34m)\u001b[0m\u001b[0;34m,\u001b[0m \u001b[0;34m(\u001b[0m\u001b[0mx_test\u001b[0m\u001b[0;34m,\u001b[0m \u001b[0my_test\u001b[0m\u001b[0;34m)\u001b[0m \u001b[0;34m=\u001b[0m \u001b[0mmnist\u001b[0m\u001b[0;34m.\u001b[0m\u001b[0mload_data\u001b[0m\u001b[0;34m(\u001b[0m\u001b[0;34m)\u001b[0m\u001b[0;34m\u001b[0m\u001b[0m\n\u001b[1;32m      4\u001b[0m \u001b[0;34m\u001b[0m\u001b[0m\n\u001b[1;32m      5\u001b[0m \u001b[0;32mprint\u001b[0m\u001b[0;34m(\u001b[0m\u001b[0moriginal_img_size\u001b[0m\u001b[0;34m)\u001b[0m\u001b[0;34m\u001b[0m\u001b[0m\n",
      "\u001b[0;31mNameError\u001b[0m: name 'vaeclass' is not defined"
     ]
    }
   ],
   "source": [
    "# train the VAE on MNIST digits\n",
    "original_img_size = vaeclass.original_img_size\n",
    "(x_train, _), (x_test, y_test) = mnist.load_data()\n",
    "\n",
    "print(original_img_size)\n",
    "x_train = x_train.astype('float32') / 255.\n",
    "x_train = x_train.reshape((x_train.shape[0],) + original_img_size)\n",
    "x_test = x_test.astype('float32') / 255.\n",
    "x_test = x_test.reshape((x_test.shape[0],) + original_img_size)\n"
   ]
  },
  {
   "cell_type": "code",
   "execution_count": null,
   "metadata": {
    "collapsed": false
   },
   "outputs": [],
   "source": [
    "vae.fit(x_train, x_train,\n",
    "        shuffle=True,\n",
    "        nb_epoch=20,\n",
    "        batch_size=batch_size,\n",
    "        validation_data=(x_test, x_test))"
   ]
  },
  {
   "cell_type": "code",
   "execution_count": null,
   "metadata": {
    "collapsed": false
   },
   "outputs": [],
   "source": [
    "# display a 2D plot of the digit classes in the latent space\n",
    "x_test_encoded = encoder.predict(x_test, batch_size=batch_size)\n",
    "print(x_test_encoded.shape)"
   ]
  },
  {
   "cell_type": "code",
   "execution_count": null,
   "metadata": {
    "collapsed": false
   },
   "outputs": [],
   "source": [
    "plt.figure(figsize=(6, 6))\n",
    "plt.scatter(x_test_encoded[:, 0], x_test_encoded[:, 1], c=y_test)\n",
    "plt.colorbar()\n",
    "plt.show()"
   ]
  },
  {
   "cell_type": "code",
   "execution_count": null,
   "metadata": {
    "collapsed": false
   },
   "outputs": [],
   "source": [
    "x_test_encoded = encoder.predict(x_test, batch_size=batch_size)\n",
    "plotstuff.Easy3dScatter(plt, x_test_encoded, '', s=10, c=y_test )"
   ]
  },
  {
   "cell_type": "code",
   "execution_count": null,
   "metadata": {
    "collapsed": true
   },
   "outputs": [],
   "source": [
    "# display a 2D manifold of the digits\n",
    "n = 15  # figure with 15x15 digits\n",
    "ss = 4\n",
    "digit_size = 28\n",
    "figure = np.zeros((digit_size * n, digit_size * n))\n",
    "# we will sample n points within [-15, 15] standard deviations\n",
    "grid_x = np.linspace(-ss, ss, n)\n",
    "grid_y = np.linspace(-ss, ss, n)\n",
    "\n",
    "for i, yi in enumerate(grid_x):\n",
    "    for j, xi in enumerate(grid_y):\n",
    "        z_sample = np.array([[xi, yi]])\n",
    "        z_sample = np.tile(z_sample, batch_size).reshape(batch_size, 2)\n",
    "        x_decoded = generator.predict(z_sample, batch_size=batch_size)\n",
    "        digit = x_decoded[0].reshape(digit_size, digit_size)\n",
    "        figure[i * digit_size: (i + 1) * digit_size,\n",
    "               j * digit_size: (j + 1) * digit_size] = digit"
   ]
  },
  {
   "cell_type": "code",
   "execution_count": null,
   "metadata": {
    "collapsed": false
   },
   "outputs": [],
   "source": [
    "plt.figure(figsize=(10, 10))\n",
    "plt.imshow(figure, origin='upper')\n",
    "wid = n*digit_size\n",
    "# plt.scatter(x_test_encoded[:, 0]*wid/4 + wid//2, x_test_encoded[:, 1]*wid/4 + wid//2, c=y_test, alpha=0.5)\n",
    "\n",
    "plt.show()"
   ]
  },
  {
   "cell_type": "markdown",
   "metadata": {},
   "source": [
    "# Crossfire"
   ]
  },
  {
   "cell_type": "code",
   "execution_count": 21,
   "metadata": {
    "collapsed": false
   },
   "outputs": [],
   "source": [
    "class Crossfire(object):\n",
    "    \"\"\"\n",
    "    Covolutional VAE with a \"crossfire\" component - a classifier is bolted onto the end of the encoder and loss function\n",
    "    can be parameterized to function from classifier loss instead of autoencoder loss. Ideally, the model starts in\n",
    "    pure autoencoder mode to learn features, then as loss flattens out the network starts weighing classifier loss\n",
    "    more heavily.\n",
    "    Note to self: things to try:\n",
    "    * Add burst /batch / epoch noise to input\n",
    "    * Modularize out the activation from dropout ordering\"\"\"\n",
    "\n",
    "    def __init__(self, input_shape=(28, 28, 1), latent_dim=2, intermediate_dim=256, batch_size=100, epsilon_std=1.0,\n",
    "                 dropout_p=0.1, n_stax=0, n_classes=10):\n",
    "        # input image dimensions\n",
    "        self.input_shape = input_shape\n",
    "        if len(input_shape) == 3:\n",
    "            self.img_rows, self.img_cols, self.img_chns = input_shape\n",
    "        elif len(input_shape) == 2:\n",
    "            self.img_rows, self.img_cols = input_shape\n",
    "            self.img_chns = 1\n",
    "        else:\n",
    "            raise IndexError(\"Invalid shape: {}\".format(input_shape))\n",
    "        self.batch_size = batch_size\n",
    "        self.original_dim = np.prod(input_shape)\n",
    "        self.latent_dim = latent_dim\n",
    "        self.intermediate_dim = intermediate_dim\n",
    "        self.epsilon_std = epsilon_std\n",
    "        self.epsilon_ce = 1.0e-9\n",
    "\n",
    "        # number of convolutional filters to use\n",
    "        nb_filters = 64\n",
    "        # convolution kernel size\n",
    "        nb_conv = 3\n",
    "\n",
    "        batch_size = 100\n",
    "        if K_backend.image_dim_ordering() == 'th':\n",
    "            self.original_img_size = (self.img_chns, self.img_rows, self.img_cols)\n",
    "        else:\n",
    "            self.original_img_size = (self.img_rows, self.img_cols, self.img_chns)\n",
    "\n",
    "        x = Input(batch_shape=(batch_size,) + self.original_img_size, name='main_input')\n",
    "        conv_1 = Convolution2D(self.img_chns, 2, 2, border_mode='same', activation='relu')(x)\n",
    "        conv_2 = Convolution2D(nb_filters, 2, 2,\n",
    "                               border_mode='same', activation='relu', subsample=(2, 2))(conv_1)\n",
    "        conv_3 = Convolution2D(nb_filters, nb_conv, nb_conv, border_mode='same', activation='relu', subsample=(1, 1))(\n",
    "            conv_2)\n",
    "        for i in range(n_stax):\n",
    "            conv_3 = BatchNormalization()(conv_3)\n",
    "            conv_3 = Dropout(dropout_p)(conv_3)\n",
    "            conv_3 = Convolution2D(nb_filters, nb_conv, nb_conv, border_mode='same', activation='relu',\n",
    "                                   subsample=(1, 1))(conv_3)\n",
    "\n",
    "        conv_3 = BatchNormalization()(conv_3)\n",
    "        conv_4 = Convolution2D(nb_filters, nb_conv, nb_conv, border_mode='same', activation='relu', subsample=(1, 1))(\n",
    "            conv_3)\n",
    "        flat = Flatten()(conv_4)\n",
    "        hidden = Dense(intermediate_dim, activation='relu', name='intermed')(flat)\n",
    "\n",
    "        self.z_mean = Dense(latent_dim, name='z_mean')(hidden)\n",
    "        self.z_log_var = Dense(latent_dim, name='z_log_var')(hidden)\n",
    "\n",
    "\n",
    "        # note that \"output_shape\" isn't necessary with the TensorFlow backend\n",
    "        # so you could write `Lambda(sampling)([z_mean, z_log_var])`\n",
    "        z = Lambda(self.sampling, output_shape=(latent_dim,))([self.z_mean, self.z_log_var])\n",
    "\n",
    "        ## ==== End of encoding portion ======\n",
    "\n",
    "        ## ==== Crossfire classifier =========\n",
    "#         c = Lambda(self.crosser, output_shape=(latent_dim,))(self.z_mean, self.z_log_var)\n",
    "        classer = Dense(n_classes, init='normal', activation='softmax', name='classer')(self.z_mean)\n",
    "\n",
    "        # Slicer example\n",
    "        # y = Lambda(lambda x: x[:,0,:,:], output_shape=(1,) + input_shape[2:])(x)\n",
    "\n",
    "\n",
    "        size2r = input_shape[0]//2#14\n",
    "        size2c = input_shape[1]//2#14\n",
    "        size3r = input_shape[0]+1#29\n",
    "        size3c = input_shape[1]+1#29\n",
    "\n",
    "        \n",
    "        # we instantiate these layers separately so as to reuse them later\n",
    "        decoder_hid = Dense(intermediate_dim, activation='relu')\n",
    "        decoder_upsample = Dense(nb_filters * size2r * size2c, activation='relu')\n",
    "\n",
    "        if K_backend.image_dim_ordering() == 'th':\n",
    "            output_shape = (batch_size, nb_filters, size2r, size2c)\n",
    "        else:\n",
    "            output_shape = (batch_size, size2r, size2c, nb_filters)\n",
    "\n",
    "        decoder_reshape = Reshape(output_shape[1:])\n",
    "        decoder_deconv_1 = Deconvolution2D(nb_filters, nb_conv, nb_conv, output_shape, border_mode='same', subsample=(1, 1), activation='relu')\n",
    "        decoder_deconv_2 = Deconvolution2D(nb_filters, nb_conv, nb_conv, output_shape, border_mode='same', subsample=(1, 1), activation='relu')\n",
    "        if K_backend.image_dim_ordering() == 'th':\n",
    "            output_shape = (batch_size, nb_filters, size3r, size3c)\n",
    "        else:\n",
    "            output_shape = (batch_size, size3r, size3c, nb_filters)\n",
    "        decoder_deconv_3_upsamp = Deconvolution2D(nb_filters, 2, 2, output_shape,\n",
    "                                                  border_mode='valid', subsample=(2, 2), activation='relu')\n",
    "        decoder_mean_squash = Convolution2D(self.img_chns, 2, 2, border_mode='valid', \n",
    "                                            activation='sigmoid', name='main_output')\n",
    "\n",
    "        hid_decoded = decoder_hid(z)\n",
    "        up_decoded = decoder_upsample(hid_decoded)\n",
    "        reshape_decoded = decoder_reshape(up_decoded)\n",
    "        deconv_1_decoded = decoder_deconv_1(reshape_decoded)\n",
    "        deconv_2_decoded = decoder_deconv_2(deconv_1_decoded)\n",
    "        x_decoded_relu = decoder_deconv_3_upsamp(deconv_2_decoded)\n",
    "        x_decoded_mean_squash = decoder_mean_squash(x_decoded_relu)\n",
    "\n",
    "        \n",
    "\n",
    "        # build a digit generator that can sample from the learned distribution\n",
    "        # todo: (un)roll this\n",
    "        decoder_input = Input(shape=(latent_dim,))\n",
    "        _hid_decoded = decoder_hid(decoder_input)\n",
    "        _up_decoded = decoder_upsample(_hid_decoded)\n",
    "        _reshape_decoded = decoder_reshape(_up_decoded)\n",
    "        _deconv_1_decoded = decoder_deconv_1(_reshape_decoded)\n",
    "        _deconv_2_decoded = decoder_deconv_2(_deconv_1_decoded)\n",
    "        _x_decoded_relu = decoder_deconv_3_upsamp(_deconv_2_decoded)\n",
    "        _x_decoded_mean_squash = decoder_mean_squash(_x_decoded_relu)\n",
    "        \n",
    "\n",
    "        \n",
    "        # Generate models\n",
    "        # Primary model - VAE\n",
    "        self.model = Model(x, x_decoded_mean_squash)\n",
    "        # Crossfilre network\n",
    "        self.classifier = Model(x, classer)\n",
    "        # Ok, now comes the tricky part. See these references:\n",
    "        # https://keras.io/getting-started/functional-api-guide/#multi-input-and-multi-output-models\n",
    "        self.crossmodel = Model(input=x, output=[x_decoded_mean_squash, classer])\n",
    "        self.crossmodel.compile(optimizer='rmsprop',\n",
    "                               loss={'main_output': self.vae_loss,\n",
    "                                    'classer': 'categorical_crossentropy'},\n",
    "                               loss_weights={'main_output': 1.0,\n",
    "                                            'classer': 5.0})\n",
    "        \n",
    "        # build a model to project inputs on the latent space\n",
    "        self.encoder = Model(x, self.z_mean)\n",
    "        # reconstruct digits from latent space        \n",
    "        self.generator = Model(decoder_input, _x_decoded_mean_squash)\n",
    "        self.model.compile(optimizer='rmsprop', loss=self.vae_loss)\n",
    "        self.classifier.compile(loss='categorical_crossentropy', optimizer='adam', metrics=['accuracy'])\n",
    "#         self.classifier.compile(loss=self.custom_crossent, optimizer='adam', metrics=['accuracy'])\n",
    "\n",
    "        \n",
    "    def fit_crossmodel(self, x_dict, y_dict, batch_size=None, nb_epoch=10, verbose=1, callbacks=[], validation_split=0.,\n",
    "            validation_data=None, shuffle=True, class_weight=None, sample_weight=None):\n",
    "        callbacks_history = self.crossmodel.fit(x_dict, y_dict, batch_size, nb_epoch, verbose, callbacks, validation_split,\n",
    "                                           validation_data, shuffle, class_weight, sample_weight)\n",
    "        return callbacks_history\n",
    "\n",
    "    def sampling(self, args):\n",
    "        z_mean, z_log_var = args\n",
    "        epsilon = K_backend.random_normal(shape=(self.batch_size, self.latent_dim),\n",
    "                                          mean=0., std=self.epsilon_std)\n",
    "        return z_mean + K_backend.exp(z_log_var) * epsilon\n",
    "    \n",
    "    def crosser(self, args):\n",
    "        z_mean, z_log_var = args\n",
    "        return z_mean\n",
    "\n",
    "    def vae_loss(self, x, x_decoded_mean):\n",
    "        # NOTE: binary_crossentropy expects a batch_size by dim\n",
    "        # for x and x_decoded_mean, so we MUST flatten these!\n",
    "        x = K_backend.flatten(x)\n",
    "        x_decoded_mean = K_backend.flatten(x_decoded_mean)\n",
    "        xent_loss = self.img_rows * self.img_cols * objectives.binary_crossentropy(x, x_decoded_mean)\n",
    "        kl_loss = - 0.5 * K_backend.mean(1 + self.z_log_var - K_backend.square(self.z_mean) - K_backend.exp(self.z_log_var), axis=-1)\n",
    "        return xent_loss + kl_loss\n",
    "    \n",
    "    def custom_crossent(self, y_true, y_pred):\n",
    "        '''Just another crossentropy'''\n",
    "        \n",
    "#         y_pred = K_backend.clip(y_pred, self.epsilon_ce, 1.0 - self.epsilon_ce)\n",
    "#         y_pred /= K_backend.sum(y_pred, axis=-1, keepdims=True)\n",
    "        cce = K_backend.categorical_crossentropy(y_pred, y_true)\n",
    "        return cce\n",
    "    \n",
    "    \n",
    "\n",
    "    def fit(self, x, y, batch_size=None, nb_epoch=10, verbose=1, callbacks=[], validation_split=0.,\n",
    "            validation_data=None, shuffle=True, class_weight=None, sample_weight=None):\n",
    "        callbacks_history = self.model.fit(x, y, batch_size, nb_epoch, verbose, callbacks, validation_split,\n",
    "                                           validation_data, shuffle, class_weight, sample_weight)\n",
    "        return callbacks_history\n",
    "\n",
    "    def fit_ae(self, x, batch_size=None, nb_epoch=10, verbose=1, callbacks=[], validation_split=0.,\n",
    "            validation_data=None, shuffle=True, class_weight=None, sample_weight=None):\n",
    "        callbacks_history = self.model.fit(x, x, batch_size, nb_epoch, verbose, callbacks, validation_split,\n",
    "                                           validation_data, shuffle, class_weight, sample_weight)\n",
    "        return callbacks_history\n",
    "    \n",
    "    def crossfit(self, x, y, batch_size=None, nb_epoch_ae=5, nb_epoch_cf=10, verbose=1, callbacks=[], validation_split=0.,\n",
    "            validation_data=None, shuffle=True, class_weight=None, sample_weight=None):\n",
    "        valid_ae, valid_cf = validation_data\n",
    "        for i in range(nb_epoch_ae):\n",
    "            callbacks_history = self.model.fit(x, x, batch_size, 1, verbose, callbacks, validation_split,\n",
    "                                           valid_ae, shuffle, class_weight, sample_weight)\n",
    "        for i in range(nb_epoch_cf):\n",
    "            callbacks_history = self.classifier.fit(x, y, batch_size, 1, verbose, callbacks, validation_split,\n",
    "                                           valid_cf, shuffle, class_weight, sample_weight)\n",
    "        return callbacks_history"
   ]
  },
  {
   "cell_type": "code",
   "execution_count": null,
   "metadata": {
    "collapsed": true
   },
   "outputs": [],
   "source": []
  },
  {
   "cell_type": "code",
   "execution_count": 22,
   "metadata": {
    "collapsed": false
   },
   "outputs": [],
   "source": [
    "vaeclass = Crossfire(input_shape=(14,28,1), latent_dim=6, n_stax=3)\n",
    "vae = vaeclass.model\n",
    "encoder = vaeclass.encoder\n",
    "generator = vaeclass.generator\n",
    "classifier = vaeclass.classifier\n",
    "crosser = vaeclass.crossmodel"
   ]
  },
  {
   "cell_type": "code",
   "execution_count": 23,
   "metadata": {
    "collapsed": false
   },
   "outputs": [
    {
     "name": "stdout",
     "output_type": "stream",
     "text": [
      "____________________________________________________________________________________________________\n",
      "Layer (type)                     Output Shape          Param #     Connected to                     \n",
      "====================================================================================================\n",
      "main_input (InputLayer)          (100, 14, 28, 1)      0                                            \n",
      "____________________________________________________________________________________________________\n",
      "convolution2d_22 (Convolution2D) (100, 14, 28, 1)      5           main_input[0][0]                 \n",
      "____________________________________________________________________________________________________\n",
      "convolution2d_23 (Convolution2D) (100, 7, 14, 64)      320         convolution2d_22[0][0]           \n",
      "____________________________________________________________________________________________________\n",
      "convolution2d_24 (Convolution2D) (100, 7, 14, 64)      36928       convolution2d_23[0][0]           \n",
      "____________________________________________________________________________________________________\n",
      "batchnormalization_13 (BatchNorma(100, 7, 14, 64)      128         convolution2d_24[0][0]           \n",
      "____________________________________________________________________________________________________\n",
      "dropout_10 (Dropout)             (100, 7, 14, 64)      0           batchnormalization_13[0][0]      \n",
      "____________________________________________________________________________________________________\n",
      "convolution2d_25 (Convolution2D) (100, 7, 14, 64)      36928       dropout_10[0][0]                 \n",
      "____________________________________________________________________________________________________\n",
      "batchnormalization_14 (BatchNorma(100, 7, 14, 64)      128         convolution2d_25[0][0]           \n",
      "____________________________________________________________________________________________________\n",
      "dropout_11 (Dropout)             (100, 7, 14, 64)      0           batchnormalization_14[0][0]      \n",
      "____________________________________________________________________________________________________\n",
      "convolution2d_26 (Convolution2D) (100, 7, 14, 64)      36928       dropout_11[0][0]                 \n",
      "____________________________________________________________________________________________________\n",
      "batchnormalization_15 (BatchNorma(100, 7, 14, 64)      128         convolution2d_26[0][0]           \n",
      "____________________________________________________________________________________________________\n",
      "dropout_12 (Dropout)             (100, 7, 14, 64)      0           batchnormalization_15[0][0]      \n",
      "____________________________________________________________________________________________________\n",
      "convolution2d_27 (Convolution2D) (100, 7, 14, 64)      36928       dropout_12[0][0]                 \n",
      "____________________________________________________________________________________________________\n",
      "batchnormalization_16 (BatchNorma(100, 7, 14, 64)      128         convolution2d_27[0][0]           \n",
      "____________________________________________________________________________________________________\n",
      "convolution2d_28 (Convolution2D) (100, 7, 14, 64)      36928       batchnormalization_16[0][0]      \n",
      "____________________________________________________________________________________________________\n",
      "flatten_4 (Flatten)              (100, 6272)           0           convolution2d_28[0][0]           \n",
      "____________________________________________________________________________________________________\n",
      "intermed (Dense)                 (100, 256)            1605888     flatten_4[0][0]                  \n",
      "____________________________________________________________________________________________________\n",
      "z_mean (Dense)                   (100, 6)              1542        intermed[0][0]                   \n",
      "____________________________________________________________________________________________________\n",
      "z_log_var (Dense)                (100, 6)              1542        intermed[0][0]                   \n",
      "____________________________________________________________________________________________________\n",
      "lambda_4 (Lambda)                (100, 6)              0           z_mean[0][0]                     \n",
      "                                                                   z_log_var[0][0]                  \n",
      "____________________________________________________________________________________________________\n",
      "dense_6 (Dense)                  multiple              1792        lambda_4[0][0]                   \n",
      "____________________________________________________________________________________________________\n",
      "dense_7 (Dense)                  multiple              1611904     dense_6[0][0]                    \n",
      "____________________________________________________________________________________________________\n",
      "reshape_3 (Reshape)              multiple              0           dense_7[0][0]                    \n",
      "____________________________________________________________________________________________________\n",
      "deconvolution2d_7 (Deconvolution2multiple              36928       reshape_3[0][0]                  \n",
      "____________________________________________________________________________________________________\n",
      "deconvolution2d_8 (Deconvolution2multiple              36928       deconvolution2d_7[0][0]          \n",
      "____________________________________________________________________________________________________\n",
      "deconvolution2d_9 (Deconvolution2multiple              16448       deconvolution2d_8[0][0]          \n",
      "____________________________________________________________________________________________________\n",
      "main_output (Convolution2D)      multiple              257         deconvolution2d_9[0][0]          \n",
      "====================================================================================================\n",
      "Total params: 3498706\n",
      "____________________________________________________________________________________________________\n"
     ]
    }
   ],
   "source": [
    "vae.summary()"
   ]
  },
  {
   "cell_type": "code",
   "execution_count": 10,
   "metadata": {
    "collapsed": false
   },
   "outputs": [],
   "source": [
    "import keras.utils.visualize_util\n",
    "keras.utils.visualize_util.plot(vae, 'vaex.png', show_shapes=True)\n",
    "keras.utils.visualize_util.plot(crosser, 'vaex_cross.png', show_shapes=True)\n",
    "keras.utils.visualize_util.plot(classifier, 'vaex_cls.png', show_shapes=True)\n",
    "\n",
    "# plt.show()\n"
   ]
  },
  {
   "cell_type": "code",
   "execution_count": 24,
   "metadata": {
    "collapsed": false
   },
   "outputs": [
    {
     "data": {
      "text/plain": [
       "(14, 14)"
      ]
     },
     "execution_count": 24,
     "metadata": {},
     "output_type": "execute_result"
    }
   ],
   "source": [
    "x = scipy.ndimage.zoom(x_train[0], .5)\n",
    "x.shape"
   ]
  },
  {
   "cell_type": "code",
   "execution_count": 25,
   "metadata": {
    "collapsed": false
   },
   "outputs": [
    {
     "name": "stdout",
     "output_type": "stream",
     "text": [
      "((60000, 14, 28), (10000, 14, 28))\n"
     ]
    }
   ],
   "source": [
    "(x_train, y_train), (x_test, y_test) = mnist.load_data()\n",
    "x_train14 = np.zeros((x_train.shape[0], 14, 14))\n",
    "x_test14 = np.zeros((x_test.shape[0], 14, 14))\n",
    "for i in range(x_train.shape[0]):\n",
    "    scipy.ndimage.zoom(x_train[i], .5, x_train14[i])\n",
    "for i in range(x_test.shape[0]):\n",
    "    scipy.ndimage.zoom(x_test[i], .5, x_test14[i])\n",
    "    \n",
    "x_train14 = np.concatenate([x_train14, np.fliplr(x_train14)], axis=2)\n",
    "x_test14 = np.concatenate([x_test14, np.fliplr(x_test14)], axis=2)\n",
    "\n",
    "print(x_train14.shape, x_test14.shape)\n"
   ]
  },
  {
   "cell_type": "code",
   "execution_count": 26,
   "metadata": {
    "collapsed": false
   },
   "outputs": [
    {
     "name": "stdout",
     "output_type": "stream",
     "text": [
      "('original shape: ', (60000, 14, 28))\n",
      "((14, 28, 1), (60000, 14, 28, 1))\n",
      "((10000, 14, 28), (10000, 14, 28, 1))\n"
     ]
    }
   ],
   "source": [
    "# train the VAE on MNIST digits\n",
    "print('original shape: ', x_train14.shape)\n",
    "original_img_size = vaeclass.original_img_size\n",
    "tensor_size = (x_train14.shape[0],) + original_img_size\n",
    "batch_size = 100\n",
    "print(original_img_size, tensor_size)\n",
    "x_train14 = x_train14.astype('float32') / 255.\n",
    "x_train14 = x_train14.reshape(tensor_size)\n",
    "x_test14 = x_test14.astype('float32') / 255.\n",
    "tensor_size = (x_test14.shape[0],) + original_img_size\n",
    "print(x_test14.shape, tensor_size)\n",
    "x_test14 = x_test14.reshape(tensor_size)"
   ]
  },
  {
   "cell_type": "code",
   "execution_count": 27,
   "metadata": {
    "collapsed": false
   },
   "outputs": [
    {
     "name": "stdout",
     "output_type": "stream",
     "text": [
      "((60000,), (10000, 10))\n",
      "('x_train.shape:', (60000, 28, 28))\n",
      "('x_train.shape:', (60000, 28, 28))\n"
     ]
    }
   ],
   "source": [
    "# one hot encode outputs\n",
    "y_train_oh = np_utils.to_categorical(y_train)\n",
    "y_test_oh = np_utils.to_categorical(y_test)\n",
    "num_classes = y_test_oh.shape[1]\n",
    "print(y_train.shape, y_test_oh.shape)\n",
    "print('x_train.shape:', x_train.shape)\n",
    "print('x_train.shape:', x_train.shape)"
   ]
  },
  {
   "cell_type": "markdown",
   "metadata": {},
   "source": [
    "### Important note: it looks like the model should be trained 1 epoch on VAE only, then 5ish on mixed, and then the remainder on classifier"
   ]
  },
  {
   "cell_type": "code",
   "execution_count": 28,
   "metadata": {
    "collapsed": false
   },
   "outputs": [
    {
     "name": "stdout",
     "output_type": "stream",
     "text": [
      "Train on 60000 samples, validate on 10000 samples\n",
      "Epoch 1/1\n",
      "60000/60000 [==============================] - 421s - loss: 81.3248 - val_loss: 70.6034\n"
     ]
    },
    {
     "data": {
      "text/plain": [
       "<keras.callbacks.History at 0x7f616a3a07d0>"
      ]
     },
     "execution_count": 28,
     "metadata": {},
     "output_type": "execute_result"
    }
   ],
   "source": [
    "vae.fit(x_train14, x_train14,\n",
    "        shuffle=True,\n",
    "        nb_epoch=1,\n",
    "        batch_size=batch_size,\n",
    "        validation_data=(x_test14, x_test14))"
   ]
  },
  {
   "cell_type": "code",
   "execution_count": 40,
   "metadata": {
    "collapsed": false
   },
   "outputs": [
    {
     "name": "stdout",
     "output_type": "stream",
     "text": [
      "Train on 60000 samples, validate on 10000 samples\n",
      "Epoch 1/5\n",
      "60000/60000 [==============================] - 49s - loss: 38.3246 - main_output_loss: 32.5606 - classer_loss: 1.1528 - val_loss: 35.9823 - val_main_output_loss: 32.9633 - val_classer_loss: 0.6038\n",
      "Epoch 2/5\n",
      "60000/60000 [==============================] - 48s - loss: 32.7821 - main_output_loss: 30.3526 - classer_loss: 0.4859 - val_loss: 31.7657 - val_main_output_loss: 29.4726 - val_classer_loss: 0.4586\n",
      "Epoch 3/5\n",
      "60000/60000 [==============================] - 48s - loss: 30.9240 - main_output_loss: 29.0966 - classer_loss: 0.3655 - val_loss: 31.7957 - val_main_output_loss: 29.8289 - val_classer_loss: 0.3934\n",
      "Epoch 4/5\n",
      "60000/60000 [==============================] - 48s - loss: 29.8445 - main_output_loss: 28.2976 - classer_loss: 0.3094 - val_loss: 31.5708 - val_main_output_loss: 29.3970 - val_classer_loss: 0.4348\n",
      "Epoch 5/5\n",
      "60000/60000 [==============================] - 47s - loss: 29.1093 - main_output_loss: 27.7439 - classer_loss: 0.2731 - val_loss: 39.3708 - val_main_output_loss: 35.9544 - val_classer_loss: 0.6833\n"
     ]
    },
    {
     "data": {
      "text/plain": [
       "<keras.callbacks.History at 0x7f748770ddd0>"
      ]
     },
     "execution_count": 40,
     "metadata": {},
     "output_type": "execute_result"
    }
   ],
   "source": [
    "vaeclass.fit_crossmodel(x_train14, {'main_output': x_train14, 'classer': y_train_oh}, \n",
    "        shuffle=True, batch_size=100, validation_data=(x_test14, {'main_output':x_test14, 'classer':y_test_oh}), \n",
    "        nb_epoch=5)"
   ]
  },
  {
   "cell_type": "code",
   "execution_count": null,
   "metadata": {
    "collapsed": false
   },
   "outputs": [],
   "source": []
  },
  {
   "cell_type": "code",
   "execution_count": null,
   "metadata": {
    "collapsed": false
   },
   "outputs": [],
   "source": [
    "# vaeclass.crossfit(x_train, y_train_oh, shuffle=True, batch_size=100, validation_data=((x_test, x_test), (x_test, y_test_oh)), \n",
    "#         nb_epoch_ae=1, nb_epoch_cf=1)"
   ]
  },
  {
   "cell_type": "code",
   "execution_count": 43,
   "metadata": {
    "collapsed": false
   },
   "outputs": [
    {
     "name": "stdout",
     "output_type": "stream",
     "text": [
      "Train on 60000 samples, validate on 10000 samples\n",
      "Epoch 1/100\n",
      "60000/60000 [==============================] - 31s - loss: 0.0823 - acc: 0.9718 - val_loss: 0.2533 - val_acc: 0.9332\n",
      "Epoch 2/100\n",
      "60000/60000 [==============================] - 31s - loss: 0.0695 - acc: 0.9761 - val_loss: 0.2753 - val_acc: 0.9332\n",
      "Epoch 3/100\n",
      "60000/60000 [==============================] - 31s - loss: 0.0636 - acc: 0.9783 - val_loss: 0.2742 - val_acc: 0.9351\n",
      "Epoch 4/100\n",
      "60000/60000 [==============================] - 31s - loss: 0.0556 - acc: 0.9812 - val_loss: 0.3337 - val_acc: 0.9203\n",
      "Epoch 5/100\n",
      "60000/60000 [==============================] - 30s - loss: 0.0540 - acc: 0.9816 - val_loss: 0.3353 - val_acc: 0.9197\n",
      "Epoch 6/100\n",
      "60000/60000 [==============================] - 31s - loss: 0.0455 - acc: 0.9844 - val_loss: 0.3180 - val_acc: 0.9293\n",
      "Epoch 7/100\n",
      "60000/60000 [==============================] - 30s - loss: 0.0457 - acc: 0.9843 - val_loss: 0.3217 - val_acc: 0.9322\n",
      "Epoch 8/100\n",
      "60000/60000 [==============================] - 30s - loss: 0.0367 - acc: 0.9868 - val_loss: 0.4305 - val_acc: 0.9020\n",
      "Epoch 9/100\n",
      "60000/60000 [==============================] - 30s - loss: 0.0432 - acc: 0.9856 - val_loss: 0.4016 - val_acc: 0.9138\n",
      "Epoch 10/100\n",
      "60000/60000 [==============================] - 30s - loss: 0.0357 - acc: 0.9881 - val_loss: 0.3599 - val_acc: 0.9340\n",
      "Epoch 11/100\n",
      "60000/60000 [==============================] - 31s - loss: 0.0328 - acc: 0.9886 - val_loss: 0.3859 - val_acc: 0.9272\n",
      "Epoch 12/100\n",
      "60000/60000 [==============================] - 30s - loss: 0.0338 - acc: 0.9887 - val_loss: 0.3914 - val_acc: 0.9299\n",
      "Epoch 13/100\n",
      "60000/60000 [==============================] - 30s - loss: 0.0295 - acc: 0.9903 - val_loss: 0.3554 - val_acc: 0.9316\n",
      "Epoch 14/100\n",
      "60000/60000 [==============================] - 30s - loss: 0.0329 - acc: 0.9889 - val_loss: 0.3992 - val_acc: 0.9268\n",
      "Epoch 15/100\n",
      "60000/60000 [==============================] - 30s - loss: 0.0280 - acc: 0.9906 - val_loss: 0.4036 - val_acc: 0.9231\n",
      "Epoch 16/100\n",
      "60000/60000 [==============================] - 30s - loss: 0.0278 - acc: 0.9910 - val_loss: 0.6221 - val_acc: 0.8688\n",
      "Epoch 17/100\n",
      "60000/60000 [==============================] - 30s - loss: 0.0217 - acc: 0.9924 - val_loss: 0.4738 - val_acc: 0.9210\n",
      "Epoch 18/100\n",
      "60000/60000 [==============================] - 30s - loss: 0.0301 - acc: 0.9904 - val_loss: 0.3895 - val_acc: 0.9300\n",
      "Epoch 19/100\n",
      "60000/60000 [==============================] - 30s - loss: 0.0228 - acc: 0.9923 - val_loss: 0.3741 - val_acc: 0.9342\n",
      "Epoch 20/100\n",
      "60000/60000 [==============================] - 30s - loss: 0.0219 - acc: 0.9929 - val_loss: 0.4857 - val_acc: 0.9186\n",
      "Epoch 21/100\n",
      "60000/60000 [==============================] - 30s - loss: 0.0226 - acc: 0.9925 - val_loss: 0.4014 - val_acc: 0.9330\n",
      "Epoch 22/100\n",
      "60000/60000 [==============================] - 30s - loss: 0.0250 - acc: 0.9919 - val_loss: 0.3887 - val_acc: 0.9348\n",
      "Epoch 23/100\n",
      "60000/60000 [==============================] - 30s - loss: 0.0233 - acc: 0.9925 - val_loss: 0.4281 - val_acc: 0.9308\n",
      "Epoch 24/100\n",
      "60000/60000 [==============================] - 30s - loss: 0.0251 - acc: 0.9919 - val_loss: 0.4107 - val_acc: 0.9352\n",
      "Epoch 25/100\n",
      "60000/60000 [==============================] - 30s - loss: 0.0177 - acc: 0.9947 - val_loss: 0.4343 - val_acc: 0.9312\n",
      "Epoch 26/100\n",
      "60000/60000 [==============================] - 31s - loss: 0.0204 - acc: 0.9932 - val_loss: 0.4200 - val_acc: 0.9298\n",
      "Epoch 27/100\n",
      "60000/60000 [==============================] - 31s - loss: 0.0162 - acc: 0.9947 - val_loss: 0.4109 - val_acc: 0.9345\n",
      "Epoch 28/100\n",
      "60000/60000 [==============================] - 31s - loss: 0.0220 - acc: 0.9930 - val_loss: 0.4252 - val_acc: 0.9340\n",
      "Epoch 29/100\n",
      "60000/60000 [==============================] - 31s - loss: 0.0199 - acc: 0.9935 - val_loss: 0.4514 - val_acc: 0.9280\n",
      "Epoch 30/100\n",
      "60000/60000 [==============================] - 31s - loss: 0.0184 - acc: 0.9941 - val_loss: 0.4270 - val_acc: 0.9302\n",
      "Epoch 31/100\n",
      "60000/60000 [==============================] - 31s - loss: 0.0172 - acc: 0.9944 - val_loss: 0.4176 - val_acc: 0.9340\n",
      "Epoch 32/100\n",
      "60000/60000 [==============================] - 31s - loss: 0.0144 - acc: 0.9955 - val_loss: 0.4110 - val_acc: 0.9376\n",
      "Epoch 33/100\n",
      "60000/60000 [==============================] - 31s - loss: 0.0193 - acc: 0.9937 - val_loss: 0.4578 - val_acc: 0.9274\n",
      "Epoch 34/100\n",
      "60000/60000 [==============================] - 31s - loss: 0.0152 - acc: 0.9951 - val_loss: 0.4506 - val_acc: 0.9291\n",
      "Epoch 35/100\n",
      "60000/60000 [==============================] - 31s - loss: 0.0154 - acc: 0.9949 - val_loss: 0.4544 - val_acc: 0.9289\n",
      "Epoch 36/100\n",
      "60000/60000 [==============================] - 31s - loss: 0.0154 - acc: 0.9950 - val_loss: 0.4194 - val_acc: 0.9338\n",
      "Epoch 37/100\n",
      "60000/60000 [==============================] - 30s - loss: 0.0193 - acc: 0.9937 - val_loss: 1.1686 - val_acc: 0.8150\n",
      "Epoch 38/100\n",
      "60000/60000 [==============================] - 31s - loss: 0.0181 - acc: 0.9943 - val_loss: 0.4211 - val_acc: 0.9352\n",
      "Epoch 39/100\n",
      "60000/60000 [==============================] - 31s - loss: 0.0125 - acc: 0.9961 - val_loss: 0.4082 - val_acc: 0.9405\n",
      "Epoch 40/100\n",
      "60000/60000 [==============================] - 31s - loss: 0.0133 - acc: 0.9961 - val_loss: 0.4942 - val_acc: 0.9259\n",
      "Epoch 41/100\n",
      "60000/60000 [==============================] - 30s - loss: 0.0174 - acc: 0.9945 - val_loss: 0.4367 - val_acc: 0.9345\n",
      "Epoch 42/100\n",
      "60000/60000 [==============================] - 31s - loss: 0.0129 - acc: 0.9959 - val_loss: 0.4889 - val_acc: 0.9309\n",
      "Epoch 43/100\n",
      "60000/60000 [==============================] - 31s - loss: 0.0124 - acc: 0.9960 - val_loss: 0.4491 - val_acc: 0.9374\n",
      "Epoch 44/100\n",
      "60000/60000 [==============================] - 31s - loss: 0.0182 - acc: 0.9942 - val_loss: 0.4710 - val_acc: 0.9294\n",
      "Epoch 45/100\n",
      "60000/60000 [==============================] - 31s - loss: 0.0114 - acc: 0.9966 - val_loss: 0.4253 - val_acc: 0.9391\n",
      "Epoch 46/100\n",
      "60000/60000 [==============================] - 31s - loss: 0.0128 - acc: 0.9962 - val_loss: 0.4544 - val_acc: 0.9346\n",
      "Epoch 47/100\n",
      "60000/60000 [==============================] - 31s - loss: 0.0133 - acc: 0.9958 - val_loss: 0.4367 - val_acc: 0.9329\n",
      "Epoch 48/100\n",
      "60000/60000 [==============================] - 30s - loss: 0.0121 - acc: 0.9962 - val_loss: 0.4759 - val_acc: 0.9367\n",
      "Epoch 49/100\n",
      "60000/60000 [==============================] - 30s - loss: 0.0130 - acc: 0.9960 - val_loss: 0.5691 - val_acc: 0.9281\n",
      "Epoch 50/100\n",
      "60000/60000 [==============================] - 30s - loss: 0.0111 - acc: 0.9968 - val_loss: 0.4477 - val_acc: 0.9343\n",
      "Epoch 51/100\n",
      "60000/60000 [==============================] - 30s - loss: 0.0155 - acc: 0.9956 - val_loss: 0.5362 - val_acc: 0.9179\n",
      "Epoch 52/100\n",
      "60000/60000 [==============================] - 30s - loss: 0.0132 - acc: 0.9961 - val_loss: 0.4611 - val_acc: 0.9344\n",
      "Epoch 53/100\n",
      "60000/60000 [==============================] - 30s - loss: 0.0100 - acc: 0.9968 - val_loss: 0.5174 - val_acc: 0.9290\n",
      "Epoch 54/100\n",
      "60000/60000 [==============================] - 30s - loss: 0.0141 - acc: 0.9958 - val_loss: 0.5761 - val_acc: 0.9218\n",
      "Epoch 55/100\n",
      "60000/60000 [==============================] - 30s - loss: 0.0099 - acc: 0.9969 - val_loss: 0.4590 - val_acc: 0.9339\n",
      "Epoch 56/100\n",
      "60000/60000 [==============================] - 30s - loss: 0.0129 - acc: 0.9959 - val_loss: 0.4947 - val_acc: 0.9315\n",
      "Epoch 57/100\n",
      "60000/60000 [==============================] - 30s - loss: 0.0115 - acc: 0.9963 - val_loss: 0.4754 - val_acc: 0.9354\n",
      "Epoch 58/100\n",
      "60000/60000 [==============================] - 30s - loss: 0.0069 - acc: 0.9978 - val_loss: 0.4717 - val_acc: 0.9394\n",
      "Epoch 59/100\n",
      "60000/60000 [==============================] - 30s - loss: 0.0119 - acc: 0.9965 - val_loss: 0.4682 - val_acc: 0.9305\n",
      "Epoch 60/100\n",
      "60000/60000 [==============================] - 30s - loss: 0.0092 - acc: 0.9972 - val_loss: 0.4931 - val_acc: 0.9368\n",
      "Epoch 61/100\n",
      "60000/60000 [==============================] - 30s - loss: 0.0124 - acc: 0.9965 - val_loss: 0.4776 - val_acc: 0.9354\n",
      "Epoch 62/100\n",
      "60000/60000 [==============================] - 30s - loss: 0.0093 - acc: 0.9973 - val_loss: 0.5229 - val_acc: 0.9317\n",
      "Epoch 63/100\n",
      "60000/60000 [==============================] - 30s - loss: 0.0110 - acc: 0.9968 - val_loss: 0.4751 - val_acc: 0.9357\n",
      "Epoch 64/100\n",
      "60000/60000 [==============================] - 30s - loss: 0.0084 - acc: 0.9974 - val_loss: 0.5169 - val_acc: 0.9319\n",
      "Epoch 65/100\n",
      "60000/60000 [==============================] - 30s - loss: 0.0124 - acc: 0.9964 - val_loss: 0.4357 - val_acc: 0.9371\n",
      "Epoch 66/100\n",
      "60000/60000 [==============================] - 30s - loss: 0.0099 - acc: 0.9970 - val_loss: 0.4854 - val_acc: 0.9390\n",
      "Epoch 67/100\n",
      "60000/60000 [==============================] - 30s - loss: 0.0102 - acc: 0.9968 - val_loss: 0.4685 - val_acc: 0.9334\n",
      "Epoch 68/100\n",
      "60000/60000 [==============================] - 30s - loss: 0.0069 - acc: 0.9980 - val_loss: 0.4470 - val_acc: 0.9373\n",
      "Epoch 69/100\n",
      "60000/60000 [==============================] - 30s - loss: 0.0098 - acc: 0.9969 - val_loss: 0.4747 - val_acc: 0.9343\n",
      "Epoch 70/100\n",
      "60000/60000 [==============================] - 30s - loss: 0.0099 - acc: 0.9969 - val_loss: 0.4884 - val_acc: 0.9294\n",
      "Epoch 71/100\n",
      "60000/60000 [==============================] - 30s - loss: 0.0100 - acc: 0.9969 - val_loss: 0.5114 - val_acc: 0.9342\n",
      "Epoch 72/100\n",
      "60000/60000 [==============================] - 30s - loss: 0.0097 - acc: 0.9968 - val_loss: 0.4705 - val_acc: 0.9364\n",
      "Epoch 73/100\n",
      "60000/60000 [==============================] - 30s - loss: 0.0063 - acc: 0.9980 - val_loss: 0.4657 - val_acc: 0.9346\n",
      "Epoch 74/100\n",
      "60000/60000 [==============================] - 30s - loss: 0.0060 - acc: 0.9982 - val_loss: 0.4608 - val_acc: 0.9340\n",
      "Epoch 75/100\n",
      "60000/60000 [==============================] - 30s - loss: 0.0113 - acc: 0.9965 - val_loss: 0.5593 - val_acc: 0.9271\n",
      "Epoch 76/100\n",
      "60000/60000 [==============================] - 30s - loss: 0.0111 - acc: 0.9969 - val_loss: 0.5123 - val_acc: 0.9336\n",
      "Epoch 77/100\n",
      "60000/60000 [==============================] - 30s - loss: 0.0057 - acc: 0.9981 - val_loss: 0.4650 - val_acc: 0.9365\n",
      "Epoch 78/100\n",
      "60000/60000 [==============================] - 30s - loss: 0.0093 - acc: 0.9971 - val_loss: 0.4814 - val_acc: 0.9323\n",
      "Epoch 79/100\n",
      "60000/60000 [==============================] - 30s - loss: 0.0078 - acc: 0.9976 - val_loss: 0.4810 - val_acc: 0.9320\n",
      "Epoch 80/100\n",
      "60000/60000 [==============================] - 30s - loss: 0.0074 - acc: 0.9978 - val_loss: 0.5239 - val_acc: 0.9352\n",
      "Epoch 81/100\n",
      "60000/60000 [==============================] - 30s - loss: 0.0088 - acc: 0.9974 - val_loss: 0.5683 - val_acc: 0.9299\n",
      "Epoch 82/100\n",
      "60000/60000 [==============================] - 30s - loss: 0.0080 - acc: 0.9976 - val_loss: 0.5331 - val_acc: 0.9306\n",
      "Epoch 83/100\n",
      "60000/60000 [==============================] - 30s - loss: 0.0067 - acc: 0.9980 - val_loss: 0.5252 - val_acc: 0.9366\n",
      "Epoch 84/100\n",
      "60000/60000 [==============================] - 30s - loss: 0.0101 - acc: 0.9971 - val_loss: 0.5562 - val_acc: 0.9297\n",
      "Epoch 85/100\n",
      "60000/60000 [==============================] - 30s - loss: 0.0077 - acc: 0.9977 - val_loss: 0.4951 - val_acc: 0.9343\n",
      "Epoch 86/100\n",
      "60000/60000 [==============================] - 30s - loss: 0.0073 - acc: 0.9978 - val_loss: 0.5637 - val_acc: 0.9307\n",
      "Epoch 87/100\n",
      "60000/60000 [==============================] - 30s - loss: 0.0095 - acc: 0.9970 - val_loss: 0.4777 - val_acc: 0.9354\n",
      "Epoch 88/100\n",
      "60000/60000 [==============================] - 30s - loss: 0.0088 - acc: 0.9973 - val_loss: 0.4936 - val_acc: 0.9293\n",
      "Epoch 89/100\n",
      "60000/60000 [==============================] - 30s - loss: 0.0041 - acc: 0.9987 - val_loss: 0.4922 - val_acc: 0.9350\n",
      "Epoch 90/100\n",
      "60000/60000 [==============================] - 30s - loss: 0.0070 - acc: 0.9979 - val_loss: 0.5517 - val_acc: 0.9326\n",
      "Epoch 91/100\n",
      "60000/60000 [==============================] - 30s - loss: 0.0093 - acc: 0.9973 - val_loss: 0.5716 - val_acc: 0.9280\n",
      "Epoch 92/100\n",
      "60000/60000 [==============================] - 30s - loss: 0.0090 - acc: 0.9977 - val_loss: 0.5193 - val_acc: 0.9274\n",
      "Epoch 93/100\n",
      "60000/60000 [==============================] - 30s - loss: 0.0082 - acc: 0.9975 - val_loss: 0.8717 - val_acc: 0.8831\n",
      "Epoch 94/100\n",
      "60000/60000 [==============================] - 30s - loss: 0.0068 - acc: 0.9982 - val_loss: 0.4642 - val_acc: 0.9386\n",
      "Epoch 95/100\n",
      "60000/60000 [==============================] - 30s - loss: 0.0055 - acc: 0.9983 - val_loss: 0.5052 - val_acc: 0.9322\n",
      "Epoch 96/100\n",
      "60000/60000 [==============================] - 30s - loss: 0.0094 - acc: 0.9973 - val_loss: 0.4521 - val_acc: 0.9385\n",
      "Epoch 97/100\n",
      "60000/60000 [==============================] - 30s - loss: 0.0071 - acc: 0.9976 - val_loss: 1.2137 - val_acc: 0.8405\n",
      "Epoch 98/100\n",
      "60000/60000 [==============================] - 30s - loss: 0.0067 - acc: 0.9979 - val_loss: 0.5238 - val_acc: 0.9348\n",
      "Epoch 99/100\n",
      "60000/60000 [==============================] - 30s - loss: 0.0055 - acc: 0.9983 - val_loss: 0.4953 - val_acc: 0.9369\n",
      "Epoch 100/100\n",
      "60000/60000 [==============================] - 30s - loss: 0.0074 - acc: 0.9977 - val_loss: 0.5162 - val_acc: 0.9344\n"
     ]
    },
    {
     "data": {
      "text/plain": [
       "<keras.callbacks.History at 0x7f7494f7eed0>"
      ]
     },
     "execution_count": 43,
     "metadata": {},
     "output_type": "execute_result"
    }
   ],
   "source": [
    "classifier.fit(x_train14, y_train_oh, shuffle=True,batch_size=100, validation_data=(x_test14, y_test_oh), nb_epoch=100,)"
   ]
  },
  {
   "cell_type": "code",
   "execution_count": null,
   "metadata": {
    "collapsed": false
   },
   "outputs": [],
   "source": [
    "# display a 2D plot of the digit classes in the latent space\n",
    "x_test_encoded = encoder.predict(x_test, batch_size=batch_size)\n",
    "print(x_test_encoded.shape)"
   ]
  },
  {
   "cell_type": "code",
   "execution_count": null,
   "metadata": {
    "collapsed": false
   },
   "outputs": [],
   "source": [
    "plt.figure(figsize=(6, 6))\n",
    "plt.scatter(x_test_encoded[:, 0], x_test_encoded[:, 1], c=y_test)\n",
    "plt.show()"
   ]
  },
  {
   "cell_type": "code",
   "execution_count": null,
   "metadata": {
    "collapsed": false
   },
   "outputs": [],
   "source": [
    "x_train_encoded = encoder.predict(x_train, batch_size=batch_size)\n",
    "print(x_train_encoded.shape)"
   ]
  },
  {
   "cell_type": "code",
   "execution_count": null,
   "metadata": {
    "collapsed": false
   },
   "outputs": [],
   "source": [
    "plt.figure(figsize=(6, 6))\n",
    "plt.scatter(x_train_encoded[:, 0], x_train_encoded[:, 1], c=y_train)\n",
    "plt.show()"
   ]
  },
  {
   "cell_type": "code",
   "execution_count": null,
   "metadata": {
    "collapsed": false
   },
   "outputs": [],
   "source": [
    "plotstuff.Easy3dScatter(plt, x_test_encoded[:,:3], '', s=10, c=y_test )\n"
   ]
  },
  {
   "cell_type": "code",
   "execution_count": null,
   "metadata": {
    "collapsed": false
   },
   "outputs": [],
   "source": [
    "x_train_pred = classifier.predict(x_train, batch_size=batch_size)\n",
    "x_test_pred = classifier.predict(x_test, batch_size=batch_size)"
   ]
  },
  {
   "cell_type": "code",
   "execution_count": null,
   "metadata": {
    "collapsed": false
   },
   "outputs": [],
   "source": [
    "plt.plot(np.std(x_test_pred, axis=1))"
   ]
  },
  {
   "cell_type": "code",
   "execution_count": null,
   "metadata": {
    "collapsed": false
   },
   "outputs": [],
   "source": [
    "plt.plot(x_train_pred[0])"
   ]
  },
  {
   "cell_type": "code",
   "execution_count": null,
   "metadata": {
    "collapsed": false
   },
   "outputs": [],
   "source": [
    "ambig = np.sum(np.greater(x_train_pred, 0.5) == y_train_oh, axis=1)"
   ]
  },
  {
   "cell_type": "code",
   "execution_count": null,
   "metadata": {
    "collapsed": false
   },
   "outputs": [],
   "source": [
    "np.mean(ambig)"
   ]
  },
  {
   "cell_type": "code",
   "execution_count": null,
   "metadata": {
    "collapsed": false
   },
   "outputs": [],
   "source": [
    "score = classifier.evaluate(x_test, y_test_oh, batch_size=batch_size )"
   ]
  },
  {
   "cell_type": "code",
   "execution_count": null,
   "metadata": {
    "collapsed": false
   },
   "outputs": [],
   "source": [
    "score"
   ]
  },
  {
   "cell_type": "code",
   "execution_count": null,
   "metadata": {
    "collapsed": false
   },
   "outputs": [],
   "source": [
    "ambig = np.where(np.std(x_train_pred, axis=1) < 0.18)\n",
    "ambig"
   ]
  },
  {
   "cell_type": "code",
   "execution_count": null,
   "metadata": {
    "collapsed": false
   },
   "outputs": [],
   "source": [
    "n = 8853\n",
    "print(y_train[n], np.argmax(x_train_pred[n]))\n",
    "print(np.round(x_train_pred[n]*1000))\n",
    "plt.imshow(x_train[n].reshape(28,28))"
   ]
  },
  {
   "cell_type": "code",
   "execution_count": null,
   "metadata": {
    "collapsed": true
   },
   "outputs": [],
   "source": []
  }
 ],
 "metadata": {
  "kernelspec": {
   "display_name": "Python 2",
   "language": "python",
   "name": "python2"
  },
  "language_info": {
   "codemirror_mode": {
    "name": "ipython",
    "version": 2
   },
   "file_extension": ".py",
   "mimetype": "text/x-python",
   "name": "python",
   "nbconvert_exporter": "python",
   "pygments_lexer": "ipython2",
   "version": "2.7.11"
  }
 },
 "nbformat": 4,
 "nbformat_minor": 1
}
